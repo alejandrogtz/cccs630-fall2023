{
 "cells": [
  {
   "cell_type": "markdown",
   "metadata": {},
   "source": [
    "<a target=\"_blank\" href=\"https://colab.research.google.com/github/alejandrogtz/cccs630-fall2023/blob/main/module11/evolutionary_algorithms_introduction.ipynb\">\n",
    "<img src=\"https://colab.research.google.com/assets/colab-badge.svg\" alt=\"Open In Colab\"/></a>"
   ]
  },
  {
   "cell_type": "markdown",
   "metadata": {},
   "source": [
    "# Introduction to Evolutionary Algorithms\n",
    "\n",
    "## Introduction\n",
    "\n",
    "So far in this course, we have explored various types of structures and models that can exhibit complex behaviour or patterns, for example, network models, Markov models, system dynamics, etc. This module will focus on a process that uses complexity to find solutions to problems; we will study evolutionary algorithms and, in particular, genetic algorithms.\n",
    "\n",
    "Please watch the following TED talk that touches on several concepts covered in this course and the module in preparation for the interaction portion."
   ]
  },
  {
   "cell_type": "code",
   "execution_count": 1,
   "metadata": {},
   "outputs": [
    {
     "data": {
      "text/html": [
       "<iframe width=\"560\" height=\"315\" src=\"https://www.youtube.com/embed/D3zUmfDd79s\" frameborder=\"0\" allow=\"accelerometer; autoplay; clipboard-write; encrypted-media; gyroscope; picture-in-picture; web-share\" allowfullscreen></iframe>\n"
      ],
      "text/plain": [
       "<IPython.core.display.HTML object>"
      ]
     },
     "metadata": {},
     "output_type": "display_data"
    }
   ],
   "source": [
    "%%HTML\n",
    "<iframe width=\"560\" height=\"315\" src=\"https://www.youtube.com/embed/D3zUmfDd79s\" frameborder=\"0\" allow=\"accelerometer; autoplay; clipboard-write; encrypted-media; gyroscope; picture-in-picture; web-share\" allowfullscreen></iframe>"
   ]
  },
  {
   "cell_type": "markdown",
   "metadata": {},
   "source": [
    "## Concepts\n",
    "\n",
    "You will find a list of important concepts we will review in the module below.\n",
    "\n",
    "- Crossover\n",
    "- Evolution\n",
    "- Fitness landscape\n",
    "- Replicators\n",
    "- Mutation"
   ]
  },
  {
   "cell_type": "markdown",
   "metadata": {},
   "source": [
    "## Interaction"
   ]
  },
  {
   "cell_type": "markdown",
   "metadata": {},
   "source": [
    "In this interaction, we will review the genetic algorithm's fundamental process. The objective is to find a sentence that matches an initial target."
   ]
  },
  {
   "cell_type": "code",
   "execution_count": 66,
   "metadata": {},
   "outputs": [],
   "source": [
    "import random"
   ]
  },
  {
   "cell_type": "code",
   "execution_count": 67,
   "metadata": {},
   "outputs": [],
   "source": [
    "import pandas as pd"
   ]
  },
  {
   "cell_type": "code",
   "execution_count": 68,
   "metadata": {},
   "outputs": [],
   "source": [
    "# Generate a random character\n",
    "def random_char():\n",
    "    return chr(random.randint(32, 126))"
   ]
  },
  {
   "cell_type": "code",
   "execution_count": 69,
   "metadata": {},
   "outputs": [],
   "source": [
    "# Initialize a random individual\n",
    "def random_genome():\n",
    "    genome = ''.join(random_char() for _ in range(GENOME_LENGTH))\n",
    "    #print (genome)\n",
    "    return (genome)"
   ]
  },
  {
   "cell_type": "code",
   "execution_count": 70,
   "metadata": {},
   "outputs": [],
   "source": [
    "# Fitness function\n",
    "def fitness(genome):\n",
    "    return sum(ch1 == ch2 for ch1, ch2 in zip(genome, TARGET))"
   ]
  },
  {
   "cell_type": "code",
   "execution_count": 71,
   "metadata": {},
   "outputs": [],
   "source": [
    "# Crossover\n",
    "def crossover(parent1, parent2):\n",
    "    child = ''\n",
    "    for gp1, gp2 in zip(parent1, parent2):\n",
    "        child += gp1 if random.random() > 0.5 else gp2\n",
    "    return child"
   ]
  },
  {
   "cell_type": "code",
   "execution_count": 72,
   "metadata": {},
   "outputs": [],
   "source": [
    "# Mutation\n",
    "def mutate(genome):\n",
    "    genome = list(genome)\n",
    "    for i in range(len(genome)):\n",
    "        if random.random() < MUTATION_RATE:\n",
    "            genome[i] = random_char()\n",
    "    return ''.join(genome)"
   ]
  },
  {
   "cell_type": "code",
   "execution_count": 73,
   "metadata": {},
   "outputs": [],
   "source": [
    "# Main genetic algorithm\n",
    "def genetic_algorithm():\n",
    "    \n",
    "    df = pd.DataFrame()\n",
    "    \n",
    "    # A population of initial potential solutions is created\n",
    "    population = [random_genome() for _ in range(POP_SIZE)]\n",
    "    \n",
    "    df.insert(0, \"initial population\", population)\n",
    "\n",
    "    for generation in range(GENERATIONS):\n",
    "        population = sorted(population, key=lambda genome: -fitness(genome))\n",
    "\n",
    "        if fitness(population[0]) >= GENOME_LENGTH:\n",
    "            break\n",
    "\n",
    "        next_generation = population[:2]\n",
    "\n",
    "        for _ in range(int(len(population) / 2) - 1):\n",
    "            parent1 = random.choice(population[:50])\n",
    "            parent2 = random.choice(population[:50])\n",
    "            child1 = mutate(crossover(parent1, parent2))\n",
    "            child2 = mutate(crossover(parent1, parent2))\n",
    "            next_generation += [child1, child2]\n",
    "\n",
    "            \n",
    "        df1 = pd.DataFrame({generation: next_generation})    \n",
    "            \n",
    "        df = pd.concat((df,df1),axis=1)\n",
    "        \n",
    "        population = next_generation\n",
    "        \n",
    "        #print (next_generation)\n",
    "\n",
    "    df.to_excel('results.xlsx', index=False, header=True)\n",
    "    \n",
    "    return population[0], generation"
   ]
  },
  {
   "cell_type": "code",
   "execution_count": 78,
   "metadata": {},
   "outputs": [],
   "source": [
    "# Parameters\n",
    "TARGET = \"Hello World!\"\n",
    "POP_SIZE = 100\n",
    "GENOME_LENGTH = len(TARGET)\n",
    "GENERATIONS = 500\n",
    "MUTATION_RATE = 0.01"
   ]
  },
  {
   "cell_type": "code",
   "execution_count": 79,
   "metadata": {},
   "outputs": [
    {
     "name": "stdout",
     "output_type": "stream",
     "text": [
      "Fittest Genome: Hello World!, Generation: 44\n"
     ]
    }
   ],
   "source": [
    "# Run the GA\n",
    "fittest, generation = genetic_algorithm()\n",
    "print(f\"Fittest Genome: {fittest}, Generation: {generation}\")"
   ]
  },
  {
   "cell_type": "code",
   "execution_count": null,
   "metadata": {},
   "outputs": [],
   "source": []
  },
  {
   "cell_type": "markdown",
   "metadata": {},
   "source": [
    "## Optional Readings\n",
    "\n",
    "- Chapter 11 - Evolution, Pages 145 - 154. Downey, A. (2018). Think complexity: Complexity science and computational modeling (Second). O’Reilly Media. https://mcgill.on.worldcat.org/oclc/1043913738"
   ]
  }
 ],
 "metadata": {
  "anaconda-cloud": {},
  "kernelspec": {
   "display_name": "Python 3",
   "language": "python",
   "name": "python3"
  },
  "language_info": {
   "codemirror_mode": {
    "name": "ipython",
    "version": 3
   },
   "file_extension": ".py",
   "mimetype": "text/x-python",
   "name": "python",
   "nbconvert_exporter": "python",
   "pygments_lexer": "ipython3",
   "version": "3.8.8"
  }
 },
 "nbformat": 4,
 "nbformat_minor": 2
}
