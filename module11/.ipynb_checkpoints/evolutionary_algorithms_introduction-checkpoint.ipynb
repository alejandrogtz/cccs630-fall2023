{
 "cells": [
  {
   "cell_type": "markdown",
   "metadata": {},
   "source": [
    "<a target=\"_blank\" href=\"https://colab.research.google.com/github/alejandrogtz/cccs630-fall2023/blob/main/module11/evolutionary_algorithms_introduction.ipynb\">\n",
    "<img src=\"https://colab.research.google.com/assets/colab-badge.svg\" alt=\"Open In Colab\"/></a>"
   ]
  },
  {
   "cell_type": "markdown",
   "metadata": {},
   "source": [
    "# Introduction to Evolutionary Algorithms\n",
    "\n",
    "## Introduction\n",
    "\n",
    "So far in this course, we have explored various types of structures and models that can exhibit complex behaviour or patterns, for example, network models, Markov models, system dynamics, etc. This module will focus on a process that uses complexity to find solutions to problems; we will study evolutionary algorithms and, in particular, genetic algorithms.\n",
    "\n",
    "Please watch the following TED talk that touches on several concepts covered in this course and the module in preparation for the interaction portion."
   ]
  },
  {
   "cell_type": "code",
   "execution_count": null,
   "metadata": {},
   "outputs": [],
   "source": [
    "%%HTML\n",
    "<iframe width=\"560\" height=\"315\" src=\"https://www.youtube.com/embed/D3zUmfDd79s\" frameborder=\"0\" allow=\"accelerometer; autoplay; clipboard-write; encrypted-media; gyroscope; picture-in-picture; web-share\" allowfullscreen></iframe>"
   ]
  },
  {
   "cell_type": "markdown",
   "metadata": {},
   "source": [
    "## Concepts\n",
    "\n",
    "You will find a list of important concepts we will review in the module below.\n",
    "\n",
    "- Crossover\n",
    "- Evaluation function\n",
    "- Evolution\n",
    "- Fitness function\n",
    "- Mutation\n",
    "- Recombination"
   ]
  },
  {
   "cell_type": "markdown",
   "metadata": {},
   "source": [
    "## Interaction"
   ]
  },
  {
   "cell_type": "markdown",
   "metadata": {},
   "source": [
    "In this interaction, we will review the fundamental process genetic algorithms use. The objective is to find a sequence of characters that matches an initial target."
   ]
  },
  {
   "cell_type": "code",
   "execution_count": null,
   "metadata": {},
   "outputs": [],
   "source": [
    "import random"
   ]
  },
  {
   "cell_type": "code",
   "execution_count": null,
   "metadata": {},
   "outputs": [],
   "source": [
    "import pandas as pd"
   ]
  },
  {
   "cell_type": "code",
   "execution_count": null,
   "metadata": {},
   "outputs": [],
   "source": [
    "# Parameters\n",
    "TARGET = \"Hello World!\"\n",
    "POP_SIZE = 100\n",
    "GENOME_LENGTH = len(TARGET)\n",
    "GENERATIONS = 500\n",
    "MUTATION_RATE = 0.01"
   ]
  },
  {
   "cell_type": "code",
   "execution_count": null,
   "metadata": {},
   "outputs": [],
   "source": [
    "# Generate a random character\n",
    "def random_char():\n",
    "    return chr(random.randint(32, 126))"
   ]
  },
  {
   "cell_type": "code",
   "execution_count": null,
   "metadata": {},
   "outputs": [],
   "source": [
    "random_char()"
   ]
  },
  {
   "cell_type": "markdown",
   "metadata": {},
   "source": [
    "### Population Initialization\n",
    "\n",
    "Random values are used to initiate the population. "
   ]
  },
  {
   "cell_type": "code",
   "execution_count": null,
   "metadata": {},
   "outputs": [],
   "source": [
    "# Initialize a random individual\n",
    "def random_genome():\n",
    "    genome = ''.join(random_char() for _ in range(GENOME_LENGTH))\n",
    "    return (genome)"
   ]
  },
  {
   "cell_type": "code",
   "execution_count": null,
   "metadata": {},
   "outputs": [],
   "source": [
    "random_genome()"
   ]
  },
  {
   "cell_type": "markdown",
   "metadata": {},
   "source": [
    "### Fitness or Evaluation Function\n",
    "\n",
    "The fitness or evaluation function represents the requirements the population should adapt to meet. It forms the basis for selection, and so it facilitates improvements."
   ]
  },
  {
   "cell_type": "code",
   "execution_count": null,
   "metadata": {},
   "outputs": [],
   "source": [
    "# Fitness function\n",
    "def fitness(genome):\n",
    "    return sum(ch1 == ch2 for ch1, ch2 in zip(genome, TARGET))"
   ]
  },
  {
   "cell_type": "code",
   "execution_count": null,
   "metadata": {},
   "outputs": [],
   "source": [
    "fitness('&ez+3mWyvPAB')"
   ]
  },
  {
   "cell_type": "code",
   "execution_count": null,
   "metadata": {},
   "outputs": [],
   "source": [
    "fitness('Hk Sfx\"Fy(%\\!')"
   ]
  },
  {
   "cell_type": "markdown",
   "metadata": {},
   "source": [
    "### Crossover or Recombination\n",
    "\n",
    "A crossover or recombination operation merges information from two parent into one or two offsprings."
   ]
  },
  {
   "cell_type": "code",
   "execution_count": null,
   "metadata": {},
   "outputs": [],
   "source": [
    "# Crossover or recombination\n",
    "def crossover(parent1, parent2):\n",
    "    child = ''\n",
    "    for gp1, gp2 in zip(parent1, parent2):\n",
    "        child += gp1 if random.random() > 0.5 else gp2\n",
    "    return child"
   ]
  },
  {
   "cell_type": "code",
   "execution_count": null,
   "metadata": {},
   "outputs": [],
   "source": [
    "crossover('&ez+3mWyvPAB', 'Hk Sfx\"Fy(%\\!')"
   ]
  },
  {
   "cell_type": "markdown",
   "metadata": {},
   "source": [
    "### Mutation \n",
    "\n",
    "A mutation is a variation operation. Mutation produces a modified offspring and is always stochastic. This means the child depends on the outcomes of a series of random choices."
   ]
  },
  {
   "cell_type": "code",
   "execution_count": null,
   "metadata": {},
   "outputs": [],
   "source": [
    "# Mutation\n",
    "def mutate(genome):\n",
    "    genome = list(genome)\n",
    "    for i in range(len(genome)):\n",
    "        if random.random() < MUTATION_RATE:\n",
    "            genome[i] = random_char()\n",
    "    return ''.join(genome)"
   ]
  },
  {
   "cell_type": "code",
   "execution_count": null,
   "metadata": {},
   "outputs": [],
   "source": [
    "mutate('&ez+3mWyvPAB')"
   ]
  },
  {
   "cell_type": "code",
   "execution_count": null,
   "metadata": {},
   "outputs": [],
   "source": [
    "# Main genetic algorithm\n",
    "def genetic_algorithm():\n",
    "    \n",
    "    # A population of initial potential solutions is created\n",
    "    population = [random_genome() for _ in range(POP_SIZE)]\n",
    "    \n",
    "    df = pd.DataFrame({\"Initial Population\": population})    \n",
    "\n",
    "    for generation in range(GENERATIONS):\n",
    "        population = sorted(population, key=lambda genome: -fitness(genome))\n",
    "\n",
    "        if fitness(population[0]) >= GENOME_LENGTH:\n",
    "            break\n",
    "\n",
    "        next_generation = population[:2]\n",
    "        \n",
    "        #print (generation, '-----------')\n",
    "        #print (next_generation)\n",
    "\n",
    "        for _ in range(int(len(population) / 2) - 1):\n",
    "            parent1 = random.choice(population[:50])\n",
    "            \n",
    "            #print ('Parent 1', '-----------')\n",
    "            #print (parent1)\n",
    "            \n",
    "            parent2 = random.choice(population[:50])\n",
    "            child1 = mutate(crossover(parent1, parent2))\n",
    "            child2 = mutate(crossover(parent1, parent2))\n",
    "            next_generation += [child1, child2]\n",
    "      \n",
    "        df1 = pd.DataFrame({'Generation ' + str(generation + 1): next_generation})    \n",
    "            \n",
    "        df = pd.concat((df,df1),axis=1)\n",
    "        \n",
    "        population = next_generation\n",
    "\n",
    "    return population[0], generation, df"
   ]
  },
  {
   "cell_type": "code",
   "execution_count": null,
   "metadata": {},
   "outputs": [],
   "source": [
    "# Run the GA\n",
    "fittest, generation, df = genetic_algorithm()"
   ]
  },
  {
   "cell_type": "code",
   "execution_count": null,
   "metadata": {},
   "outputs": [],
   "source": [
    "print(f\"Fittest Genome: {fittest}, Generation: {generation}\")"
   ]
  },
  {
   "cell_type": "code",
   "execution_count": null,
   "metadata": {},
   "outputs": [],
   "source": [
    "df.to_excel('results.xlsx', index=False, header=True)"
   ]
  },
  {
   "cell_type": "markdown",
   "metadata": {},
   "source": [
    "## Optional Readings\n",
    "\n",
    "- Chapter 11 - Evolution. Downey, A. (2018). Think complexity: Complexity science and computational modeling (Second). O’Reilly Media. https://mcgill.on.worldcat.org/oclc/1043913738"
   ]
  }
 ],
 "metadata": {
  "anaconda-cloud": {},
  "kernelspec": {
   "display_name": "Python 3",
   "language": "python",
   "name": "python3"
  },
  "language_info": {
   "codemirror_mode": {
    "name": "ipython",
    "version": 3
   },
   "file_extension": ".py",
   "mimetype": "text/x-python",
   "name": "python",
   "nbconvert_exporter": "python",
   "pygments_lexer": "ipython3",
   "version": "3.8.8"
  }
 },
 "nbformat": 4,
 "nbformat_minor": 2
}
