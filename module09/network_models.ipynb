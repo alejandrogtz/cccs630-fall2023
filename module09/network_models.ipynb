{
 "cells": [
  {
   "cell_type": "markdown",
   "id": "c626d544",
   "metadata": {},
   "source": [
    "<a target=\"_blank\" href=\"https://colab.research.google.com/github/alejandrogtz/cccs630-fall2023/blob/main/module09/network_models.ipynb\">\n",
    "<img src=\"https://colab.research.google.com/assets/colab-badge.svg\" alt=\"Open In Colab\"/></a>"
   ]
  },
  {
   "cell_type": "markdown",
   "id": "5235b01e",
   "metadata": {},
   "source": [
    "# Network Models\n",
    "\n",
    "## Introduction\n",
    "\n",
    "So far in the course, we have studied various structures to model the location of different elements and relationships between them. For example, we employed 2D grids and cell proximity to represent the locations and connections between elements in the cellular automaton models and the agent-based simulations reviewed. This module will explore a different structure to represent more complex relationships: network models. \n",
    "\n",
    "In preparation for the live session, please watch the following video to learn about the importance of networks in our lives."
   ]
  },
  {
   "cell_type": "code",
   "execution_count": null,
   "id": "346c62d0",
   "metadata": {},
   "outputs": [],
   "source": [
    "%%HTML\n",
    "<iframe width=\"560\" height=\"315\" src=\"https://www.youtube.com/embed/RfgjHoVCZwU\" frameborder=\"0\" allow=\"accelerometer; autoplay; clipboard-write; encrypted-media; gyroscope; picture-in-picture; web-share\" allowfullscreen></iframe>"
   ]
  },
  {
   "cell_type": "markdown",
   "id": "118417f1",
   "metadata": {},
   "source": [
    "## Concepts\n",
    "\n",
    "You will find a list of important concepts we will review in the module below.\n",
    "\n",
    "- Centrality metrics\n",
    "- Connections\n",
    "- Edges\n",
    "- Networks\n",
    "- Network models\n",
    "- Network structures\n",
    "- Nodes\n",
    "- Vertices"
   ]
  },
  {
   "cell_type": "markdown",
   "id": "da170575",
   "metadata": {},
   "source": [
    "## Interaction"
   ]
  },
  {
   "cell_type": "markdown",
   "id": "d49c186b",
   "metadata": {},
   "source": [
    "In this interation, we will create a network model to explore and analyze web browsing patterns, and focus on the transition or switch between different websites (domains). \n",
    "\n",
    "We will utilize a sample data set extracted from a research study that tracked the web browsing behaviour of 2,148 German users for one month in 2018. The data has been anonymized and the participants authorized its collection via a tracking software installed on their personal computer.\n",
    "\n",
    "If you are interested, you can read more about the <a href=\"https://arxiv.org/abs/2012.15112\">research study</a> and access the <a href=\"https://zenodo.org/records/4757574\">research data</a> published. <b>Note that the research data contains links to sensitive content (adult websites, hate speech, etc.), so please be aware, and do not access or search unfamiliar websites</b>.\n",
    "\n",
    "### Instructions\n",
    "\n",
    "- Load the sample data into Jupyter.\n",
    "- Explore the loaded data.\n",
    "- Convert the data into a network model.\n",
    "- Explore and analyze the network model.\n",
    "\n",
    "### Initial Conditions, Assumptions, and Limitations\n",
    "\n",
    "- The research data follows a sequential order organized by user.\n",
    "- The network model focuses on the transitions between domains.\n",
    "- The network model represents a single user."
   ]
  },
  {
   "cell_type": "code",
   "execution_count": null,
   "id": "7dcbcc34",
   "metadata": {},
   "outputs": [],
   "source": [
    "import pandas as pd"
   ]
  },
  {
   "cell_type": "code",
   "execution_count": null,
   "id": "a7aee4a7",
   "metadata": {},
   "outputs": [],
   "source": [
    "import networkx as nx"
   ]
  },
  {
   "cell_type": "code",
   "execution_count": null,
   "id": "3bb0a031",
   "metadata": {},
   "outputs": [],
   "source": [
    "import matplotlib.pyplot as plt"
   ]
  },
  {
   "cell_type": "markdown",
   "id": "66428341",
   "metadata": {},
   "source": [
    "Load and explore the raw data. "
   ]
  },
  {
   "cell_type": "code",
   "execution_count": null,
   "id": "6b64f6c8",
   "metadata": {},
   "outputs": [],
   "source": [
    "# Load the data into Jupyter\n",
    "data = pd.read_excel('module09_data.xlsx', sheet_name='data')"
   ]
  },
  {
   "cell_type": "code",
   "execution_count": null,
   "id": "db3a62f0",
   "metadata": {},
   "outputs": [],
   "source": [
    "data"
   ]
  },
  {
   "cell_type": "code",
   "execution_count": null,
   "id": "c109a3ad",
   "metadata": {},
   "outputs": [],
   "source": [
    "# Group users by ID\n",
    "panelist_ids = data.groupby('panelist_id').size().reset_index(name='counts')"
   ]
  },
  {
   "cell_type": "code",
   "execution_count": null,
   "id": "476ad65d",
   "metadata": {},
   "outputs": [],
   "source": [
    "panelist_ids"
   ]
  },
  {
   "cell_type": "code",
   "execution_count": null,
   "id": "31a6f56b",
   "metadata": {},
   "outputs": [],
   "source": [
    "\"\"\"\n",
    "Use the panelist_id value to select the user you want to analyze\n",
    "\"\"\"\n",
    "# Filter a single user\n",
    "user_data = data[data['panelist_id'] == 1]"
   ]
  },
  {
   "cell_type": "code",
   "execution_count": null,
   "id": "133e9d21",
   "metadata": {},
   "outputs": [],
   "source": [
    "user_data"
   ]
  },
  {
   "cell_type": "code",
   "execution_count": null,
   "id": "65d5850c",
   "metadata": {},
   "outputs": [],
   "source": [
    "# Group records by category1\n",
    "visited_categories = user_data.groupby('category1').size().reset_index(name='counts')"
   ]
  },
  {
   "cell_type": "code",
   "execution_count": null,
   "id": "0e881b9b",
   "metadata": {},
   "outputs": [],
   "source": [
    "visited_categories"
   ]
  },
  {
   "cell_type": "code",
   "execution_count": null,
   "id": "55fb2b83",
   "metadata": {},
   "outputs": [],
   "source": [
    "# Group records by website (domain)\n",
    "visited_domains = user_data.groupby(['top_level_domain']).agg({\n",
    "    'active_seconds': 'sum',\n",
    "    'top_level_domain': 'count'\n",
    "}).rename(columns={'top_level_domain': 'total_visits','active_seconds':'total_active_seconds'}).reset_index()"
   ]
  },
  {
   "cell_type": "code",
   "execution_count": null,
   "id": "96d797c5",
   "metadata": {},
   "outputs": [],
   "source": [
    "visited_domains"
   ]
  },
  {
   "cell_type": "code",
   "execution_count": null,
   "id": "1c8cbebf",
   "metadata": {},
   "outputs": [],
   "source": [
    "visited_domains.to_excel('visited_domains.xlsx', index=False, header=True)"
   ]
  },
  {
   "cell_type": "markdown",
   "id": "b6d3ecd8",
   "metadata": {},
   "source": [
    "Convert the raw data into a data structure that can be used to create a network model."
   ]
  },
  {
   "cell_type": "code",
   "execution_count": null,
   "id": "b6cda1f6",
   "metadata": {},
   "outputs": [],
   "source": [
    "# Create an empty dictonary\n",
    "connections = {\n",
    "    'start_node': [],\n",
    "    'end_node': []\n",
    "}"
   ]
  },
  {
   "cell_type": "code",
   "execution_count": null,
   "id": "01d9372f",
   "metadata": {},
   "outputs": [],
   "source": [
    "# Identify and organize the start and end nodes\n",
    "for index, row in user_data.iterrows():\n",
    "    \n",
    "    linked_rows = user_data.loc[user_data['prev_id'] == row['id']]\n",
    "    \n",
    "    if (len(linked_rows)>0):\n",
    "        connections['start_node'].append(row['top_level_domain'])\n",
    "        connections['end_node'].append(linked_rows.iloc[0]['top_level_domain']) # Select the first row of the dataframe"
   ]
  },
  {
   "cell_type": "code",
   "execution_count": null,
   "id": "714b4f21",
   "metadata": {},
   "outputs": [],
   "source": [
    "connections"
   ]
  },
  {
   "cell_type": "code",
   "execution_count": null,
   "id": "08bb9011",
   "metadata": {},
   "outputs": [],
   "source": [
    "# Convert a dictionary into a dataframe\n",
    "connections = pd.DataFrame.from_dict(connections)"
   ]
  },
  {
   "cell_type": "code",
   "execution_count": null,
   "id": "c36dd158",
   "metadata": {},
   "outputs": [],
   "source": [
    "connections"
   ]
  },
  {
   "cell_type": "code",
   "execution_count": null,
   "id": "79e13484",
   "metadata": {},
   "outputs": [],
   "source": [
    "# Group the data by start and end nodes\n",
    "connections = connections.groupby(['start_node','end_node']).size().reset_index(name='count')"
   ]
  },
  {
   "cell_type": "code",
   "execution_count": null,
   "id": "f1e18c03",
   "metadata": {},
   "outputs": [],
   "source": [
    "connections"
   ]
  },
  {
   "cell_type": "code",
   "execution_count": null,
   "id": "a3446c56",
   "metadata": {},
   "outputs": [],
   "source": [
    "connections.to_excel('connections.xlsx', index=False, header=True)"
   ]
  },
  {
   "cell_type": "markdown",
   "id": "720e4229",
   "metadata": {},
   "source": [
    "Create the network model."
   ]
  },
  {
   "cell_type": "code",
   "execution_count": null,
   "id": "28432937",
   "metadata": {},
   "outputs": [],
   "source": [
    "# Create a directional graph\n",
    "G = nx.DiGraph()"
   ]
  },
  {
   "cell_type": "code",
   "execution_count": null,
   "id": "24465bbb",
   "metadata": {},
   "outputs": [],
   "source": [
    "# Add nodes and connections to the graph\n",
    "for index, row in connections.iterrows():\n",
    "    if (row['start_node']!=row['end_node']): # Ignore self-loop edges, an edge that connects a node to itself \n",
    "        if (not G.has_node(row['start_node'])):\n",
    "            G.add_node(row['start_node'])\n",
    "        if (not G.has_node(row['end_node'])):\n",
    "            G.add_node(row['end_node'])\n",
    "        G.add_edge(row['start_node'],row['end_node'], weight=row['count'])"
   ]
  },
  {
   "cell_type": "code",
   "execution_count": null,
   "id": "53441926",
   "metadata": {},
   "outputs": [],
   "source": [
    "# Print the number of nodes\n",
    "print('Nodes: ',G.number_of_nodes())"
   ]
  },
  {
   "cell_type": "code",
   "execution_count": null,
   "id": "643c04e4",
   "metadata": {},
   "outputs": [],
   "source": [
    "# Print the number of edges (connections)\n",
    "print('Edges: ',G.number_of_edges())"
   ]
  },
  {
   "cell_type": "markdown",
   "id": "f4ed185a",
   "metadata": {},
   "source": [
    "Explore the network model."
   ]
  },
  {
   "cell_type": "code",
   "execution_count": null,
   "id": "6b6507bb",
   "metadata": {},
   "outputs": [],
   "source": [
    "# Visualize the network.\n",
    "nx.draw(G,with_labels=True)"
   ]
  },
  {
   "cell_type": "code",
   "execution_count": null,
   "id": "ebf831f1",
   "metadata": {},
   "outputs": [],
   "source": [
    "pos = nx.spring_layout(G, seed=2)"
   ]
  },
  {
   "cell_type": "code",
   "execution_count": null,
   "id": "2d99dd45",
   "metadata": {},
   "outputs": [],
   "source": [
    "fig = plt.figure(1, figsize=(50, 50), dpi=200)\n",
    "nx.draw(G, pos, with_labels=True, node_color='lightblue', font_weight='normal', node_size=1500, width=1)"
   ]
  },
  {
   "cell_type": "code",
   "execution_count": null,
   "id": "4a4c57cc",
   "metadata": {},
   "outputs": [],
   "source": [
    "def get_node_labels(G):\n",
    "    return {node: data.get('label', node) for node, data in G.nodes(data=True)}"
   ]
  },
  {
   "cell_type": "code",
   "execution_count": null,
   "id": "ec03bd35",
   "metadata": {},
   "outputs": [],
   "source": [
    "node_labels = get_node_labels(G)"
   ]
  },
  {
   "cell_type": "code",
   "execution_count": null,
   "id": "ab935b64",
   "metadata": {
    "scrolled": true
   },
   "outputs": [],
   "source": [
    "fig = plt.figure(1, figsize=(50, 50), dpi=200)\n",
    "\n",
    "labels = nx.get_edge_attributes(G,'weight')\n",
    "\n",
    "nx.draw_networkx_edge_labels(G,pos,edge_labels=labels)\n",
    "nx.draw_networkx_labels(G, pos, labels=node_labels)\n",
    "nx.draw_networkx_nodes(G, pos, node_color='lightblue', node_size=1000)\n",
    "nx.draw_networkx_edges(G, pos, alpha=0.5, arrows=True, arrowstyle='-|>', arrowsize=20)\n",
    "\n",
    "plt.show()"
   ]
  },
  {
   "cell_type": "markdown",
   "id": "d0b8a33c",
   "metadata": {},
   "source": [
    "Analyze the network using three fundamental centrality metrics."
   ]
  },
  {
   "cell_type": "code",
   "execution_count": null,
   "id": "31f806cb",
   "metadata": {},
   "outputs": [],
   "source": [
    "# A degree centrality measures how many connections a node has. The higher the value, the more central the node is.\n",
    "nx.degree_centrality(G)"
   ]
  },
  {
   "cell_type": "code",
   "execution_count": null,
   "id": "b1532aba",
   "metadata": {},
   "outputs": [],
   "source": [
    "# Create a dataframe from a dictionary\n",
    "degree_centrality = pd.DataFrame.from_dict(nx.degree_centrality(G), orient='index',columns=['degree_centrality'])"
   ]
  },
  {
   "cell_type": "code",
   "execution_count": null,
   "id": "a720746d",
   "metadata": {},
   "outputs": [],
   "source": [
    "# Convert the dataframe index to a column and create a new index\n",
    "degree_centrality = degree_centrality.rename_axis('domain').reset_index()"
   ]
  },
  {
   "cell_type": "code",
   "execution_count": null,
   "id": "be47df52",
   "metadata": {},
   "outputs": [],
   "source": [
    "# Betweenness measures the node's importance in the flow of information through a network\n",
    "nx.betweenness_centrality(G)"
   ]
  },
  {
   "cell_type": "code",
   "execution_count": null,
   "id": "72ae51df",
   "metadata": {},
   "outputs": [],
   "source": [
    "betweenness_centrality = pd.DataFrame.from_dict(nx.betweenness_centrality(G), orient='index',columns=['betweenness_centrality'])"
   ]
  },
  {
   "cell_type": "code",
   "execution_count": null,
   "id": "c2530c29",
   "metadata": {},
   "outputs": [],
   "source": [
    "betweenness_centrality = betweenness_centrality.rename_axis('domain').reset_index()"
   ]
  },
  {
   "cell_type": "code",
   "execution_count": null,
   "id": "e986ae2f",
   "metadata": {},
   "outputs": [],
   "source": [
    "# Closeness centrality measures how close a node is to all other nodes in the network \n",
    "# Average of the shortest path length from the node to every other node in the network\n",
    "nx.closeness_centrality(G)"
   ]
  },
  {
   "cell_type": "code",
   "execution_count": null,
   "id": "ed4d11f7",
   "metadata": {},
   "outputs": [],
   "source": [
    "closeness_centrality = pd.DataFrame.from_dict(nx.closeness_centrality(G), orient='index',columns=['closeness_centrality'])"
   ]
  },
  {
   "cell_type": "code",
   "execution_count": null,
   "id": "366d206b",
   "metadata": {},
   "outputs": [],
   "source": [
    "closeness_centrality = closeness_centrality.rename_axis('domain').reset_index()"
   ]
  },
  {
   "cell_type": "code",
   "execution_count": null,
   "id": "a4498a50",
   "metadata": {},
   "outputs": [],
   "source": [
    "network_metrics = pd.merge(pd.merge(degree_centrality,betweenness_centrality,on='domain'),closeness_centrality,on='domain')"
   ]
  },
  {
   "cell_type": "code",
   "execution_count": null,
   "id": "e8ac5229",
   "metadata": {},
   "outputs": [],
   "source": [
    "def get_connections(node):\n",
    "    return(G.edges(node))"
   ]
  },
  {
   "cell_type": "code",
   "execution_count": null,
   "id": "700282f5",
   "metadata": {},
   "outputs": [],
   "source": [
    "# List the node's connections\n",
    "get_connections('gmx.net')"
   ]
  },
  {
   "cell_type": "code",
   "execution_count": null,
   "id": "19f8400f",
   "metadata": {},
   "outputs": [],
   "source": [
    "network_metrics['connections'] = network_metrics.apply(lambda row: len(get_connections(row['domain'])), axis = 1)"
   ]
  },
  {
   "cell_type": "code",
   "execution_count": null,
   "id": "9cb5107e",
   "metadata": {},
   "outputs": [],
   "source": [
    "def get_visits(node):\n",
    "    row = visited_domains[visited_domains.top_level_domain == node].iloc[0]\n",
    "    return(row['total_active_seconds'],row['total_visits'])"
   ]
  },
  {
   "cell_type": "code",
   "execution_count": null,
   "id": "3e0dc130",
   "metadata": {},
   "outputs": [],
   "source": [
    "network_metrics['total_active_seconds'], network_metrics['total_visits'] = zip(*network_metrics.apply(lambda row: get_visits(row['domain']), axis = 1))"
   ]
  },
  {
   "cell_type": "code",
   "execution_count": null,
   "id": "0fa1d0eb",
   "metadata": {},
   "outputs": [],
   "source": [
    "network_metrics = network_metrics.sort_values(by=['degree_centrality'], ascending=False)"
   ]
  },
  {
   "cell_type": "code",
   "execution_count": null,
   "id": "ebaa09c7",
   "metadata": {},
   "outputs": [],
   "source": [
    "network_metrics"
   ]
  },
  {
   "cell_type": "code",
   "execution_count": null,
   "id": "89134dd7",
   "metadata": {},
   "outputs": [],
   "source": [
    "network_metrics.to_excel('network_metrics.xlsx', index=False, header=True)"
   ]
  },
  {
   "cell_type": "markdown",
   "id": "5093030c",
   "metadata": {},
   "source": [
    "Extra Material - Information Disemination Simulation"
   ]
  },
  {
   "cell_type": "code",
   "execution_count": null,
   "id": "7afe17fd",
   "metadata": {},
   "outputs": [],
   "source": [
    "\"\"\"\n",
    "Adjust the initial spreader and the simulation steps\n",
    "\"\"\"\n",
    "initial_spreader = 'gmx.net'\n",
    "simulation_steps = 1"
   ]
  },
  {
   "cell_type": "code",
   "execution_count": null,
   "id": "b7eaf275",
   "metadata": {},
   "outputs": [],
   "source": [
    "# Reset the graph states\n",
    "for node in G.nodes():\n",
    "    G.nodes[node]['state'] = 'S' # Susceptible\n",
    "\n",
    "G.nodes[initial_spreader]['state'] = 'I' # Infected\n",
    "\n",
    "# Information spread based on the two-state model, infected and susceptible\n",
    "def spread_info(G):\n",
    "    new_spreaders = []\n",
    "    for node in G.nodes():\n",
    "        if G.nodes[node]['state'] == 'I':\n",
    "            for neighbor in G.neighbors(node):\n",
    "                if G.nodes[neighbor]['state'] == 'S':\n",
    "                    new_spreaders.append(neighbor)\n",
    "    \n",
    "    for new_spreader in new_spreaders:\n",
    "        G.nodes[new_spreader]['state'] = 'I'\n",
    "\n",
    "for _ in range(simulation_steps):\n",
    "    spread_info(G)\n",
    "\n",
    "# Visualization\n",
    "fig = plt.figure(1, figsize=(50, 50), dpi=50)\n",
    "color_map = {'S': 'lightblue', 'I': 'lightcoral'}\n",
    "colors = [color_map[G.nodes[node]['state']] for node in G.nodes()]\n",
    "nx.draw(G, pos, node_color=colors, with_labels=True, node_size=1500, width=1)\n",
    "plt.show()"
   ]
  },
  {
   "cell_type": "markdown",
   "id": "b2f82fe1",
   "metadata": {},
   "source": [
    "## Assignment \n",
    "\n",
    "### Conceptual Option\n",
    "\n",
    "Research how network modelling and analysis can be used to solve a problem or understand phenomena you would like to study. Use Google Scholar and the McGill Library to identify previous studies (research articles, book chapters, etc.) that have explored the same problem or phenomena before. Explain the problem or phenomena of interest and briefly summarize two of the identified studies. Submit a 2-3 page Word document with the summaries, descriptions, and insights. Reference the consulted sources using the APA format.\n",
    "\n",
    "### Hands-on Option\n",
    "\n",
    "Select the user ID 1137 and recreate the analysis followed in class. Use the metrics covered (connections, centrality metrics, active time, etc.) in the module to identify the important nodes and connections in the network. Briefly summarize the web browsing pattern of user 1137 and describe your insights. Submit a 1-2 page Word document with the produced graphs, descriptions, and insights. Reference the consulted sources using the APA format."
   ]
  },
  {
   "cell_type": "markdown",
   "id": "833e7a78",
   "metadata": {},
   "source": [
    "## Recommended Reading\n",
    "\n",
    "- Chapter 2 - Graphs. Downey, A. (2018). Think complexity: Complexity science and computational modeling (Second). O’Reilly Media. https://mcgill.on.worldcat.org/oclc/1043913738"
   ]
  },
  {
   "cell_type": "markdown",
   "id": "da85647c",
   "metadata": {},
   "source": [
    "## Optional Readings\n",
    "\n",
    "You will find additional resources in case you would like to continue exploring the topics covered in this module below.\n",
    "\n",
    "- Chapter 3 - Small World Graphs. Downey, A. (2018). Think complexity: Complexity science and computational modeling (Second). O’Reilly Media. https://mcgill.on.worldcat.org/oclc/1043913738\n",
    "- Chapter 4 - Scale-Free Networks. Downey, A. (2018). Think complexity: Complexity science and computational modeling (Second). O’Reilly Media. https://mcgill.on.worldcat.org/oclc/1043913738"
   ]
  }
 ],
 "metadata": {
  "kernelspec": {
   "display_name": "Python 3",
   "language": "python",
   "name": "python3"
  },
  "language_info": {
   "codemirror_mode": {
    "name": "ipython",
    "version": 3
   },
   "file_extension": ".py",
   "mimetype": "text/x-python",
   "name": "python",
   "nbconvert_exporter": "python",
   "pygments_lexer": "ipython3",
   "version": "3.8.8"
  }
 },
 "nbformat": 4,
 "nbformat_minor": 5
}
