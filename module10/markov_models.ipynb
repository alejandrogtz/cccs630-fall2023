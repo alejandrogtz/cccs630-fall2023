{
 "cells": [
  {
   "cell_type": "markdown",
   "id": "4f2d8e2f",
   "metadata": {},
   "source": [
    "<a target=\"_blank\" href=\"https://colab.research.google.com/github/alejandrogtz/cccs630-fall2023/blob/main/module10/markov_models.ipynb\">\n",
    "<img src=\"https://colab.research.google.com/assets/colab-badge.svg\" alt=\"Open In Colab\"/></a>"
   ]
  },
  {
   "cell_type": "markdown",
   "id": "5235b01e",
   "metadata": {},
   "source": [
    "# Markov Models\n",
    "\n",
    "## Introduction"
   ]
  },
  {
   "cell_type": "markdown",
   "id": "290a950a",
   "metadata": {},
   "source": [
    "In this module, we will explore a different type of model, a Markov model. Markov models are useful for studying the behaviour or decisions of actors or agents in a complex system. \n",
    "\n",
    "In preparation for the interaction portion, please watch the following video published by Harvard Online."
   ]
  },
  {
   "cell_type": "code",
   "execution_count": 1,
   "id": "61d7856a",
   "metadata": {},
   "outputs": [
    {
     "data": {
      "text/html": [
       "<iframe width=\"560\" height=\"315\" src=\"https://www.youtube.com/embed/JHwyHIz6a8A\" frameborder=\"0\" allow=\"accelerometer; autoplay; clipboard-write; encrypted-media; gyroscope; picture-in-picture; web-share\" allowfullscreen></iframe>\n"
      ],
      "text/plain": [
       "<IPython.core.display.HTML object>"
      ]
     },
     "metadata": {},
     "output_type": "display_data"
    }
   ],
   "source": [
    "%%HTML\n",
    "<iframe width=\"560\" height=\"315\" src=\"https://www.youtube.com/embed/JHwyHIz6a8A\" frameborder=\"0\" allow=\"accelerometer; autoplay; clipboard-write; encrypted-media; gyroscope; picture-in-picture; web-share\" allowfullscreen></iframe>"
   ]
  },
  {
   "cell_type": "markdown",
   "id": "118417f1",
   "metadata": {},
   "source": [
    "## Concepts\n",
    "\n",
    "You will find a list of important concepts we will review in the module below.\n",
    "\n",
    "- Markov chain\n",
    "- Markov model\n",
    "- Stochastic model\n",
    "- Transition matrix"
   ]
  },
  {
   "cell_type": "markdown",
   "id": "da170575",
   "metadata": {},
   "source": [
    "## Interaction"
   ]
  },
  {
   "cell_type": "markdown",
   "id": "1997874b",
   "metadata": {},
   "source": [
    "Markov models are mathematical representations of stochastic systems or processes that evolve over time. A stochastic system is a random system we can describe and study using probabilistic methods.\n",
    "\n",
    "There are multiple types of Markov models. In this interaction, we will review the most fundamental type: Markov chains. A Markov chain consists of a sequence of states, transitions between these states, and a probability that the transition occurs. As a result, the connected states form a chain or network. The connections between states and transition probabilities are described using a transition matrix.\n",
    "\n",
    "One of the main characteristics of Markov models is that the future state depends only on its current state and not on its previous states. This is known as the Markov property. Transitions between states are conditioned or dependent only on the state the system is in before the transition occurs.\n",
    "\n",
    "For example, let's model a system with four states using a Markov chain: S<sub>1</sub>, S<sub>2</sub>, S<sub>3</sub>, and S<sub>4</sub>. The transition probabilties of this four states system can be represented using the following matrix."
   ]
  },
  {
   "cell_type": "markdown",
   "id": "82a8dd46",
   "metadata": {},
   "source": [
    "$$\n",
    "P = \\begin{pmatrix}\n",
    "p_{11} & p_{12} & p_{13} & p_{14} \\\\\n",
    "p_{21} & p_{22} & p_{23} & p_{24} \\\\\n",
    "p_{31} & p_{23} & p_{33} & p_{34} \\\\\n",
    "p_{41} & p_{24} & p_{43} & p_{44}\n",
    "\\end{pmatrix}\n",
    "$$"
   ]
  },
  {
   "cell_type": "markdown",
   "id": "9c6e57b2",
   "metadata": {},
   "source": [
    "Then, the probabilities are replaced with actual numerical values obtained from the system, as in the following matrix. The sum of the probabilities of each row should total 1, which represents 100%."
   ]
  },
  {
   "cell_type": "markdown",
   "id": "c975fcca",
   "metadata": {},
   "source": [
    "$$\n",
    "P = \\begin{pmatrix}\n",
    "0.2 & 0.3 & 0.4 & 0.1 \\\\\n",
    "0.3 & 0.2 & 0.1 & 0.4 \\\\\n",
    "0.4 & 0.1 & 0.3 & 0.2 \\\\\n",
    "0.1 & 0.4 & 0.2 & 0.3 \\\\\n",
    "\\end{pmatrix}\n",
    "$$"
   ]
  },
  {
   "cell_type": "markdown",
   "id": "7dc06cd5",
   "metadata": {},
   "source": [
    "Now, let's assume the system is in stage S<sub>2</sub>. This means we must use the probabilities of the second row in the matrix. If we want to predict the next stage of the system, there is a 30% probability the next stage is S<sub>1</sub>, 20% the system will stay in S<sub>2</sub>, 10% of transitioning to S<sub>3</sub>, and 40% of transitioning to S<sub>4</sub> next."
   ]
  },
  {
   "cell_type": "markdown",
   "id": "88e1e35f",
   "metadata": {},
   "source": [
    "### Instructions\n",
    "\n",
    "- Create a Markov chain to study the web browsing behaviour of a user.\n",
    "- Use the categories assigned to the visited domains to create the model.\n",
    "- Select an initial state and predict the following states.\n",
    "- Identify relevant behaviour patterns. "
   ]
  },
  {
   "cell_type": "code",
   "execution_count": null,
   "id": "ca875c57",
   "metadata": {},
   "outputs": [],
   "source": [
    "import numpy as np\n",
    "import pandas as pd\n",
    "import networkx as nx\n",
    "import matplotlib.pyplot as plt\n",
    "from matplotlib import animation, rc\n",
    "from matplotlib.animation import FuncAnimation"
   ]
  },
  {
   "cell_type": "code",
   "execution_count": null,
   "id": "b0a731cc",
   "metadata": {},
   "outputs": [],
   "source": [
    "rc('animation', html='html5') # Specify the type of animation to be rendered"
   ]
  },
  {
   "cell_type": "code",
   "execution_count": null,
   "id": "d72b3832",
   "metadata": {},
   "outputs": [],
   "source": [
    "data = pd.read_excel('module09_data.xlsx', sheet_name='data') # Load the data into Jupyter"
   ]
  },
  {
   "cell_type": "code",
   "execution_count": null,
   "id": "aae7865b",
   "metadata": {},
   "outputs": [],
   "source": [
    "panelist_ids = data.groupby('panelist_id').size().reset_index(name='counts') # Group users by ID"
   ]
  },
  {
   "cell_type": "code",
   "execution_count": null,
   "id": "82e0ad40",
   "metadata": {},
   "outputs": [],
   "source": [
    "panelist_ids"
   ]
  },
  {
   "cell_type": "code",
   "execution_count": null,
   "id": "a39213f4",
   "metadata": {},
   "outputs": [],
   "source": [
    "\"\"\"\n",
    "Adjust the panelist_id value to select the user you want to analyze\n",
    "\"\"\"\n",
    "user_data = data[data['panelist_id'] == 1137] # Filter a single user "
   ]
  },
  {
   "cell_type": "code",
   "execution_count": null,
   "id": "4a6cb338",
   "metadata": {},
   "outputs": [],
   "source": [
    "user_data"
   ]
  },
  {
   "cell_type": "code",
   "execution_count": null,
   "id": "a7ec8fb9",
   "metadata": {},
   "outputs": [],
   "source": [
    "categories = user_data.groupby('category1').size().reset_index(name='counts') # Group records by category1"
   ]
  },
  {
   "cell_type": "code",
   "execution_count": null,
   "id": "842fff97",
   "metadata": {},
   "outputs": [],
   "source": [
    "\"\"\"\n",
    "Enter the number of categories, states in the Markov model, you want to use\n",
    "\"\"\"\n",
    "markov_states = 5"
   ]
  },
  {
   "cell_type": "code",
   "execution_count": null,
   "id": "b974f2dc",
   "metadata": {},
   "outputs": [],
   "source": [
    "# Select the top categories based on the entered number of Markov states\n",
    "categories = categories.sort_values(by=['counts'], ascending=False).head(markov_states)"
   ]
  },
  {
   "cell_type": "code",
   "execution_count": null,
   "id": "9ee427bf",
   "metadata": {},
   "outputs": [],
   "source": [
    "categories"
   ]
  },
  {
   "cell_type": "code",
   "execution_count": null,
   "id": "779170a8",
   "metadata": {},
   "outputs": [],
   "source": [
    "nodes = categories['category1'].tolist()"
   ]
  },
  {
   "cell_type": "code",
   "execution_count": null,
   "id": "ed9e8cfa",
   "metadata": {},
   "outputs": [],
   "source": [
    "nodes"
   ]
  },
  {
   "cell_type": "code",
   "execution_count": null,
   "id": "4d2bba48",
   "metadata": {},
   "outputs": [],
   "source": [
    "# Convert the sequential data into a data structure that can be used to create a network model\n",
    "connections = {\n",
    "    'start_node': [],\n",
    "    'end_node': []\n",
    "}\n",
    "\n",
    "for index, row in user_data.iterrows():\n",
    "    \n",
    "    record = user_data.loc[user_data['prev_id'] == row['id']]\n",
    "    \n",
    "    if (len(record)>0):\n",
    "        if (row['category1'] in nodes) & (record.iloc[0]['category1'] in nodes):\n",
    "            connections['start_node'].append(row['category1'])\n",
    "            connections['end_node'].append(record.iloc[0]['category1'])"
   ]
  },
  {
   "cell_type": "code",
   "execution_count": null,
   "id": "f994e1e7",
   "metadata": {},
   "outputs": [],
   "source": [
    "connections"
   ]
  },
  {
   "cell_type": "code",
   "execution_count": null,
   "id": "8cf9db1b",
   "metadata": {},
   "outputs": [],
   "source": [
    "connections = pd.DataFrame.from_dict(connections) # Create a dataframe from a dictionary"
   ]
  },
  {
   "cell_type": "code",
   "execution_count": null,
   "id": "d4c8eb4a",
   "metadata": {
    "scrolled": true
   },
   "outputs": [],
   "source": [
    "connections"
   ]
  },
  {
   "cell_type": "code",
   "execution_count": null,
   "id": "c4840e68",
   "metadata": {},
   "outputs": [],
   "source": [
    "connections = connections.groupby(['start_node','end_node']).size().reset_index(name='count')"
   ]
  },
  {
   "cell_type": "code",
   "execution_count": null,
   "id": "072507fd",
   "metadata": {},
   "outputs": [],
   "source": [
    "connections"
   ]
  },
  {
   "cell_type": "code",
   "execution_count": null,
   "id": "8da72a98",
   "metadata": {},
   "outputs": [],
   "source": [
    "# Create a directional graph\n",
    "G = nx.DiGraph()\n",
    "\n",
    "# Add nodes and connections to the graph\n",
    "for index, row in connections.iterrows():\n",
    "    if (not G.has_node(row['start_node'])):\n",
    "        G.add_node(row['start_node'])\n",
    "    if (not G.has_node(row['end_node'])):\n",
    "        G.add_node(row['end_node'])\n",
    "    G.add_edge(row['start_node'],row['end_node'], weight=row['count'])"
   ]
  },
  {
   "cell_type": "code",
   "execution_count": null,
   "id": "0a57da2d",
   "metadata": {},
   "outputs": [],
   "source": [
    "print('Nodes: ',G.number_of_nodes())"
   ]
  },
  {
   "cell_type": "code",
   "execution_count": null,
   "id": "802acbc0",
   "metadata": {},
   "outputs": [],
   "source": [
    "print('Edges: ',G.number_of_edges())"
   ]
  },
  {
   "cell_type": "code",
   "execution_count": null,
   "id": "00e49033",
   "metadata": {},
   "outputs": [],
   "source": [
    "pos = nx.spiral_layout(G)"
   ]
  },
  {
   "cell_type": "code",
   "execution_count": null,
   "id": "275f7cd3",
   "metadata": {
    "scrolled": true
   },
   "outputs": [],
   "source": [
    "fig = plt.figure(1, figsize=(10, 10), dpi=50)\n",
    "nx.draw(G, pos, with_labels=True, node_color='lightblue', font_weight='normal', node_size=1500, width=1)"
   ]
  },
  {
   "cell_type": "code",
   "execution_count": null,
   "id": "377a9fde",
   "metadata": {},
   "outputs": [],
   "source": [
    "nx.degree_centrality(G)"
   ]
  },
  {
   "cell_type": "code",
   "execution_count": null,
   "id": "dd1749f1",
   "metadata": {},
   "outputs": [],
   "source": [
    "nx.betweenness_centrality(G)"
   ]
  },
  {
   "cell_type": "code",
   "execution_count": null,
   "id": "d9960db1",
   "metadata": {},
   "outputs": [],
   "source": [
    "nx.closeness_centrality(G)"
   ]
  },
  {
   "cell_type": "markdown",
   "id": "339ac4e2",
   "metadata": {},
   "source": [
    "Creation and estimation of the transition matrix."
   ]
  },
  {
   "cell_type": "code",
   "execution_count": null,
   "id": "920dcba5",
   "metadata": {},
   "outputs": [],
   "source": [
    "transition_matrix = np.zeros((len(nodes), len(nodes))) "
   ]
  },
  {
   "cell_type": "code",
   "execution_count": null,
   "id": "ccb67eb0",
   "metadata": {},
   "outputs": [],
   "source": [
    "transition_matrix"
   ]
  },
  {
   "cell_type": "code",
   "execution_count": null,
   "id": "c0365070",
   "metadata": {},
   "outputs": [],
   "source": [
    "# Estimation of the transition probabilities\n",
    "for i in range(len(nodes)):\n",
    "\n",
    "    total = connections[connections['start_node'] == nodes[i]]['count'].sum()\n",
    "    for x in range(len(nodes)):\n",
    "        \n",
    "        w = connections[(connections['start_node'] == nodes[i]) & (connections['end_node'] == nodes[x])]['count'].head(1)\n",
    "        value = w.tolist()\n",
    "        if (len(value)>0):\n",
    "            transition_matrix[i,x] = value[0]/total"
   ]
  },
  {
   "cell_type": "code",
   "execution_count": null,
   "id": "85b38a99",
   "metadata": {},
   "outputs": [],
   "source": [
    "transition_matrix"
   ]
  },
  {
   "cell_type": "markdown",
   "id": "9f00b504",
   "metadata": {},
   "source": [
    "Prediction of the next states based on the current state."
   ]
  },
  {
   "cell_type": "code",
   "execution_count": null,
   "id": "f8d1e996",
   "metadata": {},
   "outputs": [],
   "source": [
    "states = nodes"
   ]
  },
  {
   "cell_type": "code",
   "execution_count": null,
   "id": "ae9c0fa8",
   "metadata": {},
   "outputs": [],
   "source": [
    "class MarkovChain:\n",
    "    def __init__(self, transition_matrix, states):\n",
    "        self.transition_matrix = np.array(transition_matrix)\n",
    "        self.states = states\n",
    "        self.index_dict = {self.states[index]: index for index in range(len(self.states))}\n",
    "        self.state_dict = {index: self.states[index] for index in range(len(self.states))}\n",
    "\n",
    "    def next_state(self, current_state):\n",
    "        return np.random.choice(\n",
    "            self.states, \n",
    "            p=self.transition_matrix[self.index_dict[current_state], :]\n",
    "        )\n",
    "\n",
    "    def generate_states(self, current_state, no=10):\n",
    "        future_states = []\n",
    "        for i in range(no):\n",
    "            next_st = self.next_state(current_state)\n",
    "            future_states.append(next_st)\n",
    "            current_state = next_st\n",
    "        return future_states"
   ]
  },
  {
   "cell_type": "code",
   "execution_count": null,
   "id": "cbfd5f50",
   "metadata": {},
   "outputs": [],
   "source": [
    "markov_chain = MarkovChain(transition_matrix=transition_matrix, states=states)"
   ]
  },
  {
   "cell_type": "code",
   "execution_count": null,
   "id": "efa42726",
   "metadata": {},
   "outputs": [],
   "source": [
    "\"\"\"\n",
    "Enter the initial state of the Makov chain\n",
    "\"\"\"\n",
    "initial_state = 'business'"
   ]
  },
  {
   "cell_type": "code",
   "execution_count": null,
   "id": "ccd9b6ed",
   "metadata": {},
   "outputs": [],
   "source": [
    "print(\"Next state after\", initial_state, \":\", markov_chain.next_state(current_state=initial_state))"
   ]
  },
  {
   "cell_type": "code",
   "execution_count": null,
   "id": "c9a42ba4",
   "metadata": {},
   "outputs": [],
   "source": [
    "\"\"\"\n",
    "Enter the number of steps (or decisions) you want to simulate\n",
    "\"\"\"\n",
    "steps = 100"
   ]
  },
  {
   "cell_type": "code",
   "execution_count": null,
   "id": "47b07271",
   "metadata": {},
   "outputs": [],
   "source": [
    "simulation_results = markov_chain.generate_states(current_state=initial_state, no=steps)"
   ]
  },
  {
   "cell_type": "code",
   "execution_count": null,
   "id": "bcf1b4ff",
   "metadata": {},
   "outputs": [],
   "source": [
    "print(\"Next,\", steps, \"states starting from\", initial_state ,\":\", simulation_results)"
   ]
  },
  {
   "cell_type": "markdown",
   "id": "629813d5",
   "metadata": {},
   "source": [
    "How likely the user will go to a determined state assume we start in state X\n",
    "Assuming a 3 changes of states, how likely we will see a certain combination.\n"
   ]
  },
  {
   "cell_type": "code",
   "execution_count": null,
   "id": "1707de42",
   "metadata": {},
   "outputs": [],
   "source": [
    "distributions = np.zeros((steps, len(states))) "
   ]
  },
  {
   "cell_type": "code",
   "execution_count": null,
   "id": "cecd6994",
   "metadata": {},
   "outputs": [],
   "source": [
    "cont = 0\n",
    "for x in simulation_results:\n",
    "    if (cont>0):\n",
    "        distributions[cont][:] = distributions[cont-1][:]\n",
    "    index = nodes.index(x)\n",
    "    distributions[cont][index] = distributions[cont][index]+1\n",
    "    cont = cont+1"
   ]
  },
  {
   "cell_type": "code",
   "execution_count": null,
   "id": "f53766f5",
   "metadata": {},
   "outputs": [],
   "source": [
    "distributions[steps-1]"
   ]
  },
  {
   "cell_type": "code",
   "execution_count": null,
   "id": "d8eb3a77",
   "metadata": {},
   "outputs": [],
   "source": [
    "y_limit = max(distributions[steps-1])"
   ]
  },
  {
   "cell_type": "code",
   "execution_count": null,
   "id": "8c40593f",
   "metadata": {},
   "outputs": [],
   "source": [
    "plt.rcParams['savefig.facecolor'] = 'white' # Eliminates the distortion of the graph text\n",
    "\n",
    "fig, ax = plt.subplots(figsize=(10,9))\n",
    "\n",
    "N = len(states) # Number of bars\n",
    "\n",
    "data = np.zeros(len(states)) # Initial data\n",
    "\n",
    "bars = ax.bar(states, data) # Setting up the bar chart\n",
    "\n",
    "ax.tick_params(axis='x', labelrotation=30)\n",
    "# Eventually, this shouldn't be needed and an `ha` argument should\n",
    "# be available for the above.\n",
    "plt.xticks(ha='right')\n",
    "\n",
    "ax.set_ylim(0, y_limit) # Set the axis limits\n",
    "\n",
    "step = [0] # Keep track of the frame (chart) we want to visualize \n",
    "\n",
    "def update(frame, step):\n",
    "\n",
    "    data = distributions[step[0]][:] \n",
    "\n",
    "    for bar, h in zip(bars, data):\n",
    "        bar.set_height(h)\n",
    "        \n",
    "    step[0] += 1  # Increase the step value by 1\n",
    "    return bars\n",
    "\n",
    "# TODO ADJUST A -2 inicial -1\n",
    "\n",
    "ani = FuncAnimation(fig, update, frames=steps-2, interval=100, fargs=(step,), repeat=False) # Create the animation"
   ]
  },
  {
   "cell_type": "code",
   "execution_count": null,
   "id": "60e8ab5e",
   "metadata": {},
   "outputs": [],
   "source": [
    "# Display the animation.\n",
    "ani"
   ]
  },
  {
   "cell_type": "markdown",
   "id": "53a6d060",
   "metadata": {},
   "source": [
    "## Assignment \n",
    "\n",
    "### Conceptual Option\n",
    "\n",
    "Pending.\n",
    "\n",
    "### Hands-on Option\n",
    "\n",
    "Pending.\n",
    "\n",
    "Adjust the number of states or nodes."
   ]
  },
  {
   "cell_type": "markdown",
   "id": "da85647c",
   "metadata": {},
   "source": [
    "## Optional Readings\n",
    "\n",
    "You will find additional resources in case you would like to continue exploring the topics covered in this module below.\n",
    "\n",
    "Pending."
   ]
  }
 ],
 "metadata": {
  "kernelspec": {
   "display_name": "Python 3 (ipykernel)",
   "language": "python",
   "name": "python3"
  },
  "language_info": {
   "codemirror_mode": {
    "name": "ipython",
    "version": 3
   },
   "file_extension": ".py",
   "mimetype": "text/x-python",
   "name": "python",
   "nbconvert_exporter": "python",
   "pygments_lexer": "ipython3",
   "version": "3.11.5"
  }
 },
 "nbformat": 4,
 "nbformat_minor": 5
}
