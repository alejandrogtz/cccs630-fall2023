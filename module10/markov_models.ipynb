{
 "cells": [
  {
   "cell_type": "markdown",
   "id": "5235b01e",
   "metadata": {},
   "source": [
    "# Markov Models\n",
    "\n",
    "## Introduction"
   ]
  },
  {
   "cell_type": "markdown",
   "id": "290a950a",
   "metadata": {},
   "source": [
    "In this module, we will explore a different type of model, a Markov model. Markov models are useful for studying the behaviour or decisions of actors or agents in a complex system. \n",
    "\n",
    "In preparation for the interaction portion, please watch the following video published by Harvard Online."
   ]
  },
  {
   "cell_type": "code",
   "execution_count": null,
   "id": "81cbe6ef",
   "metadata": {},
   "outputs": [],
   "source": [
    "%%HTML\n",
    "<iframe width=\"560\" height=\"315\" src=\"https://www.youtube.com/embed/JHwyHIz6a8A\" frameborder=\"0\" allow=\"accelerometer; autoplay; clipboard-write; encrypted-media; gyroscope; picture-in-picture; web-share\" allowfullscreen></iframe>"
   ]
  },
  {
   "cell_type": "markdown",
   "id": "118417f1",
   "metadata": {},
   "source": [
    "## Concepts\n",
    "\n",
    "You will find a list of important concepts we will review in the module below.\n",
    "\n",
    "- Markov model\n",
    "- Markov chain\n",
    "- Transition matrix"
   ]
  },
  {
   "cell_type": "markdown",
   "id": "da170575",
   "metadata": {},
   "source": [
    "## Interaction"
   ]
  },
  {
   "cell_type": "code",
   "execution_count": null,
   "id": "657855b8",
   "metadata": {},
   "outputs": [],
   "source": [
    "import numpy as np\n",
    "import matplotlib.pyplot as plt\n",
    "\n",
    "np.random.seed(3)\n",
    "StatesData = [\"Sunny\",\"Rainy\"]\n",
    "\n",
    "TransitionStates = [[\"SuSu\",\"SuRa\"],[\"RaRa\",\"RaSu\"]]\n",
    "TransitionMatrix = [[0.80,0.20],[0.25,0.75]]\n",
    "\n",
    "\n",
    "WeatherForecasting = list()\n",
    "NumDays = 365\n",
    "TodayPrediction = StatesData[0]\n",
    "\n",
    "print(\"Weather initial condition =\",TodayPrediction)\n",
    "\n",
    "\n",
    "for i in range(1, NumDays):\n",
    "    \n",
    "    if TodayPrediction == \"Sunny\":        \n",
    "        TransCondition = np.random.choice(TransitionStates[0],replace=True,p=TransitionMatrix[0])\n",
    "        if TransCondition == \"SuSu\":\n",
    "            pass\n",
    "        else:\n",
    "            TodayPrediction = \"Rainy\"\n",
    "\n",
    "\n",
    "            \n",
    "    elif TodayPrediction == \"Rainy\":\n",
    "        TransCondition = np.random.choice(TransitionStates[1],replace=True,p=TransitionMatrix[1])\n",
    "        if TransCondition == \"RaRa\":\n",
    "            pass\n",
    "        else:\n",
    "            TodayPrediction = \"Sunny\"\n",
    "\n",
    "            \n",
    "    WeatherForecasting.append(TodayPrediction) \n",
    "    print(TodayPrediction)\n",
    "\n",
    "\n",
    "plt.plot(WeatherForecasting)\n",
    "plt.show()\n",
    "\n",
    "plt.figure()\n",
    "plt.hist(WeatherForecasting)\n",
    "plt.show()"
   ]
  },
  {
   "cell_type": "code",
   "execution_count": null,
   "id": "8bfc8ef5",
   "metadata": {},
   "outputs": [],
   "source": [
    "import numpy as np\n",
    "\n",
    "class MarkovChain:\n",
    "    def __init__(self, transition_matrix, states):\n",
    "        self.transition_matrix = np.array(transition_matrix)\n",
    "        self.states = states\n",
    "        self.index_dict = {self.states[index]: index for index in range(len(self.states))}\n",
    "        self.state_dict = {index: self.states[index] for index in range(len(self.states))}\n",
    "\n",
    "    def next_state(self, current_state):\n",
    "        return np.random.choice(\n",
    "            self.states, \n",
    "            p=self.transition_matrix[self.index_dict[current_state], :]\n",
    "        )\n",
    "\n",
    "    def generate_states(self, current_state, no=10):\n",
    "        future_states = []\n",
    "        for i in range(no):\n",
    "            next_st = self.next_state(current_state)\n",
    "            future_states.append(next_st)\n",
    "            current_state = next_st\n",
    "        return future_states\n",
    "\n",
    "# Example usage:\n",
    "\n",
    "transition_matrix = [\n",
    "    [0.2, 0.3, 0.4, 0.1],\n",
    "    [0.3, 0.2, 0.1, 0.4],\n",
    "    [0.4, 0.1, 0.3, 0.2],\n",
    "    [0.1, 0.4, 0.2, 0.3]\n",
    "]\n",
    "\n",
    "states = ['A', 'B', 'C', 'D']\n",
    "\n",
    "markov_chain = MarkovChain(transition_matrix=transition_matrix, states=states)\n",
    "\n",
    "# Generate the next state given the current state is 'A'\n",
    "print(\"Next state after 'A':\", markov_chain.next_state(current_state='A'))\n",
    "\n",
    "# Generate the next 10 states starting from 'A'\n",
    "print(\"Next 10 states starting from 'A':\", markov_chain.generate_states(current_state='A', no=10))"
   ]
  },
  {
   "cell_type": "code",
   "execution_count": null,
   "id": "e26c5190",
   "metadata": {},
   "outputs": [],
   "source": [
    "import pandas as pd"
   ]
  },
  {
   "cell_type": "code",
   "execution_count": null,
   "id": "d72b3832",
   "metadata": {},
   "outputs": [],
   "source": [
    "# Load the data into Jupyter\n",
    "data = pd.read_excel('module09_data.xlsx', sheet_name='data')"
   ]
  },
  {
   "cell_type": "code",
   "execution_count": null,
   "id": "aae7865b",
   "metadata": {},
   "outputs": [],
   "source": [
    "# Group users by ID\n",
    "panelist_ids = data.groupby('panelist_id').size().reset_index(name='counts')"
   ]
  },
  {
   "cell_type": "code",
   "execution_count": null,
   "id": "a39213f4",
   "metadata": {},
   "outputs": [],
   "source": [
    "\"\"\"\n",
    "Adjust the panelist_id value to select the user you want to analyze\n",
    "\"\"\"\n",
    "# Filter a single user \n",
    "user_data = data[data['panelist_id'] == 1137]"
   ]
  },
  {
   "cell_type": "code",
   "execution_count": null,
   "id": "4a6cb338",
   "metadata": {},
   "outputs": [],
   "source": [
    "user_data"
   ]
  },
  {
   "cell_type": "code",
   "execution_count": null,
   "id": "a7ec8fb9",
   "metadata": {},
   "outputs": [],
   "source": [
    "# Group records by category1\n",
    "visited_categories = user_data.groupby('category1').size().reset_index(name='counts')"
   ]
  },
  {
   "cell_type": "code",
   "execution_count": null,
   "id": "b974f2dc",
   "metadata": {},
   "outputs": [],
   "source": [
    "visited_categories = visited_categories.sort_values(by=['counts'], ascending=False).head(10)"
   ]
  },
  {
   "cell_type": "code",
   "execution_count": null,
   "id": "8ad98bde",
   "metadata": {},
   "outputs": [],
   "source": [
    "# Converts dataframe column into a list\n",
    "markov_categories = visited_categories['category1'].tolist()"
   ]
  },
  {
   "cell_type": "code",
   "execution_count": null,
   "id": "22c5eeea",
   "metadata": {},
   "outputs": [],
   "source": [
    "markov_categories"
   ]
  },
  {
   "cell_type": "code",
   "execution_count": null,
   "id": "fe4aa47d",
   "metadata": {},
   "outputs": [],
   "source": [
    "transition_matrix = np.zeros((len(markov_categories), len(markov_categories))) "
   ]
  },
  {
   "cell_type": "code",
   "execution_count": null,
   "id": "cc4ffac5",
   "metadata": {},
   "outputs": [],
   "source": [
    "transition_matrix"
   ]
  },
  {
   "cell_type": "code",
   "execution_count": null,
   "id": "7e9996dd",
   "metadata": {},
   "outputs": [],
   "source": [
    "i = 'business1'\n",
    "if i in markov_categories:\n",
    "    print (1)"
   ]
  },
  {
   "cell_type": "code",
   "execution_count": null,
   "id": "4d2bba48",
   "metadata": {},
   "outputs": [],
   "source": [
    "# Convert the sequential data into a data structure that can be used to create a network model\n",
    "visits_dictonary = {\n",
    "    'start_node': [],\n",
    "    'end_node': []\n",
    "}\n",
    "\n",
    "for index, row in user_data.iterrows():\n",
    "    \n",
    "    record = user_data.loc[user_data['prev_id'] == row['id']]\n",
    "    \n",
    "    if (len(record)>0):\n",
    "        if (row['category1'] in markov_categories) & (record.iloc[0]['category1'] in markov_categories):\n",
    "            visits_dictonary['start_node'].append(row['category1'])\n",
    "            visits_dictonary['end_node'].append(record.iloc[0]['category1'])"
   ]
  },
  {
   "cell_type": "code",
   "execution_count": null,
   "id": "f994e1e7",
   "metadata": {},
   "outputs": [],
   "source": [
    "visits_dictonary"
   ]
  },
  {
   "cell_type": "code",
   "execution_count": null,
   "id": "8cf9db1b",
   "metadata": {},
   "outputs": [],
   "source": [
    "# Create a dataframe from a dictionary\n",
    "visits_dataframe = pd.DataFrame.from_dict(visits_dictonary)"
   ]
  },
  {
   "cell_type": "code",
   "execution_count": null,
   "id": "d4c8eb4a",
   "metadata": {},
   "outputs": [],
   "source": [
    "visits_dataframe"
   ]
  },
  {
   "cell_type": "code",
   "execution_count": null,
   "id": "c4840e68",
   "metadata": {},
   "outputs": [],
   "source": [
    "visits = visits_dataframe.groupby(['start_node','end_node']).size().reset_index(name='count')"
   ]
  },
  {
   "cell_type": "code",
   "execution_count": null,
   "id": "072507fd",
   "metadata": {},
   "outputs": [],
   "source": [
    "visits"
   ]
  },
  {
   "cell_type": "code",
   "execution_count": null,
   "id": "c0365070",
   "metadata": {},
   "outputs": [],
   "source": [
    "for i in range(len(markov_categories)):\n",
    "    total = visits[visits['start_node'] == markov_categories[i]]['count'].sum()\n",
    "    for x in range(len(markov_categories)):\n",
    "        \n",
    "        w = visits[(visits['start_node'] == markov_categories[i]) & (visits['end_node'] == markov_categories[x])]['count'].head(1)\n",
    "        value = w.tolist()\n",
    "        print (w.tolist())\n",
    "        #print (w['count'])\n",
    "        #if (w == 0):\n",
    "        #    print ('Z')\n",
    "        print (len(value))\n",
    "        if (len(value)>0):\n",
    "            transition_matrix[i,x] = value[0]/total\n",
    "        #print (w)\n",
    "        #w = np.where((visits_dataframe_grouped['start_node']==markov_categories[i]) & (visits_dataframe_grouped['end_node']==markov_categories[x]))\n",
    "        #print (len(w))\n",
    "        #print (visits_dataframe_grouped.loc[w]['count'])\n",
    "        #markov_matrix[i,x] = visits_dataframe_grouped[visits_dataframe_grouped['start_node'] == markov_categories[i]]['count']"
   ]
  },
  {
   "cell_type": "code",
   "execution_count": null,
   "id": "85b38a99",
   "metadata": {},
   "outputs": [],
   "source": [
    "transition_matrix"
   ]
  },
  {
   "cell_type": "code",
   "execution_count": null,
   "id": "ae9c0fa8",
   "metadata": {},
   "outputs": [],
   "source": [
    "import numpy as np\n",
    "\n",
    "class MarkovChain:\n",
    "    def __init__(self, transition_matrix, states):\n",
    "        self.transition_matrix = np.array(transition_matrix)\n",
    "        self.states = states\n",
    "        self.index_dict = {self.states[index]: index for index in range(len(self.states))}\n",
    "        self.state_dict = {index: self.states[index] for index in range(len(self.states))}\n",
    "\n",
    "    def next_state(self, current_state):\n",
    "        return np.random.choice(\n",
    "            self.states, \n",
    "            p=self.transition_matrix[self.index_dict[current_state], :]\n",
    "        )\n",
    "\n",
    "    def generate_states(self, current_state, no=10):\n",
    "        future_states = []\n",
    "        for i in range(no):\n",
    "            next_st = self.next_state(current_state)\n",
    "            future_states.append(next_st)\n",
    "            current_state = next_st\n",
    "        return future_states\n",
    "\n",
    "# Example usage:\n",
    "\n",
    "states = ['A', 'B', 'C', 'D']\n",
    "states = markov_categories\n",
    "\n",
    "markov_chain = MarkovChain(transition_matrix=transition_matrix, states=states)\n",
    "\n",
    "# Generate the next state given the current state is 'A'\n",
    "print(\"Next state after 'A':\", markov_chain.next_state(current_state=states[2]))\n",
    "\n",
    "# Generate the next 10 states starting from 'A'\n",
    "print(\"Next 10 states starting from 'A':\", markov_chain.generate_states(current_state=states[2], no=1000))"
   ]
  },
  {
   "cell_type": "markdown",
   "id": "53a6d060",
   "metadata": {},
   "source": [
    "## Assignment \n",
    "\n",
    "### Conceptual Option\n",
    "\n",
    "Pending.\n",
    "\n",
    "### Hands-on Option\n",
    "\n",
    "Pending."
   ]
  },
  {
   "cell_type": "markdown",
   "id": "833e7a78",
   "metadata": {},
   "source": [
    "## Recommended Readings\n",
    "\n",
    "Pending."
   ]
  },
  {
   "cell_type": "markdown",
   "id": "da85647c",
   "metadata": {},
   "source": [
    "## Optional Readings\n",
    "\n",
    "You will find additional resources in case you would like to continue exploring the topics covered in this module below.\n",
    "\n",
    "Pending."
   ]
  }
 ],
 "metadata": {
  "kernelspec": {
   "display_name": "Python 3",
   "language": "python",
   "name": "python3"
  },
  "language_info": {
   "codemirror_mode": {
    "name": "ipython",
    "version": 3
   },
   "file_extension": ".py",
   "mimetype": "text/x-python",
   "name": "python",
   "nbconvert_exporter": "python",
   "pygments_lexer": "ipython3",
   "version": "3.8.8"
  }
 },
 "nbformat": 4,
 "nbformat_minor": 5
}
