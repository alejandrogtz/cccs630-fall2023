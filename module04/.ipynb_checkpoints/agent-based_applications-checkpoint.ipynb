{
 "cells": [
  {
   "cell_type": "markdown",
   "metadata": {},
   "source": [
    "# Applications of Agent-Based Simulations"
   ]
  },
  {
   "cell_type": "markdown",
   "metadata": {},
   "source": [
    "## Introduction\n",
    "\n",
    "In this module, we will examine various applications of agent-based simulations and analyze a simulation to explore how traffic jams are formed.\n",
    "\n",
    "Agent-based simulations allow testing different changes to the agents, scenarios, and conditions of a system. In the case of transportation systems, it is possible to study changes to the roads, drivers, traffic laws, and roadblocks, for example. Depending on the objective of a study, these changes can then be quantified in terms of CO2 emissions, transportation time, number of accidents, maximum number of vehicles, etc.\n",
    "\n",
    "In preparation for the interaction part, please read the following Wikipedia entry about one of the longest traffic jams ever recorded.\n",
    "\n",
    "https://en.wikipedia.org/wiki/China_National_Highway_110_traffic_jam"
   ]
  },
  {
   "cell_type": "markdown",
   "metadata": {},
   "source": [
    "## Concepts\n",
    "\n",
    "Below, you will find a list of important concepts we will review in the module.\n",
    "\n",
    "- Assumptions\n",
    "- Traffic jams\n",
    "- Transportation systems\n",
    "- Random noise"
   ]
  },
  {
   "cell_type": "markdown",
   "metadata": {},
   "source": [
    "## Interaction\n",
    "\n",
    "There are many applications of agent-based simulations. Some of these include:\n",
    "\n",
    "- Spread of infectious diseases\n",
    "- Behaviour of economic systems\n",
    "- Behaviour of transportation systems\n",
    "\n",
    "### Traffic Jams\n",
    "\n",
    "In this interaction, we will use an agent-based simulation to study traffic jams. \n",
    "\n",
    "The objective of the simulation is to \n",
    "\n",
    "Test if traffic jams can emerge from normal conditions.\n",
    "\n",
    "In the previous modules, the agents ocupied one discrete squares in a a 1D (array) or 2D grid (checkboard). In this modules \n",
    "\n",
    "Until now in the course, the our agents have functioned in 1D or 2D grid spaces, but we can make use of other structures like networks, ... TODO. The simulation below assumes cars move in a continuous one-dimensional circular space \n",
    "\n",
    "The class Driver defines the operation of the agent. \n",
    "\n",
    "The agent Driver operates in an object named Highway. The Highway is a .... and has a circular shape. In the simulation, the number of drivers doesn't change.\n",
    "\n",
    "\n",
    "The driver only needs to determine its acceleration. The maximum acceleration is 1 and the minimum is -10.\n",
    "\n",
    "Random noice is added to the vehicle speed. This noice represents the imperfection in the conditions (distracted driver, mechanical problems, etc.) A random noise of..... \n",
    "\n",
    "Limitations\n",
    "\n",
    "- Single line highway.\n",
    "- Vehicles can't be passed.\n",
    "- Vehicles can only go forward.\n",
    "- Vehicles have a maximum speed of 40 miles/hr (64.37 km/hr).\n",
    "- Vehicles start equally spaced.\n",
    "- Drivers will have slight different speeds because of the random noise.\n",
    "- Collisions (indicated with a triangle in the simulation) cause vehicles to stop.\n",
    "\n",
    "Squares indicate the position of the drivers.\n",
    "Triangles indicate the places where one driver has to break to avoid a collision.\n",
    "\n",
    "- Driver accelerate to the maximum rate. THIS IS NOT CORRECT\n",
    "\n",
    "The code below simulates a highway, and n number of drivers. The code is based on the work of Allen Downey as it appears on the book Think Complexity, 2nd edition (https://thinkcomplex.com) and published under MIT License (http://opensource.org/licenses/MIT).\n",
    "\n",
    "Instructions\n",
    "\n",
    "- Simulate the system assuming a low number of vehicles (<=10 vehicles) and no random noise (eps = 0) and document your findings.\n",
    "- Simulate the system assuming a intermediate number of vehicles (<=25 vehicles) and a random noise (eps = 0.02) and document your findings.\n",
    "\n",
    "To confirm. Acceleration is speed plus a certain amount.\n",
    "\n",
    "Chooses acceleration based on distance. TODO\n",
    "        \n",
    "        dist: distance from the car in front\n",
    "        \n",
    "        returns: acceleration\n",
    "        \n",
    "Add and remove drivers. Duration of the drivers in the highway.\n",
    "You could simulate a linear highway with some roadblocks.\n",
    "\n",
    "Find three applications of agent-based simulations documented in the research literature that are relevant to your current job. \n",
    "Use Google Scholar (https://scholar.google.com/) and the McGill Library (https://www.mcgill.ca/library/) to find the relevant sources. Read the abstracts and briefly describe the applications.\n",
    "Select one of the three applications and explore it in more detail. Reference the consulted sources using APA.\n",
    "\n",
    "What the assumptions or considerations? What limitations? What tools did they use to build the simulation?\n",
    "Personal opinion on the application.\n",
    "\n",
    "Explore creating a worst driver.\n",
    "\n",
    "Add a method to visualize the number of collisions.\n"
   ]
  },
  {
   "cell_type": "code",
   "execution_count": 37,
   "metadata": {},
   "outputs": [],
   "source": [
    "import matplotlib.pyplot as plt\n",
    "import numpy as np\n",
    "from utils import decorate, savefig\n",
    "import pandas as pd\n",
    "from Cell2D import Cell2D"
   ]
  },
  {
   "cell_type": "code",
   "execution_count": 38,
   "metadata": {},
   "outputs": [],
   "source": [
    "np.random.seed(1) # Same random values"
   ]
  },
  {
   "cell_type": "code",
   "execution_count": 39,
   "metadata": {},
   "outputs": [],
   "source": [
    "class Driver:\n",
    "    \n",
    "    def __init__(self, loc, driver_id, speed=4):\n",
    "        self.start = loc\n",
    "        self.loc = loc # Position on track, in miles.\n",
    "        self.speed = speed # Speed in miles per hour.\n",
    "        self.driver_id = driver_id\n",
    "        \n",
    "    def choose_acceleration(self, dist):\n",
    "        return (1) # Increases speed by 1 mile/hr.\n",
    "    \n",
    "    def read_driver_id(self):\n",
    "        return self.driver_id\n",
    "    \n",
    "    def set_odometer(self):\n",
    "        self.start = self.loc\n",
    "        \n",
    "    def read_odometer(self):\n",
    "        return self.loc - self.start\n",
    "    \n",
    "    def read_speedometer(self):\n",
    "        return self.speed"
   ]
  },
  {
   "cell_type": "code",
   "execution_count": 40,
   "metadata": {},
   "outputs": [],
   "source": [
    "class Highway(Cell2D):\n",
    "    \n",
    "    max_acc = 1\n",
    "    min_acc = -10\n",
    "    speed_limit = 40\n",
    "    driver_id_log = []\n",
    "    location_log = []\n",
    "    speed_log = []\n",
    "    crash_log = []\n",
    "    \n",
    "    def __init__(self, n=10, length=1000, eps=0, constructor=Driver):\n",
    "        #n: number of drivers\n",
    "        #constructor: function used to instantiate drivers\n",
    "\n",
    "        self.length = length # Length of the track.\n",
    "        self.eps = eps # Variability in speed.\n",
    "        self.crashes = 0\n",
    "\n",
    "        # Create the drivers.\n",
    "        locs = np.linspace(0, length, n, endpoint=False) # Evenly spaced numbers over a specified interval.\n",
    "         \n",
    "        self.drivers = []\n",
    "        driver_id = 0\n",
    "        for loc in locs:\n",
    "            self.drivers.append(constructor(loc,driver_id))\n",
    "            driver_id += 1    \n",
    "    \n",
    "        # And link them up.\n",
    "        for i in range(n):\n",
    "            j = (i+1) % n\n",
    "            self.drivers[i].next = self.drivers[j]\n",
    "            \n",
    "    def step(self):\n",
    "        # Perform one time step.\n",
    "        for driver in self.drivers:\n",
    "            self.move(driver)\n",
    "             \n",
    "    def move(self, driver): # Updates `driver`\n",
    "        \n",
    "        dist = self.distance(driver) # Get the distance to the next driver.\n",
    "        acc = driver.choose_acceleration(dist) # Let the driver choose the acceleration.\n",
    "        acc = min(acc, self.max_acc)\n",
    "        acc = max(acc, self.min_acc)\n",
    "        #print ('acc',acc)\n",
    "        speed = driver.speed + acc\n",
    "        \n",
    "        # Add random noise to speed.\n",
    "        speed *= np.random.uniform(1-self.eps, 1+self.eps)\n",
    "        \n",
    "        # Keep it nonnegative and under the speed limit.\n",
    "        speed = max(speed, 0)\n",
    "        speed = min(speed, self.speed_limit)\n",
    "        \n",
    "        # If current speed would collide with next driver, stop.\n",
    "        crash = 0\n",
    "        if speed > dist:\n",
    "            speed = 0\n",
    "            crash = 1\n",
    "            self.crashes += 1\n",
    "        \n",
    "        # Update speed and loc\n",
    "        driver.speed = speed\n",
    "        driver.loc += speed\n",
    "        \n",
    "        #print (speed)\n",
    "    \n",
    "        self.driver_id_log.append(driver.driver_id)\n",
    "        self.location_log.append(driver.loc)\n",
    "        self.speed_log.append(driver.speed)\n",
    "        self.crash_log.append(crash)\n",
    "            \n",
    "    # Distance from `driver` to next driver.\n",
    "    def distance(self, driver):\n",
    "      \n",
    "        dist = driver.next.loc - driver.loc\n",
    "        # Fix wraparound\n",
    "        if dist < 0:\n",
    "            dist += self.length\n",
    "        \n",
    "        return dist\n",
    "    \n",
    "    def set_odometers(self):\n",
    "        return [driver.set_odometer()\n",
    "                for driver in self.drivers] \n",
    "    \n",
    "    def read_odometers(self):\n",
    "        return np.mean([driver.read_odometer()\n",
    "                        for driver in self.drivers])\n",
    "    \n",
    "    # Draws the drivers and shows collisions.\n",
    "    def draw(self):\n",
    "        \n",
    "        drivers = self.drivers\n",
    "        xs, ys = self.get_coords(drivers)\n",
    "        plt.plot(xs, ys, 'bs', markersize=10, alpha=0.7)\n",
    "        \n",
    "        stopped = [driver for driver in self.drivers \n",
    "                  if driver.speed==0]\n",
    "        xs, ys = self.get_coords(stopped, r=0.8)\n",
    "        plt.plot(xs, ys, 'r^', markersize=12, alpha=0.7)\n",
    "        \n",
    "        plt.axis('off')\n",
    "        plt.axis('equal')\n",
    "        plt.xlim([-1.05, 1.05])\n",
    "        plt.ylim([-1.05, 1.05])\n",
    "\n",
    "    def get_coords(self, drivers, r=1):\n",
    "        # Gets the coordinates of the drivers. Transforms from (row, col) to (x, y).\n",
    "        # r: radius of the circle\n",
    "        # returns: tuple of sequences, (xs, ys)\n",
    "        locs = np.array([driver.loc for driver in drivers])\n",
    "        locs *= 2 * np.pi / self.length\n",
    "        xs = r * np.cos(locs)\n",
    "        ys = r * np.sin(locs)\n",
    "        return xs, ys\n",
    "    \n",
    "    # Send the simulation data to an Excel file.\n",
    "    def export_log(self): \n",
    "        log = {\n",
    "                'Driver_ID':self.driver_id_log,\n",
    "                'Speed' :self.speed_log,\n",
    "                'Location':self.location_log,\n",
    "                'Crash':self.crash_log,\n",
    "                }\n",
    "        df = pd.DataFrame(log)\n",
    "        df.to_excel('log.xlsx', index=True, header=True)"
   ]
  },
  {
   "cell_type": "code",
   "execution_count": null,
   "metadata": {},
   "outputs": [],
   "source": [
    "# Function to explore the relationship between eps and average speed.\n",
    "def run_simulation(eps, constructor=Driver, iters=100):\n",
    "    res = []\n",
    "    for n in range(5, 100, 5): # range function = range(start, stop, step) \n",
    "        highway = Highway(n, eps=eps, constructor=constructor)\n",
    "        for i in range(iters):\n",
    "            highway.step()\n",
    "\n",
    "        highway.set_odometers()\n",
    "        for i in range(iters):\n",
    "            highway.step()\n",
    "\n",
    "        res.append((n, highway.read_odometers() / iters))\n",
    "    \n",
    "    return np.transpose(res)"
   ]
  },
  {
   "cell_type": "code",
   "execution_count": 41,
   "metadata": {},
   "outputs": [
    {
     "data": {
      "image/png": "[encoded data removed]",
      "text/plain": [
       "<Figure size 432x288 with 1 Axes>"
      ]
     },
     "metadata": {
      "needs_background": "light"
     },
     "output_type": "display_data"
    }
   ],
   "source": [
    "# Run the simulation.\n",
    "highway = Highway(20, eps=0.01) # The first parameter is the number of drivers; the second is the amount of random noise.\n",
    "# Create the animation.\n",
    "highway.animate(frames=100, interval=0.2)"
   ]
  },
  {
   "cell_type": "code",
   "execution_count": 36,
   "metadata": {},
   "outputs": [],
   "source": [
    "# Optional step. Export the simulation data to Excel. Only works for one simulation.\n",
    "highway.export_log()"
   ]
  },
  {
   "cell_type": "code",
   "execution_count": 59,
   "metadata": {},
   "outputs": [
    {
     "data": {
      "image/png": "[encoded data removed]",
      "text/plain": [
       "<Figure size 432x288 with 1 Axes>"
      ]
     },
     "metadata": {
      "needs_background": "light"
     },
     "output_type": "display_data"
    }
   ],
   "source": [
    "# Generate the figures for different eps conditions.\n",
    "from utils import set_palette\n",
    "set_palette('Blues', 4, reverse=True)\n",
    "\n",
    "for eps in [0.0, 0.001, 0.01]:\n",
    "    xs, ys = run_simulation(eps)\n",
    "    plt.plot(xs, ys, label='eps=%g' % eps)\n",
    "    \n",
    "decorate(xlabel='Number of cars',\n",
    "                 ylabel='Average speed',\n",
    "                 title='Simulations for different eps conditions',\n",
    "                 xlim=[0, 100], ylim=[0, 42])"
   ]
  },
  {
   "cell_type": "markdown",
   "metadata": {},
   "source": [
    "## Assignment \n",
    "\n",
    "### Hands-on Option\n",
    "\n",
    "The code below creates a new class and runs a loop to create a graph with the simulation results. The new class `BetterDriver` inherits from `Driver` and overrides `choose_acceleration`. The class has the purpose of defining better driving rules than the basic implementation in `Driver` that only increases speed by 1 mile/hr and appears in the code above. \n",
    "\n",
    "The loop runs simulations with `Driver` and `BetterDriver`, and plots average speed as a function of the number of cars. The plot prints the area under the curves as a way to quantify the effect of driving behaviour on average speed over the range of densities.\n",
    "\n",
    "The method `choose_acceleration` receives the parameter `d` that contains the distance to the next car and has access to the class attributes, like speed. \n",
    "\n",
    "Your objective is to write three driving rules that try to maximize the area under the curve and analyze the simulation results, via the variable `self.speed`.\n",
    "\n",
    "For example, the provided `BetterDriver` class is a little better in the sense that it keeps traffic moving smoothly at medium densities. However:\n",
    "* At high densities, it has almost no effect, and\n",
    "\n",
    "* At low densities, it is substantially worse.\n",
    "\n",
    "As a result, the total area under the curve is smaller.\n",
    "\n",
    "TODO You might try to achieve a higher average speed, or a lower number of collisions."
   ]
  },
  {
   "cell_type": "code",
   "execution_count": 65,
   "metadata": {},
   "outputs": [],
   "source": [
    "class BetterDriver(Driver):\n",
    "\n",
    "    def choose_acceleration(self, d):\n",
    "        if self.speed < 20:\n",
    "            return 1\n",
    "        else:\n",
    "            return 0"
   ]
  },
  {
   "cell_type": "code",
   "execution_count": 66,
   "metadata": {},
   "outputs": [],
   "source": [
    "class BetterDriver2(Driver):\n",
    "    \n",
    "    def choose_acceleration(self, d):\n",
    "        #print (d)\n",
    "        if (self.speed * 2 > d):\n",
    "            acceleration = .5\n",
    "        else:\n",
    "            if (self.speed > d):\n",
    "                acceleration = -1\n",
    "            else:\n",
    "                acceleration = 1\n",
    "        return (acceleration)"
   ]
  },
  {
   "cell_type": "code",
   "execution_count": 67,
   "metadata": {},
   "outputs": [],
   "source": [
    "class BetterDriver3(Driver):\n",
    "    \n",
    "    def choose_acceleration(self, d):\n",
    "        if self.speed < 30:\n",
    "            return 1\n",
    "        else:\n",
    "            return 0"
   ]
  },
  {
   "cell_type": "code",
   "execution_count": 68,
   "metadata": {},
   "outputs": [
    {
     "name": "stdout",
     "output_type": "stream",
     "text": [
      "Driver Area Under the Curve =  1512.925\n",
      "BetterDriver Area Under the Curve =  1238.725\n",
      "BetterDriver2 Area Under the Curve =  1164.8161629593103\n",
      "BetterDriver3 Area Under the Curve =  1353.925\n"
     ]
    },
    {
     "data": {
      "image/png": "[encoded data removed]",
      "text/plain": [
       "<Figure size 432x288 with 1 Axes>"
      ]
     },
     "metadata": {
      "needs_background": "light"
     },
     "output_type": "display_data"
    }
   ],
   "source": [
    "from scipy.integrate import trapezoid\n",
    "\n",
    "for constructor in [Driver, BetterDriver,BetterDriver2,BetterDriver3]:\n",
    "    xs, ys = run_simulation(eps=0.0, constructor=constructor)\n",
    "    plt.plot(xs, ys, label=constructor.__name__)\n",
    "    print(constructor.__name__, 'Area Under the Curve = ' , trapezoid(ys, xs))\n",
    "    \n",
    "decorate(xlabel='Number of cars',\n",
    "                 ylabel='Average speed',\n",
    "                 xlim=[0, 100], ylim=[0, 42])"
   ]
  },
  {
   "cell_type": "markdown",
   "metadata": {},
   "source": [
    "## Recommended Readings\n",
    "\n",
    "Once you have completed the interaction portion of the module, please read the following recommended reading.\n",
    "\n",
    "- Bernhardt, K., (2007). Agent-Based Modeling in Transportation. Transportation Research Circular, E-C113, 72-80. https://www.trb.org/Publications/Blurbs/158428.aspx"
   ]
  },
  {
   "cell_type": "markdown",
   "metadata": {},
   "source": [
    "## Optional Readings\n",
    "\n",
    "Below you will find additional resources in case you would like to continue exploring the topics covered in this module.\n",
    "\n",
    "- Explore a different approach to constructing Conway's game of life.\n",
    "    - Chapter 10 - Herds, Flocks, and Traffic Jams. Downey, A. (2018). Think complexity: Complexity science and computational modeling (Second). O’Reilly Media. https://mcgill.on.worldcat.org/oclc/1043913738"
   ]
  }
 ],
 "metadata": {
  "kernelspec": {
   "display_name": "Python 3",
   "language": "python",
   "name": "python3"
  },
  "language_info": {
   "codemirror_mode": {
    "name": "ipython",
    "version": 3
   },
   "file_extension": ".py",
   "mimetype": "text/x-python",
   "name": "python",
   "nbconvert_exporter": "python",
   "pygments_lexer": "ipython3",
   "version": "3.8.8"
  }
 },
 "nbformat": 4,
 "nbformat_minor": 2
}
