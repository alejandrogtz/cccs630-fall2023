{
 "cells": [
  {
   "cell_type": "markdown",
   "metadata": {},
   "source": [
    "<a target=\"_blank\" href=\"https://colab.research.google.com/github/alejandrogtz/cccs630-fall2023/blob/main/module04/agent-based_applications.ipynb\">\n",
    "  <img src=\"https://colab.research.google.com/assets/colab-badge.svg\" alt=\"Open In Colab\"/>\n",
    "</a>"
   ]
  },
  {
   "cell_type": "markdown",
   "metadata": {},
   "source": [
    "# Applications of Agent-Based Simulations"
   ]
  },
  {
   "cell_type": "markdown",
   "metadata": {},
   "source": [
    "## Introduction\n",
    "\n",
    "In this module, we will examine an application of agent-based simulations in the context of a transportation system and analyze how traffic jams are formed.\n",
    "\n",
    "Agent-based simulations allow testing different changes to the agents, scenarios, and conditions of a system. In the case of transportation systems, it is possible to study changes to the roads, drivers, traffic laws, and roadblocks, for example. Depending on the objective of a study, these changes can then be quantified in terms of CO2 emissions, transportation time, number of accidents, maximum number of vehicles, etc.\n",
    "\n",
    "In preparation for the interaction part, please read the following Wikipedia entry about one of the longest traffic jams ever recorded.\n",
    "\n",
    "https://en.wikipedia.org/wiki/China_National_Highway_110_traffic_jam"
   ]
  },
  {
   "cell_type": "markdown",
   "metadata": {},
   "source": [
    "## Concepts\n",
    "\n",
    "You will find a list of important concepts we will review in the module below.\n",
    "\n",
    "- Abstraction\n",
    "- Assumptions\n",
    "- Traffic jams\n",
    "- Transportation systems\n",
    "- Random noise"
   ]
  },
  {
   "cell_type": "markdown",
   "metadata": {},
   "source": [
    "## Interaction\n",
    "\n",
    "There are many applications of agent-based simulations. Some of these include:\n",
    "\n",
    "- Simulate the spread of infectious diseases\n",
    "- Simulate economic systems\n",
    "- Simulate transportation systems\n",
    "\n",
    "Creating a model requires deciding what to include or not based on its purpose. Including too many details about the system and its elements can make the modelling challenging. On the other side, missing important aspects can lead to not being able to capture the phenomena we want to study. Suppose we want to model a transportation system; one must decide if it is necessary to consider the drivers' emotions and how it affects their driving, or we can assume all drivers will behave in the same way.\n",
    "\n",
    "Additionally, we must define the appropriate resolution level or abstraction we should use as the reference point for our model. \n",
    "\n",
    "In this interaction, we will use an agent-based simulation to study traffic jams. The objective of the simulation is to understand how the number of vehicles and acceleration decisions can lead to traffic jams. For this objective, we will create an environment where our agents, representing vehicles and drivers, move. \n",
    "\n",
    "The code of this simulation is based on the work of Allen Downey, as it appears in the book Think Complexity, 2nd edition (https://thinkcomplex.com) and published under the MIT License (http://opensource.org/licenses/MIT).\n",
    "\n",
    "In the previous modules, our agents occupied single discrete squares in 1D spaces (arrays) or 2D spaces (matrices, checkboards), but we can arrange our agents in other structures like networks, continuous spaces, etc. For this simulation, we will change the environment format. We will assume a continuous one-dimensional circular space that represents a single-line road with no space for passing, named Highway in the code below, with n number of drivers. \n",
    "\n",
    "The class Driver defines the operation of the agents, represented by blue squares in the simulation. Agents have a single decision to make during the simulation: choose the acceleration of their vehicles. Their default behaviour is to accelerate to the maximum (1 mile/hr), until they get blocked by the car immediately ahead. When this occurs, drivers have to break to avoid a collision. The speed of the vehicle will be set to 0, the simulation will show a triangle, and it will be registered as a crash.    \n",
    "\n",
    "During the simulation, random noise will affect the vehicle speed. This noise represents the imperfection in the conditions (distracted driver, mechanical problems, etc.).\n",
    "   \n",
    "### Assumptions\n",
    "\n",
    "Assumptions are basic conditions or premises that are considered to be true for the purpose of the model or conducting an analysis. They simplify the conditions of the real-world system to make it more manageable for study. \n",
    "\n",
    "For example, these are some of the assumptions made in this traffic model:\n",
    "\n",
    "- Single-line road.\n",
    "- Vehicles can't be passed.\n",
    "- Vehicles can only go forward.\n",
    "- Vehicles are initially positioned equally spaced across the road.\n",
    "- Vehicles have an initial speed of 4 miles/hr (6.437 km/hr).\n",
    "- Vehicles have a maximum speed of 40 miles/hr (64.37 km/hr).\n",
    "- The maximum acceleration is 1 mile/hr and the minimum is -10 miles/hr.\n",
    "- Random noise can be added to represent different driving conditions.\n",
    "- Collisions (indicated with a triangle during the simulation) cause vehicles to stop (speed = 0).\n",
    "- The number of vehicles is kept constant during the simulation.\n",
    "\n",
    "### Instructions\n",
    "\n",
    "- Simulate the system assuming a low number of vehicles (<=10 vehicles) and no random noise (eps = 0) and document your findings.\n",
    "- Simulate the system assuming a low number of vehicles (<=10 vehicles) and random noise (eps = 0.01) and document your findings.\n",
    "- Simulate the system assuming an intermediate number of vehicles (>10 and <=25 vehicles) and random noise (eps = 0.01), and document your findings."
   ]
  },
  {
   "cell_type": "code",
   "execution_count": 1,
   "metadata": {},
   "outputs": [],
   "source": [
    "import matplotlib.pyplot as plt\n",
    "import numpy as np\n",
    "import pandas as pd"
   ]
  },
  {
   "cell_type": "code",
   "execution_count": 2,
   "metadata": {},
   "outputs": [
    {
     "name": "stderr",
     "output_type": "stream",
     "text": [
      "'git' is not recognized as an internal or external command,\n",
      "operable program or batch file.\n"
     ]
    }
   ],
   "source": [
    "!git clone https://github.com/alejandrogtz/cccs630-fall2023"
   ]
  },
  {
   "cell_type": "code",
   "execution_count": 3,
   "metadata": {},
   "outputs": [],
   "source": [
    "from importlib.machinery import SourceFileLoader"
   ]
  },
  {
   "cell_type": "code",
   "execution_count": 4,
   "metadata": {},
   "outputs": [
    {
     "ename": "FileNotFoundError",
     "evalue": "[Errno 2] No such file or directory: '/content/cccs630-fall2023/module04/utils.py'",
     "output_type": "error",
     "traceback": [
      "\u001b[1;31m---------------------------------------------------------------------------\u001b[0m",
      "\u001b[1;31mFileNotFoundError\u001b[0m                         Traceback (most recent call last)",
      "\u001b[1;32m<ipython-input-4-756f5c6fb3ec>\u001b[0m in \u001b[0;36m<module>\u001b[1;34m\u001b[0m\n\u001b[1;32m----> 1\u001b[1;33m \u001b[0mutils\u001b[0m \u001b[1;33m=\u001b[0m \u001b[0mSourceFileLoader\u001b[0m\u001b[1;33m(\u001b[0m\u001b[1;34m'utils'\u001b[0m\u001b[1;33m,\u001b[0m \u001b[1;34m'/content/cccs630-fall2023/module04/utils.py'\u001b[0m\u001b[1;33m)\u001b[0m\u001b[1;33m.\u001b[0m\u001b[0mload_module\u001b[0m\u001b[1;33m(\u001b[0m\u001b[1;33m)\u001b[0m\u001b[1;33m\u001b[0m\u001b[1;33m\u001b[0m\u001b[0m\n\u001b[0m",
      "\u001b[1;32m~\\anaconda3\\lib\\importlib\\_bootstrap_external.py\u001b[0m in \u001b[0;36m_check_name_wrapper\u001b[1;34m(self, name, *args, **kwargs)\u001b[0m\n",
      "\u001b[1;32m~\\anaconda3\\lib\\importlib\\_bootstrap_external.py\u001b[0m in \u001b[0;36mload_module\u001b[1;34m(self, fullname)\u001b[0m\n",
      "\u001b[1;32m~\\anaconda3\\lib\\importlib\\_bootstrap_external.py\u001b[0m in \u001b[0;36mload_module\u001b[1;34m(self, fullname)\u001b[0m\n",
      "\u001b[1;32m~\\anaconda3\\lib\\importlib\\_bootstrap.py\u001b[0m in \u001b[0;36m_load_module_shim\u001b[1;34m(self, fullname)\u001b[0m\n",
      "\u001b[1;32m~\\anaconda3\\lib\\importlib\\_bootstrap.py\u001b[0m in \u001b[0;36m_load\u001b[1;34m(spec)\u001b[0m\n",
      "\u001b[1;32m~\\anaconda3\\lib\\importlib\\_bootstrap.py\u001b[0m in \u001b[0;36m_load_unlocked\u001b[1;34m(spec)\u001b[0m\n",
      "\u001b[1;32m~\\anaconda3\\lib\\importlib\\_bootstrap_external.py\u001b[0m in \u001b[0;36mexec_module\u001b[1;34m(self, module)\u001b[0m\n",
      "\u001b[1;32m~\\anaconda3\\lib\\importlib\\_bootstrap_external.py\u001b[0m in \u001b[0;36mget_code\u001b[1;34m(self, fullname)\u001b[0m\n",
      "\u001b[1;32m~\\anaconda3\\lib\\importlib\\_bootstrap_external.py\u001b[0m in \u001b[0;36mget_data\u001b[1;34m(self, path)\u001b[0m\n",
      "\u001b[1;31mFileNotFoundError\u001b[0m: [Errno 2] No such file or directory: '/content/cccs630-fall2023/module04/utils.py'"
     ]
    }
   ],
   "source": [
    "utils = SourceFileLoader('utils', '/content/cccs630-fall2023/module04/utils.py').load_module()"
   ]
  },
  {
   "cell_type": "code",
   "execution_count": 7,
   "metadata": {},
   "outputs": [
    {
     "ename": "FileNotFoundError",
     "evalue": "[Errno 2] No such file or directory: '/content/cccs630-fall2023/module04/Cell2D.py'",
     "output_type": "error",
     "traceback": [
      "\u001b[1;31m---------------------------------------------------------------------------\u001b[0m",
      "\u001b[1;31mFileNotFoundError\u001b[0m                         Traceback (most recent call last)",
      "\u001b[1;32m<ipython-input-7-474261ef85ea>\u001b[0m in \u001b[0;36m<module>\u001b[1;34m\u001b[0m\n\u001b[1;32m----> 1\u001b[1;33m \u001b[0mCell2D\u001b[0m \u001b[1;33m=\u001b[0m \u001b[0mSourceFileLoader\u001b[0m\u001b[1;33m(\u001b[0m\u001b[1;34m'Cell2D'\u001b[0m\u001b[1;33m,\u001b[0m \u001b[1;34m'/content/cccs630-fall2023/module04/Cell2D.py'\u001b[0m\u001b[1;33m)\u001b[0m\u001b[1;33m.\u001b[0m\u001b[0mload_module\u001b[0m\u001b[1;33m(\u001b[0m\u001b[1;33m)\u001b[0m\u001b[1;33m\u001b[0m\u001b[1;33m\u001b[0m\u001b[0m\n\u001b[0m",
      "\u001b[1;32m~\\anaconda3\\lib\\importlib\\_bootstrap_external.py\u001b[0m in \u001b[0;36m_check_name_wrapper\u001b[1;34m(self, name, *args, **kwargs)\u001b[0m\n",
      "\u001b[1;32m~\\anaconda3\\lib\\importlib\\_bootstrap_external.py\u001b[0m in \u001b[0;36mload_module\u001b[1;34m(self, fullname)\u001b[0m\n",
      "\u001b[1;32m~\\anaconda3\\lib\\importlib\\_bootstrap_external.py\u001b[0m in \u001b[0;36mload_module\u001b[1;34m(self, fullname)\u001b[0m\n",
      "\u001b[1;32m~\\anaconda3\\lib\\importlib\\_bootstrap.py\u001b[0m in \u001b[0;36m_load_module_shim\u001b[1;34m(self, fullname)\u001b[0m\n",
      "\u001b[1;32m~\\anaconda3\\lib\\importlib\\_bootstrap.py\u001b[0m in \u001b[0;36m_load\u001b[1;34m(spec)\u001b[0m\n",
      "\u001b[1;32m~\\anaconda3\\lib\\importlib\\_bootstrap.py\u001b[0m in \u001b[0;36m_load_unlocked\u001b[1;34m(spec)\u001b[0m\n",
      "\u001b[1;32m~\\anaconda3\\lib\\importlib\\_bootstrap_external.py\u001b[0m in \u001b[0;36mexec_module\u001b[1;34m(self, module)\u001b[0m\n",
      "\u001b[1;32m~\\anaconda3\\lib\\importlib\\_bootstrap_external.py\u001b[0m in \u001b[0;36mget_code\u001b[1;34m(self, fullname)\u001b[0m\n",
      "\u001b[1;32m~\\anaconda3\\lib\\importlib\\_bootstrap_external.py\u001b[0m in \u001b[0;36mget_data\u001b[1;34m(self, path)\u001b[0m\n",
      "\u001b[1;31mFileNotFoundError\u001b[0m: [Errno 2] No such file or directory: '/content/cccs630-fall2023/module04/Cell2D.py'"
     ]
    }
   ],
   "source": [
    "Cell2D = SourceFileLoader('Cell2D', '/content/cccs630-fall2023/module04/Cell2D.py').load_module()"
   ]
  },
  {
   "cell_type": "code",
   "execution_count": 2,
   "metadata": {},
   "outputs": [],
   "source": [
    "from utils import decorate, savefig"
   ]
  },
  {
   "cell_type": "code",
   "execution_count": 3,
   "metadata": {},
   "outputs": [],
   "source": [
    "from Cell2D import Cell2D"
   ]
  },
  {
   "cell_type": "code",
   "execution_count": 26,
   "metadata": {},
   "outputs": [],
   "source": [
    "np.random.seed(3) # Sets the random values."
   ]
  },
  {
   "cell_type": "code",
   "execution_count": 5,
   "metadata": {},
   "outputs": [],
   "source": [
    "class Driver:\n",
    "    \n",
    "    def __init__(self, loc, driver_id, speed=4):\n",
    "        self.start = loc\n",
    "        self.loc = loc # Position on track, in miles.\n",
    "        self.speed = speed # Speed in miles per hour.\n",
    "        self.driver_id = driver_id\n",
    "        \n",
    "    def choose_acceleration(self, dist):\n",
    "        return (1) # Increases speed by 1 mile/hr.\n",
    "    \n",
    "    def read_driver_id(self):\n",
    "        return self.driver_id\n",
    "    \n",
    "    def set_odometer(self):\n",
    "        self.start = self.loc\n",
    "        \n",
    "    def read_odometer(self):\n",
    "        return self.loc - self.start\n",
    "    \n",
    "    def read_speedometer(self):\n",
    "        return self.speed"
   ]
  },
  {
   "cell_type": "code",
   "execution_count": 6,
   "metadata": {},
   "outputs": [],
   "source": [
    "class Highway(Cell2D):\n",
    "    \n",
    "    max_acc = 1\n",
    "    min_acc = -10\n",
    "    speed_limit = 40\n",
    "    driver_id_log = []\n",
    "    location_log = []\n",
    "    speed_log = []\n",
    "    crash_log = []\n",
    "    \n",
    "    def __init__(self, n=10, length=1000, eps=0, constructor=Driver):\n",
    "        #n: number of drivers\n",
    "        #constructor: function used to instantiate drivers\n",
    "\n",
    "        self.length = length # Length of the track.\n",
    "        self.eps = eps # Variability in speed.\n",
    "        self.crashes = 0\n",
    "\n",
    "        locs = np.linspace(0, length, n, endpoint=False) # Evenly spaced numbers over a specified interval.\n",
    "         \n",
    "        self.drivers = []\n",
    "        driver_id = 0\n",
    "        for loc in locs:\n",
    "            # Creates the drivers.\n",
    "            self.drivers.append(constructor(loc,driver_id))\n",
    "            driver_id += 1    \n",
    "    \n",
    "        # And link them up.\n",
    "        for i in range(n):\n",
    "            j = (i+1) % n\n",
    "            self.drivers[i].next = self.drivers[j]\n",
    "            \n",
    "    def step(self):\n",
    "        # Perform one time step.\n",
    "        for driver in self.drivers:\n",
    "            self.move(driver)\n",
    "    \n",
    "    # Updates `driver`\n",
    "    def move(self, driver): \n",
    "        \n",
    "        dist = self.distance(driver) # Get the distance to the next driver.\n",
    "        acc = driver.choose_acceleration(dist) # Let the driver choose the acceleration.\n",
    "        acc = min(acc, self.max_acc)\n",
    "        acc = max(acc, self.min_acc)\n",
    "        speed = driver.speed + acc\n",
    "        \n",
    "        # Add random noise to speed.\n",
    "        speed *= np.random.uniform(1-self.eps, 1+self.eps)\n",
    "        \n",
    "        # Keep it nonnegative and under the speed limit.\n",
    "        speed = max(speed, 0)\n",
    "        speed = min(speed, self.speed_limit)\n",
    "        \n",
    "        # If current speed would collide with next driver, stop.\n",
    "        crash = 0\n",
    "        if speed > dist:\n",
    "            speed = 0\n",
    "            crash = 1\n",
    "            self.crashes += 1\n",
    "        \n",
    "        # Update speed and loc.\n",
    "        driver.speed = speed\n",
    "        driver.loc += speed\n",
    "    \n",
    "        self.driver_id_log.append(driver.driver_id)\n",
    "        self.location_log.append(driver.loc)\n",
    "        self.speed_log.append(driver.speed)\n",
    "        self.crash_log.append(crash)\n",
    "            \n",
    "    # Distance from `driver` to next driver.\n",
    "    def distance(self, driver):\n",
    "      \n",
    "        dist = driver.next.loc - driver.loc\n",
    "        # Fix wraparound\n",
    "        if dist < 0:\n",
    "            dist += self.length\n",
    "        \n",
    "        return dist\n",
    "    \n",
    "    def set_odometers(self):\n",
    "        return [driver.set_odometer()\n",
    "                for driver in self.drivers] \n",
    "    \n",
    "    def read_odometers(self):\n",
    "        return np.mean([driver.read_odometer()\n",
    "                        for driver in self.drivers])\n",
    "    \n",
    "    # Draws the drivers and shows collisions.\n",
    "    def draw(self):\n",
    "        \n",
    "        drivers = self.drivers\n",
    "        xs, ys = self.get_coords(drivers)\n",
    "        plt.plot(xs, ys, 'bs', markersize=10, alpha=0.7)\n",
    "        \n",
    "        stopped = [driver for driver in self.drivers \n",
    "                  if driver.speed==0]\n",
    "        xs, ys = self.get_coords(stopped, r=0.8)\n",
    "        plt.plot(xs, ys, 'r^', markersize=12, alpha=0.7)\n",
    "        \n",
    "        plt.axis('off')\n",
    "        plt.axis('equal')\n",
    "        plt.xlim([-1.05, 1.05])\n",
    "        plt.ylim([-1.05, 1.05])\n",
    "\n",
    "    # Gets the coordinates of the drivers. Transforms from (row, col) to (x, y). \n",
    "    def get_coords(self, drivers, r=1):\n",
    "        # r: radius of the circle\n",
    "        \n",
    "        locs = np.array([driver.loc for driver in drivers])\n",
    "        locs *= 2 * np.pi / self.length\n",
    "        xs = r * np.cos(locs)\n",
    "        ys = r * np.sin(locs)\n",
    "        return xs, ys # returns tuple of sequences, (xs, ys)\n",
    "    \n",
    "    # Sends the simulation data to an Excel file.\n",
    "    def export_log(self): \n",
    "        log = {\n",
    "                'Driver_ID':self.driver_id_log,\n",
    "                'Speed' :self.speed_log,\n",
    "                'Location':self.location_log,\n",
    "                'Crash':self.crash_log,\n",
    "                }\n",
    "        df = pd.DataFrame(log)\n",
    "        df.to_excel('log.xlsx', index=True, header=True)"
   ]
  },
  {
   "cell_type": "code",
   "execution_count": 24,
   "metadata": {},
   "outputs": [],
   "source": [
    "# Function to explore the relationship between eps and average speed.\n",
    "def run_simulation(eps, constructor=Driver, iters=100):\n",
    "    res = []\n",
    "    for n in range(5, 100, 1): # range function = range(start, stop, step) \n",
    "        \n",
    "        highway = Highway(n, eps=eps, constructor=constructor)\n",
    "        for i in range(iters):\n",
    "            highway.step()\n",
    "\n",
    "        highway.set_odometers()\n",
    "        for i in range(iters):\n",
    "            highway.step()\n",
    "\n",
    "        res.append((n, highway.read_odometers() / iters))\n",
    "    \n",
    "    return np.transpose(res)"
   ]
  },
  {
   "cell_type": "code",
   "execution_count": 25,
   "metadata": {},
   "outputs": [],
   "source": [
    "\"\"\"\n",
    "Enter the number of vehicles and the random noise level.\n",
    "\"\"\"\n",
    "vehicles = 10\n",
    "eps = 0.0"
   ]
  },
  {
   "cell_type": "code",
   "execution_count": 9,
   "metadata": {},
   "outputs": [
    {
     "data": {
      "image/png": "[encoded data removed]",
      "text/plain": [
       "<Figure size 432x288 with 1 Axes>"
      ]
     },
     "metadata": {
      "needs_background": "light"
     },
     "output_type": "display_data"
    }
   ],
   "source": [
    "# Run the simulation.\n",
    "highway = Highway(vehicles, eps=eps) # The first parameter is the number of drivers; the second is the amount of random noise.\n",
    "# Create the animation.\n",
    "highway.animate(frames=100, interval=0.2)"
   ]
  },
  {
   "cell_type": "code",
   "execution_count": 28,
   "metadata": {},
   "outputs": [],
   "source": [
    "\"\"\"\n",
    "Optional step. Exports the simulation data to Excel. Only works for one simulation.\n",
    "\"\"\"\n",
    "highway.export_log()"
   ]
  },
  {
   "cell_type": "code",
   "execution_count": 10,
   "metadata": {},
   "outputs": [
    {
     "data": {
      "image/png": "[encoded data removed]",
      "text/plain": [
       "<Figure size 432x288 with 1 Axes>"
      ]
     },
     "metadata": {
      "needs_background": "light"
     },
     "output_type": "display_data"
    }
   ],
   "source": [
    "# Generate the figures for different eps conditions.\n",
    "from utils import set_palette\n",
    "set_palette('Blues', 4, reverse=True)\n",
    "\n",
    "for eps in [0.0, 0.001, 0.01]:\n",
    "    xs, ys = run_simulation(eps)\n",
    "    plt.plot(xs, ys, label='eps=%g' % eps)\n",
    "    \n",
    "decorate(xlabel='Number of cars',\n",
    "                 ylabel='Average speed',\n",
    "                 title='Simulations for different eps conditions',\n",
    "                 xlim=[0, 100], ylim=[0, 42])"
   ]
  },
  {
   "cell_type": "markdown",
   "metadata": {},
   "source": [
    "## Assignment \n",
    "\n",
    "### Conceptual Option\n",
    "\n",
    "Review the model and simulation covered in this module (assumptions, initial conditions, behaviours, structure, etc.). \n",
    "Collect information about the roads, driving behaviour, maximum and minimum speeds, traffic jams, etc., in Canada. \n",
    "Supported by the collected data and your experience, describe the adjustments and improvements you recommend adding to the model and the simulation if you would like to study traffic jams in the context of Canada. \n",
    "\n",
    "Reference the consulted sources using the APA format. Please submit a 2-3 page Word document with your results.\n",
    "\n",
    "### Hands-on Option\n",
    "\n",
    "The code section below creates three new classes and runs a loop to create a graph with the simulation results. The new classes `BetterDriver#` inherits from `Driver` and overrides `choose_acceleration`. The classes have the purpose of defining better driving rules than the basic implementation in `Driver` that only increases speed by 1 mile/hr, as implemented in the code above. \n",
    "\n",
    "The loop runs simulations with `Driver` and the `BetterDriver#`, and plots average speed as a function of the number of cars. The plot uses the area under the curves as a way to quantify the effect of driving behaviour on average speed over a range of densities.\n",
    "\n",
    "The method `choose_acceleration` receives the parameter `dist` that contains the distance to the next car and has access to the class attributes, like speed, via the variable `self.speed`. The minimum and maximum acceleration are -10 miles/hr and 1 mile/hr, the maximum speed is 40 miles/hr, and the `eps` is 0.\n",
    "\n",
    "For example, the provided `BetterDriverA` class is a little better in the sense that it keeps traffic moving smoothly at medium densities. However:\n",
    "* At high densities, it has almost no effect, and\n",
    "\n",
    "* At low densities, it is substantially worse.\n",
    "\n",
    "As a result, the total area under the curve is smaller.\n",
    "\n",
    "<b>Your objective is to design and code three `choose_acceleration` methods that try to maximize the area under the curve and analyze the simulation results.</b> Note that there is only a small penalty (2.5/100) if you can't find a method to maximize the area under the curve. Please submit your best methods in a Jupyter notebook and your analysis in a 1-2 page Word document."
   ]
  },
  {
   "cell_type": "code",
   "execution_count": 76,
   "metadata": {},
   "outputs": [],
   "source": [
    "class BetterDriver1(Driver):\n",
    "\n",
    "    def choose_acceleration(self, dist):\n",
    "\n",
    "        if dist > self.speed :\n",
    "            return 1\n",
    "        else:\n",
    "            return 0"
   ]
  },
  {
   "cell_type": "code",
   "execution_count": 77,
   "metadata": {},
   "outputs": [],
   "source": [
    "class BetterDriver2(Driver):\n",
    "\n",
    "    def choose_acceleration(self, dist):\n",
    "        \"\"\"\n",
    "        Write your formulas and rules below.\n",
    "        \"\"\"\n",
    "        if dist > 1 and self.speed < 40:\n",
    "            return 0.5\n",
    "        else:\n",
    "            return 0"
   ]
  },
  {
   "cell_type": "code",
   "execution_count": 78,
   "metadata": {},
   "outputs": [],
   "source": [
    "class BetterDriver3(Driver):\n",
    "\n",
    "    def choose_acceleration(self, dist):\n",
    "\n",
    "        if dist < 25:\n",
    "            if self.speed > 10:\n",
    "                return -1\n",
    "            else:\n",
    "                return 1\n",
    "        else:\n",
    "            return 1"
   ]
  },
  {
   "cell_type": "code",
   "execution_count": 79,
   "metadata": {},
   "outputs": [],
   "source": [
    "class BetterDriver4(Driver):\n",
    "    \n",
    "    def choose_acceleration(self, dist):\n",
    "\n",
    "        if (self.speed*1.25 >= dist):\n",
    "            return -0.25\n",
    "        else:\n",
    "            return 1"
   ]
  },
  {
   "cell_type": "code",
   "execution_count": 80,
   "metadata": {},
   "outputs": [
    {
     "name": "stdout",
     "output_type": "stream",
     "text": [
      "Driver Total Area Under the Curve =  1477.875\n",
      "BetterDriver1 Total Area Under the Curve =  1494.7492\n",
      "BetterDriver2 Total Area Under the Curve =  1493.5849999999996\n",
      "BetterDriver3 Total Area Under the Curve =  1612.5855626309735\n",
      "BetterDriver4 Total Area Under the Curve =  1613.4988238232822\n"
     ]
    },
    {
     "data": {
      "image/png": "[encoded data removed]",
      "text/plain": [
       "<Figure size 432x288 with 1 Axes>"
      ]
     },
     "metadata": {
      "needs_background": "light"
     },
     "output_type": "display_data"
    }
   ],
   "source": [
    "from scipy.integrate import trapezoid\n",
    "\n",
    "for constructor in [Driver, BetterDriver1,BetterDriver2,BetterDriver3,BetterDriver4]:\n",
    "    xs, ys = run_simulation(eps=0.0, constructor=constructor)\n",
    "    plt.plot(xs, ys, label=constructor.__name__)\n",
    "    print(constructor.__name__, 'Total Area Under the Curve = ' , trapezoid(ys, xs))\n",
    "    \n",
    "decorate(title='Comparison of different choose_acceleration methods',\n",
    "    xlabel='Number of cars',\n",
    "    ylabel='Average speed',\n",
    "    xlim=[0, 100], ylim=[0, 42])"
   ]
  },
  {
   "cell_type": "markdown",
   "metadata": {},
   "source": [
    "## Recommended Readings\n",
    "\n",
    "Once you have completed the interaction portion of the module, please read the following recommended reading.\n",
    "\n",
    "- Bernhardt, K., (2007). Agent-Based Modeling in Transportation. Transportation Research Circular, E-C113, 72-80. https://www.trb.org/Publications/Blurbs/158428.aspx"
   ]
  },
  {
   "cell_type": "markdown",
   "metadata": {},
   "source": [
    "## Optional Readings\n",
    "\n",
    "You will find additional resources in case you would like to continue exploring the topics covered in this module below.\n",
    "\n",
    "- Chapter 10 - Herds, Flocks, and Traffic Jams. Downey, A. (2018). Think complexity: Complexity science and computational modeling (Second). O’Reilly Media. https://mcgill.on.worldcat.org/oclc/1043913738"
   ]
  }
 ],
 "metadata": {
  "kernelspec": {
   "display_name": "Python 3",
   "language": "python",
   "name": "python3"
  },
  "language_info": {
   "codemirror_mode": {
    "name": "ipython",
    "version": 3
   },
   "file_extension": ".py",
   "mimetype": "text/x-python",
   "name": "python",
   "nbconvert_exporter": "python",
   "pygments_lexer": "ipython3",
   "version": "3.8.8"
  }
 },
 "nbformat": 4,
 "nbformat_minor": 2
}
