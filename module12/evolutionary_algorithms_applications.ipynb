{
 "cells": [
  {
   "cell_type": "markdown",
   "id": "74241fa1",
   "metadata": {},
   "source": [
    "<a target=\"_blank\" href=\"https://colab.research.google.com/github/alejandrogtz/cccs630-fall2023/blob/main/module12/evolutionary_algorithms_applications.ipynb\">\n",
    "  <img src=\"https://colab.research.google.com/assets/colab-badge.svg\" alt=\"Open In Colab\"/>\n",
    "</a>"
   ]
  },
  {
   "cell_type": "markdown",
   "id": "5235b01e",
   "metadata": {},
   "source": [
    "# Applications of Evolutionary Algorithms\n",
    "\n",
    "## Introduction\n",
    "\n",
    "In this module, we will apply evolutionary algorithms to solve routing problems. Please watch the following video about the travelling salesperson problem in preparation for the module's interaction portion."
   ]
  },
  {
   "cell_type": "code",
   "execution_count": null,
   "id": "4a16f45c",
   "metadata": {},
   "outputs": [],
   "source": [
    "%%HTML\n",
    "<iframe width=\"560\" height=\"315\" src=\"https://www.youtube.com/embed/Ov0EetgMws4\" frameborder=\"0\" allow=\"accelerometer; autoplay; clipboard-write; encrypted-media; gyroscope; picture-in-picture; web-share\" allowfullscreen></iframe>"
   ]
  },
  {
   "cell_type": "markdown",
   "id": "118417f1",
   "metadata": {},
   "source": [
    "## Concepts\n",
    "\n",
    "You will find a list of important concepts we will review in the module below.\n",
    "\n",
    "- Traveling salesperson problem\n",
    "- Optimization\n",
    "- Routes"
   ]
  },
  {
   "cell_type": "markdown",
   "id": "da170575",
   "metadata": {},
   "source": [
    "## Interaction"
   ]
  },
  {
   "cell_type": "code",
   "execution_count": null,
   "id": "c0077956",
   "metadata": {},
   "outputs": [],
   "source": [
    "import numpy as np\n",
    "import random\n",
    "import pandas as pd\n",
    "import math\n",
    "import geopandas as gpd\n",
    "from shapely.geometry import Point\n",
    "import matplotlib.pyplot as plt\n",
    "import contextily as ctx"
   ]
  },
  {
   "cell_type": "code",
   "execution_count": null,
   "id": "24658679",
   "metadata": {},
   "outputs": [],
   "source": [
    "data = pd.read_excel('points_of_interest.xlsx', sheet_name='points_of_interest') # Load the data into a Pandas Dataframe"
   ]
  },
  {
   "cell_type": "code",
   "execution_count": null,
   "id": "83650aa6",
   "metadata": {},
   "outputs": [],
   "source": [
    "data"
   ]
  },
  {
   "cell_type": "code",
   "execution_count": null,
   "id": "0bbc24f0",
   "metadata": {},
   "outputs": [],
   "source": [
    "data['Longitude']"
   ]
  },
  {
   "cell_type": "code",
   "execution_count": null,
   "id": "f29330b6",
   "metadata": {},
   "outputs": [],
   "source": [
    "data.Longitude"
   ]
  },
  {
   "cell_type": "code",
   "execution_count": null,
   "id": "61b0786c",
   "metadata": {},
   "outputs": [],
   "source": [
    "data.loc[0] # Access the first row via its primary label"
   ]
  },
  {
   "cell_type": "code",
   "execution_count": null,
   "id": "3de7244d",
   "metadata": {},
   "outputs": [],
   "source": [
    "np.random.seed(1)  # For reproducible results"
   ]
  },
  {
   "cell_type": "code",
   "execution_count": null,
   "id": "6c18f374",
   "metadata": {},
   "outputs": [],
   "source": [
    "data = data.sample(n=50)"
   ]
  },
  {
   "cell_type": "code",
   "execution_count": null,
   "id": "4f3d007d",
   "metadata": {},
   "outputs": [],
   "source": [
    "# Convert DataFrame to GeoDataFrame\n",
    "gdf = gpd.GeoDataFrame(data, geometry=gpd.points_from_xy(data.Longitude, data.Latitude))\n",
    "\n",
    "# Set the coordinate reference system (CRS) to WGS84 (epsg:4326)\n",
    "gdf.crs = \"EPSG:4326\"\n",
    "\n",
    "# Plotting\n",
    "fig, ax = plt.subplots(figsize=(10, 6))\n",
    "gdf.to_crs(epsg=3857).plot(ax=ax, color='blue', marker='o', markersize=50)\n",
    "\n",
    "# Add basemap\n",
    "#ctx.add_basemap(ax, source=ctx.providers.Stamen.TonerLite)\n",
    "\n",
    "# Show the plot\n",
    "plt.show()"
   ]
  },
  {
   "cell_type": "code",
   "execution_count": null,
   "id": "e81bf19c",
   "metadata": {},
   "outputs": [],
   "source": [
    "def geographic_to_cartesian(row):\n",
    "    # Convert latitude and longitude from degrees to radians\n",
    "    \n",
    "    lat = row['Longitude']\n",
    "    lon = row['Latitude']\n",
    "    lat, lon = map(math.radians, [lat, lon])\n",
    "\n",
    "    # Earth radius in kilometers\n",
    "    R = 6371\n",
    "\n",
    "    # Convert to Cartesian coordinates\n",
    "    x = R * math.cos(lat) * math.cos(lon)\n",
    "    y = R * math.cos(lat) * math.sin(lon)\n",
    "    z = R * math.sin(lat)\n",
    "\n",
    "    return x, y, z"
   ]
  },
  {
   "cell_type": "code",
   "execution_count": null,
   "id": "e66fd29a",
   "metadata": {},
   "outputs": [],
   "source": [
    "data['x'], data['y'], data['z']  = zip(*data.apply(geographic_to_cartesian, axis=1))"
   ]
  },
  {
   "cell_type": "code",
   "execution_count": null,
   "id": "53e21fca",
   "metadata": {},
   "outputs": [],
   "source": [
    "data"
   ]
  },
  {
   "cell_type": "code",
   "execution_count": null,
   "id": "3908a6d0",
   "metadata": {},
   "outputs": [],
   "source": [
    "import matplotlib.pyplot as plt\n",
    "from mpl_toolkits.mplot3d import Axes3D"
   ]
  },
  {
   "cell_type": "code",
   "execution_count": null,
   "id": "96fea876",
   "metadata": {},
   "outputs": [],
   "source": [
    "fig = plt.figure()\n",
    "ax = fig.add_subplot(111, projection='3d')\n",
    "scatter = ax.scatter(data['x'], data['y'], data['z'], c='b', marker='o')\n",
    "\n",
    "ax.set_xlabel('X Axis')\n",
    "ax.set_ylabel('Y Axis')\n",
    "ax.set_zlabel('Z Axis')\n",
    "\n",
    "plt.title('3D Scatter Plot')\n",
    "plt.show()"
   ]
  },
  {
   "cell_type": "code",
   "execution_count": null,
   "id": "559c5702",
   "metadata": {},
   "outputs": [],
   "source": [
    "import numpy as np\n",
    "import matplotlib.pyplot as plt\n",
    "from mpl_toolkits.mplot3d import Axes3D\n",
    "from matplotlib.animation import FuncAnimation\n",
    "from matplotlib import rc\n",
    "\n",
    "rc('animation', html='html5')\n",
    "\n",
    "# Generate some random data for demonstration\n",
    "np.random.seed(42)\n",
    "n_points = 100\n",
    "x = np.random.rand(n_points)\n",
    "y = np.random.rand(n_points)\n",
    "z = np.random.rand(n_points)\n",
    "\n",
    "# Create a 3D scatter plot\n",
    "fig = plt.figure()\n",
    "ax = fig.add_subplot(111, projection='3d')\n",
    "\n",
    "# Create the scatter plot\n",
    "scatter = ax.scatter(data['x'], data['y'], data['z'], c='b', marker='o')\n",
    "\n",
    "# Function to update the view when called\n",
    "def update(num, scatter, ax):\n",
    "    ax.view_init(elev=num, azim=num)\n",
    "\n",
    "# Create an animation by rotating the view\n",
    "ani = FuncAnimation(fig, update, frames=np.arange(0, 360, 2), fargs=(scatter, ax), interval=50)\n",
    "\n",
    "# Display the animation\n",
    "plt.show()"
   ]
  },
  {
   "cell_type": "code",
   "execution_count": null,
   "id": "b4bfb03f",
   "metadata": {},
   "outputs": [],
   "source": [
    "import numpy as np\n",
    "import matplotlib.pyplot as plt\n",
    "from mpl_toolkits.mplot3d import Axes3D\n",
    "from matplotlib.animation import FuncAnimation\n",
    "from matplotlib import rc\n",
    "\n",
    "# Create a 3D scatter plot\n",
    "fig = plt.figure()\n",
    "ax = fig.add_subplot(111, projection='3d')\n",
    "\n",
    "# Create the scatter plot\n",
    "scatter = ax.scatter(data['x'], data['y'], data['z'], c='b', marker='o')\n",
    "\n",
    "# Function to update the view when called\n",
    "def update(num, scatter, ax):\n",
    "    ax.view_init(elev=num, azim=num)\n",
    "\n",
    "# Create an animation by rotating the view\n",
    "ani = FuncAnimation(fig, update, frames=np.arange(0, 360, 2), fargs=(scatter, ax), interval=50)\n",
    "\n",
    "# Save the animation as a GIF\n",
    "ani.save(\"rotation_animation.gif\", writer=\"pillow\")\n",
    "\n",
    "# Display the animation\n",
    "plt.show()"
   ]
  },
  {
   "cell_type": "code",
   "execution_count": null,
   "id": "47b4d9c8",
   "metadata": {},
   "outputs": [],
   "source": [
    "coordinates = data[['x', 'y','z']].to_numpy()"
   ]
  },
  {
   "cell_type": "code",
   "execution_count": null,
   "id": "90f73c56",
   "metadata": {},
   "outputs": [],
   "source": [
    "coordinates"
   ]
  },
  {
   "cell_type": "code",
   "execution_count": null,
   "id": "e8451835",
   "metadata": {},
   "outputs": [],
   "source": [
    "# Greedy approach\n",
    "def greedy_tsp(coordinates):\n",
    "    remaining_locations = list(range(len(coordinates)))\n",
    "    path = [remaining_locations.pop(0)] # Start from the first location\n",
    "    while remaining_locations:\n",
    "        current_location = path[-1]\n",
    "        next_location = min(remaining_locations, key=lambda location: np.linalg.norm(coordinates[current_location] - coordinates[location]))\n",
    "        path.append(next_location)\n",
    "        remaining_locations.remove(next_location)\n",
    "    return path"
   ]
  },
  {
   "cell_type": "code",
   "execution_count": null,
   "id": "f1a5778f",
   "metadata": {},
   "outputs": [],
   "source": [
    "greedy_route = greedy_tsp(coordinates)"
   ]
  },
  {
   "cell_type": "code",
   "execution_count": null,
   "id": "22b3fb94",
   "metadata": {},
   "outputs": [],
   "source": [
    "# Calculate the total distance of the travel route\n",
    "\n",
    "# Calculate Euclidean distance between two locations\n",
    "def distance(from_location, to_location):\n",
    "    return np.linalg.norm(coordinates[from_location] - coordinates[to_location])\n",
    "\n",
    "# Evaluate the total distance of the route\n",
    "def evaluate(route):  \n",
    "    distance_sum = sum(distance(route[i], route[i+1]) for i in range(len(route) - 1))\n",
    "    distance_sum += distance(route[0], route[-1])  # Return to the starting location\n",
    "    return distance_sum,"
   ]
  },
  {
   "cell_type": "code",
   "execution_count": null,
   "id": "fdc7b8e9",
   "metadata": {},
   "outputs": [],
   "source": [
    "print(\"Route (Greedy Approach): \", greedy_route)\n",
    "print(\"Route Distance (Greedy Approach): \", evaluate(greedy_route))"
   ]
  },
  {
   "cell_type": "code",
   "execution_count": null,
   "id": "ff4a98fe",
   "metadata": {},
   "outputs": [],
   "source": [
    "from deap import base, creator, tools, algorithms\n",
    "\n",
    "num_locations = len(coordinates)\n",
    "\n",
    "# Set up DEAP\n",
    "creator.create(\"FitnessMin\", base.Fitness, weights=(-1.0,))\n",
    "creator.create(\"Individual\", list, fitness=creator.FitnessMin)\n",
    "\n",
    "toolbox = base.Toolbox()\n",
    "toolbox.register(\"indices\", random.sample, range(num_locations), num_locations)\n",
    "toolbox.register(\"individual\", tools.initIterate, creator.Individual, toolbox.indices)\n",
    "toolbox.register(\"population\", tools.initRepeat, list, toolbox.individual)\n",
    "\n",
    "toolbox.register(\"mate\", tools.cxOrdered)\n",
    "toolbox.register(\"mutate\", tools.mutShuffleIndexes, indpb=0.05)\n",
    "toolbox.register(\"select\", tools.selTournament, tournsize=3)\n",
    "toolbox.register(\"evaluate\", evaluate)\n",
    "\n",
    "def main():\n",
    "    pop = toolbox.population(n=500)\n",
    "    hof = tools.HallOfFame(1)\n",
    "    stats = tools.Statistics(lambda ind: ind.fitness.values)\n",
    "    stats.register(\"avg\", np.mean)\n",
    "    stats.register(\"min\", np.min)\n",
    "\n",
    "    pop, log = algorithms.eaSimple(pop, toolbox, 0.7, 0.2, 500, stats=stats, halloffame=hof, verbose=True)\n",
    "\n",
    "    return pop, log, hof\n",
    "\n",
    "if __name__ == \"__main__\":\n",
    "    pop, log, hof = main()\n",
    "    best_route = hof[0]\n",
    "    print(f\"Best Route (Genetic Algorithm): {best_route}\")\n",
    "    print(f\"Route Distance (Genetic Algorithm): {evaluate(best_route)[0]}\")"
   ]
  },
  {
   "cell_type": "markdown",
   "id": "833e7a78",
   "metadata": {},
   "source": [
    "## Assignment \n",
    "\n",
    "### Conceptual Option\n",
    "\n",
    "Pending.\n",
    "\n",
    "### Hands-on Option\n",
    "\n",
    "Pending."
   ]
  }
 ],
 "metadata": {
  "kernelspec": {
   "display_name": "Python 3",
   "language": "python",
   "name": "python3"
  },
  "language_info": {
   "codemirror_mode": {
    "name": "ipython",
    "version": 3
   },
   "file_extension": ".py",
   "mimetype": "text/x-python",
   "name": "python",
   "nbconvert_exporter": "python",
   "pygments_lexer": "ipython3",
   "version": "3.8.8"
  }
 },
 "nbformat": 4,
 "nbformat_minor": 5
}
