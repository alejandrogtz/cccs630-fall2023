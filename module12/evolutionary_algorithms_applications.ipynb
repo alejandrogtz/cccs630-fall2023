{
 "cells": [
  {
   "cell_type": "markdown",
   "id": "f6d5640c",
   "metadata": {},
   "source": [
    "<a target=\"_blank\" href=\"https://colab.research.google.com/github/alejandrogtz/cccs630-fall2023/blob/main/module12/evolutionary_algorithms_applications.ipynb\">\n",
    "  <img src=\"https://colab.research.google.com/assets/colab-badge.svg\" alt=\"Open In Colab\"/>\n",
    "</a>"
   ]
  },
  {
   "cell_type": "markdown",
   "id": "5235b01e",
   "metadata": {},
   "source": [
    "# Applications of Evolutionary Algorithms\n",
    "\n",
    "## Introduction\n",
    "\n",
    "In this module, we will apply evolutionary algorithms to solve routing problems. Please watch the following video about the travelling salesperson problem in preparation for the module's interaction portion."
   ]
  },
  {
   "cell_type": "code",
   "execution_count": null,
   "id": "4a16f45c",
   "metadata": {},
   "outputs": [],
   "source": [
    "%%HTML\n",
    "<iframe width=\"560\" height=\"315\" src=\"https://www.youtube.com/embed/Ov0EetgMws4\" frameborder=\"0\" allow=\"accelerometer; autoplay; clipboard-write; encrypted-media; gyroscope; picture-in-picture; web-share\" allowfullscreen></iframe>"
   ]
  },
  {
   "cell_type": "markdown",
   "id": "118417f1",
   "metadata": {},
   "source": [
    "## Concepts\n",
    "\n",
    "You will find a list of important concepts we will review in the module below.\n",
    "\n",
    "- Traveling salesperson problem\n",
    "- Optimization\n",
    "- Routes"
   ]
  },
  {
   "cell_type": "markdown",
   "id": "da170575",
   "metadata": {},
   "source": [
    "## Interaction"
   ]
  },
  {
   "cell_type": "markdown",
   "id": "53d1e9c6",
   "metadata": {},
   "source": [
    "In this interaction, we will solve the travelling salesperson problem using a greedy approach and a genetic algorithm. We will compare the produced results and review the advantages and disadvantages of both approaches.\n",
    "\n",
    "The travelling salesperson problem consists of determining the order in which a person should visit several cities or locations a single time and return to the starting location at the end. "
   ]
  },
  {
   "cell_type": "code",
   "execution_count": null,
   "id": "bd33c743",
   "metadata": {},
   "outputs": [],
   "source": [
    "pip install deap"
   ]
  },
  {
   "cell_type": "code",
   "execution_count": null,
   "id": "c0077956",
   "metadata": {},
   "outputs": [],
   "source": [
    "import numpy as np\n",
    "import random\n",
    "import pandas as pd\n",
    "import math\n",
    "import geopandas as gpd\n",
    "from shapely.geometry import Point\n",
    "import matplotlib.pyplot as plt\n",
    "#import contextily as ctx"
   ]
  },
  {
   "cell_type": "code",
   "execution_count": null,
   "id": "24658679",
   "metadata": {},
   "outputs": [],
   "source": [
    "data = pd.read_excel('points_of_interest.xlsx', sheet_name='points_of_interest') # Load the data into a Pandas Dataframe"
   ]
  },
  {
   "cell_type": "code",
   "execution_count": null,
   "id": "83650aa6",
   "metadata": {},
   "outputs": [],
   "source": [
    "data"
   ]
  },
  {
   "cell_type": "code",
   "execution_count": null,
   "id": "0bbc24f0",
   "metadata": {},
   "outputs": [],
   "source": [
    "data['Longitude'].head()"
   ]
  },
  {
   "cell_type": "code",
   "execution_count": null,
   "id": "f29330b6",
   "metadata": {},
   "outputs": [],
   "source": [
    "data.Longitude.head()"
   ]
  },
  {
   "cell_type": "code",
   "execution_count": null,
   "id": "83682454",
   "metadata": {},
   "outputs": [],
   "source": [
    "data['Latitude'].head()"
   ]
  },
  {
   "cell_type": "code",
   "execution_count": null,
   "id": "2920b8de",
   "metadata": {},
   "outputs": [],
   "source": [
    "data.loc[0] # Access the first row via its primary label"
   ]
  },
  {
   "cell_type": "code",
   "execution_count": null,
   "id": "0f00f09b",
   "metadata": {},
   "outputs": [],
   "source": [
    "np.random.seed(1)  # For reproducible results"
   ]
  },
  {
   "cell_type": "code",
   "execution_count": null,
   "id": "b39ea9a7",
   "metadata": {},
   "outputs": [],
   "source": [
    "\"\"\"\n",
    "Enter the sample size. The sample size is the number of locations you want to include in the route.\n",
    "\"\"\"\n",
    "sample_size = 50"
   ]
  },
  {
   "cell_type": "code",
   "execution_count": null,
   "id": "6c18f374",
   "metadata": {},
   "outputs": [],
   "source": [
    "data = data.sample(n=sample_size)"
   ]
  },
  {
   "cell_type": "code",
   "execution_count": null,
   "id": "4f3d007d",
   "metadata": {},
   "outputs": [],
   "source": [
    "# Convert DataFrame to GeoDataFrame\n",
    "gdf = gpd.GeoDataFrame(data, geometry=gpd.points_from_xy(data.Longitude, data.Latitude))\n",
    "\n",
    "# Set the coordinate reference system (CRS) to WGS84 (epsg:4326)\n",
    "gdf.crs = \"EPSG:4326\"\n",
    "\n",
    "# Plotting\n",
    "fig, ax = plt.subplots(figsize=(10, 6))\n",
    "gdf.to_crs(epsg=3857).plot(ax=ax, color='blue', marker='o', markersize=50)\n",
    "\n",
    "# Add basemap\n",
    "#ctx.add_basemap(ax, source=ctx.providers.Stamen.TonerLite)\n",
    "\n",
    "# Show the plot\n",
    "plt.show()"
   ]
  },
  {
   "cell_type": "code",
   "execution_count": null,
   "id": "e81bf19c",
   "metadata": {},
   "outputs": [],
   "source": [
    "def geographic_to_cartesian(row):\n",
    "    # Convert latitude and longitude from degrees to radians\n",
    "    lat = row['Latitude']\n",
    "    lon = row['Longitude']\n",
    "    lat, lon = map(math.radians, [lat, lon])\n",
    "\n",
    "    # Earth radius in meters\n",
    "    R = 6378\n",
    "\n",
    "    # Convert to Cartesian coordinates\n",
    "    x = R * math.cos(lat) * math.cos(lon)\n",
    "    y = R * math.cos(lat) * math.sin(lon)\n",
    "    z = R * math.sin(lat)\n",
    "\n",
    "    return x, y, z"
   ]
  },
  {
   "cell_type": "code",
   "execution_count": null,
   "id": "e66fd29a",
   "metadata": {},
   "outputs": [],
   "source": [
    "data['x'], data['y'], data['z']  = zip(*data.apply(geographic_to_cartesian, axis=1))"
   ]
  },
  {
   "cell_type": "code",
   "execution_count": null,
   "id": "53e21fca",
   "metadata": {},
   "outputs": [],
   "source": [
    "data"
   ]
  },
  {
   "cell_type": "code",
   "execution_count": null,
   "id": "79686110",
   "metadata": {},
   "outputs": [],
   "source": [
    "def recenter_cartesian(value,minimum):\n",
    "    return value - minimum"
   ]
  },
  {
   "cell_type": "code",
   "execution_count": null,
   "id": "9570062d",
   "metadata": {},
   "outputs": [],
   "source": [
    "data['x'] = data.apply(lambda row : recenter_cartesian(row['x'],data['x'].min()), axis = 1)"
   ]
  },
  {
   "cell_type": "code",
   "execution_count": null,
   "id": "2cc2bb43",
   "metadata": {},
   "outputs": [],
   "source": [
    "data['y'] = data.apply(lambda row : recenter_cartesian(row['y'],data['y'].min()), axis = 1)"
   ]
  },
  {
   "cell_type": "code",
   "execution_count": null,
   "id": "febbe47b",
   "metadata": {},
   "outputs": [],
   "source": [
    "data['z'] = data.apply(lambda row : recenter_cartesian(row['z'],data['z'].min()), axis = 1)"
   ]
  },
  {
   "cell_type": "code",
   "execution_count": null,
   "id": "e000c9e5",
   "metadata": {},
   "outputs": [],
   "source": [
    "data.loc[1613]"
   ]
  },
  {
   "cell_type": "code",
   "execution_count": null,
   "id": "3908a6d0",
   "metadata": {},
   "outputs": [],
   "source": [
    "import matplotlib.pyplot as plt\n",
    "from mpl_toolkits.mplot3d import Axes3D"
   ]
  },
  {
   "cell_type": "code",
   "execution_count": null,
   "id": "96fea876",
   "metadata": {},
   "outputs": [],
   "source": [
    "fig = plt.figure(figsize=(10,10))\n",
    "ax = fig.add_subplot(111, projection='3d')\n",
    "scatter = ax.scatter(data['x'], data['y'], data['z'], c='b', marker='o')\n",
    "\n",
    "ax.set_xlabel('X Axis')\n",
    "ax.set_ylabel('Y Axis')\n",
    "ax.set_zlabel('Z Axis')\n",
    "\n",
    "plt.title('Cartesian Coordinates of the Places of Interest')\n",
    "plt.show()"
   ]
  },
  {
   "cell_type": "code",
   "execution_count": null,
   "id": "559c5702",
   "metadata": {},
   "outputs": [],
   "source": [
    "from matplotlib.animation import FuncAnimation\n",
    "from matplotlib import rc\n",
    "\n",
    "rc('animation', html='html5')\n",
    "\n",
    "# Create a 3D scatter plot\n",
    "fig = plt.figure(figsize=(10,10))\n",
    "ax = fig.add_subplot(111, projection='3d')\n",
    "\n",
    "# Create the scatter plot\n",
    "scatter = ax.scatter(data['x'], data['y'], data['z'], c='b', marker='o')\n",
    "\n",
    "# Function to update the view when called\n",
    "def update(num, scatter, ax):\n",
    "    ax.view_init(elev=num, azim=num)\n",
    "\n",
    "# Create an animation by rotating the view\n",
    "ani = FuncAnimation(fig, update, frames=np.arange(0, 360, 2), fargs=(scatter, ax), interval=50)\n",
    "\n",
    "# Display the animation\n",
    "plt.show()"
   ]
  },
  {
   "cell_type": "code",
   "execution_count": null,
   "id": "3df05dfc",
   "metadata": {},
   "outputs": [],
   "source": [
    "# Display the animation.\n",
    "ani"
   ]
  },
  {
   "cell_type": "code",
   "execution_count": null,
   "id": "47b4d9c8",
   "metadata": {},
   "outputs": [],
   "source": [
    "coordinates = data[['x', 'y', 'z']].to_numpy()"
   ]
  },
  {
   "cell_type": "code",
   "execution_count": null,
   "id": "90f73c56",
   "metadata": {},
   "outputs": [],
   "source": [
    "coordinates"
   ]
  },
  {
   "cell_type": "code",
   "execution_count": null,
   "id": "1058ac46",
   "metadata": {},
   "outputs": [],
   "source": [
    "# Greedy approach\n",
    "def greedy_tsp(coordinates):\n",
    "    remaining_locations = list(range(len(coordinates)))\n",
    "    path = [remaining_locations.pop(0)] # Start from the first location\n",
    "    while remaining_locations:\n",
    "        current_location = path[-1]\n",
    "        next_location = min(remaining_locations, key=lambda location: np.linalg.norm(coordinates[current_location] - coordinates[location]))\n",
    "        path.append(next_location)\n",
    "        remaining_locations.remove(next_location)\n",
    "    return path"
   ]
  },
  {
   "cell_type": "code",
   "execution_count": null,
   "id": "f1a5778f",
   "metadata": {},
   "outputs": [],
   "source": [
    "greedy_route = greedy_tsp(coordinates)"
   ]
  },
  {
   "cell_type": "code",
   "execution_count": null,
   "id": "2f215ef3",
   "metadata": {},
   "outputs": [],
   "source": [
    "# Calculate the total distance of the travel route\n",
    "\n",
    "# Calculate Euclidean distance between two locations\n",
    "def distance(from_location, to_location):\n",
    "    return np.linalg.norm(coordinates[from_location] - coordinates[to_location])\n",
    "\n",
    "# Evaluate the total distance of the route\n",
    "def evaluate(route):  \n",
    "    distance_sum = sum(distance(route[i], route[i+1]) for i in range(len(route) - 1))\n",
    "    distance_sum += distance(route[0], route[-1])  # Return to the starting location\n",
    "    return distance_sum,"
   ]
  },
  {
   "cell_type": "code",
   "execution_count": null,
   "id": "fdc7b8e9",
   "metadata": {},
   "outputs": [],
   "source": [
    "print(\"Route (Greedy Approach): \", greedy_route)\n",
    "print(\"Route Distance (Greedy Approach): \", evaluate(greedy_route))"
   ]
  },
  {
   "cell_type": "code",
   "execution_count": null,
   "id": "0201a7b7",
   "metadata": {},
   "outputs": [],
   "source": [
    "\"\"\"\n",
    "Adjust the population size and the number of generations the genetic algorithm will evolve\n",
    "\"\"\"\n",
    "population_size = 500\n",
    "generations = 500"
   ]
  },
  {
   "cell_type": "code",
   "execution_count": null,
   "id": "ff4a98fe",
   "metadata": {},
   "outputs": [],
   "source": [
    "from deap import base, creator, tools, algorithms\n",
    "\n",
    "num_locations = len(coordinates)\n",
    "\n",
    "# Set up DEAP\n",
    "creator.create(\"FitnessMin\", base.Fitness, weights=(-1.0,))\n",
    "creator.create(\"Individual\", list, fitness=creator.FitnessMin)\n",
    "\n",
    "toolbox = base.Toolbox()\n",
    "toolbox.register(\"indices\", random.sample, range(num_locations), num_locations)\n",
    "toolbox.register(\"individual\", tools.initIterate, creator.Individual, toolbox.indices)\n",
    "toolbox.register(\"population\", tools.initRepeat, list, toolbox.individual)\n",
    "\n",
    "toolbox.register(\"mate\", tools.cxOrdered)\n",
    "toolbox.register(\"mutate\", tools.mutShuffleIndexes, indpb=0.05)\n",
    "toolbox.register(\"select\", tools.selTournament, tournsize=3)\n",
    "toolbox.register(\"evaluate\", evaluate)\n",
    "\n",
    "def main():\n",
    "    pop = toolbox.population(n=population_size)\n",
    "    hof = tools.HallOfFame(1)\n",
    "    stats = tools.Statistics(lambda ind: ind.fitness.values)\n",
    "    stats.register(\"avg\", np.mean)\n",
    "    stats.register(\"min\", np.min)\n",
    "\n",
    "    pop, log = algorithms.eaSimple(pop, toolbox, 0.7, 0.2, generations, stats=stats, halloffame=hof, verbose=True)\n",
    "\n",
    "    return pop, log, hof\n",
    "\n",
    "if __name__ == \"__main__\":\n",
    "    pop, log, hof = main()\n",
    "    best_route = hof[0]\n",
    "    print(f\"Best Route (Genetic Algorithm): {best_route}\")\n",
    "    print(f\"Route Distance (Genetic Algorithm): {evaluate(best_route)[0]}\")"
   ]
  },
  {
   "cell_type": "markdown",
   "id": "833e7a78",
   "metadata": {},
   "source": [
    "## Assignment \n",
    "\n",
    "### Conceptual Option\n",
    "\n",
    "Identify a problem or situation that you are interested in that could be optimized using genetic algorithms. Explore the existing literature published on Google Scholar and the McGill Library. Review in detail two research articles published on the topic. Prepare a report (2-3 page Word document) that summarizes the main ideas and findings of the selected articles in your own words and your insights. Reference the consulted sources using the APA format. \n",
    "\n",
    "### Hands-on Option\n",
    "\n",
    "Select a sample size, and adjust (increase and decrease) the population size and number of generations using the provided code. Compare the results against the greedy approach of each scenario. Explain the results obtained, taking into account the process genetic algorithms follow. Prepare a report (1-2 page Word document) that summarizes your results and insights. Reference the consulted sources using the APA format. "
   ]
  }
 ],
 "metadata": {
  "kernelspec": {
   "display_name": "Python 3",
   "language": "python",
   "name": "python3"
  },
  "language_info": {
   "codemirror_mode": {
    "name": "ipython",
    "version": 3
   },
   "file_extension": ".py",
   "mimetype": "text/x-python",
   "name": "python",
   "nbconvert_exporter": "python",
   "pygments_lexer": "ipython3",
   "version": "3.8.8"
  }
 },
 "nbformat": 4,
 "nbformat_minor": 5
}
