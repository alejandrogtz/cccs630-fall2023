{
 "cells": [
  {
   "cell_type": "markdown",
   "id": "f3031a64",
   "metadata": {},
   "source": [
    "# Introduction to System Dynamics\n",
    "\n",
    "## Introduction\n",
    "\n",
    "There are various approaches to model and simulate a complex system. So far in the course, we have explored cellular automata and agent-based simulations. Now, we will change gears, and explore a new technique in this module.\n",
    "\n",
    "We will review system dynamics as a relevant modelling approach for modelling systems that have non-linearities, feedback loops, and delays. In this module, we will cover what these concepts mean, the main principles of system dynamics, and its fundamental elements and considerations so we can read and understand system dynamics models.\n",
    "\n",
    "We will borrow a few financial concepts to guide our first modelling exercise with system dynamics in this module, so in preparation for the interaction portion of the course, please read the following web pages:\n",
    "\n",
    "- Interest rates - https://www.investopedia.com/terms/i/interestrate.asp\n",
    "- Canadian Guaranteed Investment Certificates (GICs) - https://www.investopedia.com/terms/g/gic.asp"
   ]
  },
  {
   "cell_type": "markdown",
   "id": "9e9d2988",
   "metadata": {},
   "source": [
    "## Concepts\n",
    "\n",
    "You will find a list of important concepts we will review in the module below.\n",
    "\n",
    "- System Dynamics\n",
    "- Rates\n",
    "- Stocks\n",
    "- Flows\n",
    "- Delays\n",
    "- Stock and flow diagram\n",
    "- Vensim\n",
    "- Feedback loops\n",
    "- Non-linear behaviour\n",
    "- Information flows"
   ]
  },
  {
   "cell_type": "markdown",
   "id": "f7a7f588",
   "metadata": {},
   "source": [
    "## Interaction\n",
    "\n",
    "System dynamics is a perspective as well as a set of tools with which it is possible to model, simulate, and study complex systems. It builds on theories developed in mathematics, physics, and engineering. From among these, nonlinear dynamics and feedback control are recognized as foundational (Sterman, 2000). An origin can also be found in the servomechanism theory (Martin, 2004). A servomechanism is an instrument where there is a feedback connection between the outputs and the inputs (Martin, 2004).\n",
    "\n",
    "System dynamics enables the analysis of complex systems characterized by interconnected components, nonlinear behaviours, and time delays. The simulations of the models are performed using specialized software packages, for example, Vensim and Stella. These software packages take care of the mathematics (differential equations, primarily) necessary to estimate the behaviours of the modelled system over time instead of performing the calculations manually.\n",
    "\n",
    "The simulated models become a virtual test bed. New changes can be introduced to a modelled system rapidly and cost-effectively. They can be used to test theories, strategies, and assumptions, all these while taking into consideration the complexities of the system.\n",
    "\n",
    "System dynamics can be applied to analyze any change process in physical and social systems (Forrester, 1999). Therefore, the potential areas of application are endless, from the study of population dynamics in a group of animals to changes in public policies, to technology assessments and even to understanding how the human body works (Forrester, 1999a).\n",
    "\n",
    "### Stock and Flow Diagram\n",
    "\n",
    "System dynamics uses a set of diagrams, building blocks, principles, and rules to model a complex system. One of the most common diagrams is the stock and flow diagram. It is the diagram typically employed in system dynamics tools to simulate the behaviour of a model. For this reason, we will focus on the stock and flow diagram in this module. \n",
    "\n",
    "The stock and flow diagram describes the structure of the system using stocks and flows. They are created using specific building components to represent the system elements. \n",
    "\n",
    "| Component | Description |\n",
    "| :-    | :-          |\n",
    "| Stock, Level or Accumulation | Stocks are in charge of accumulating matter, energy, information or knowledge of the represented system. As the simulation advances in time, the rates update the accumulations in the stocks. A different stock must be used for each element being simulated. If a snapshot of the system is taken at any given time if the simulation, the stocks would be reviewed to determine the status of the system.|\n",
    "| Rate or Flow | Rates are used to increase or decrease the accumulated amount in a stock. If the arrow points to the stock, an accumulation occurs. Conversely, if the arrow departs from the stock, a reduction occurs. Rates are conceptual representations of what goes on in the system; they can be defined as constant values or equations. They can also be determined using auxiliary variables or stocks.|\n",
    "Variable\n",
    "| Auxiliary variable | Auxiliary variables are used to explain the relations that exist in the model.|\n",
    "| Source or Sink | Represent elements or resources located outside the model. The behavior of these elements and resources are not part of the problem or system under study. It is assumed that there is an infinite amount of them from where the rate can take in. |\n",
    "| Information link or Connection | Information links or connections are used to connect the different elements of the model. A connection represents the existence of an information flow.|\n",
    "\n",
    "The stock and flow diagrams are constructed following a set of principles and basic rules: \n",
    "\n",
    "- The only way to increase or decrease a stock is through a rate.\n",
    "- A rate cannot feed another rate.\n",
    "- The information from a stock status or an auxiliary variable can be used to calculate rates.\n",
    "- A stock does not have to be a physical element. It is possible to accumulate intangible elements such as knowledge, motivation, experience, etc.\n",
    "- Everything in a system can be simplified to be a stock or rate. Auxiliary variables are used to make modeling easier, but they could also be stocks or rates.\n",
    "\n",
    "The principles and rules listed above can be helpful to represent any system (Forrester 1999a).\n",
    "\n",
    "To design system dynamics models and establish the values of its elements, we can use multiple information sources. Examples of these include, hard data like numerical data collected in company measurement programs, published research, empirical studies, or more soft knowledge captured in written descriptions, observations, mental models, and expert knowledge.\n",
    "\n",
    "### Feeback loops\n",
    "\n",
    "The feedbacks are interactions between the elements of the system. A feedback loop is formed when two elements affect each other mutually. Though systems can behave in different manners, all behaviors stem from two types of basic feedback loops, self-reinforcing or positive feedback and self-correcting or negative feedback. A feedback is positive when a behavior increases or amplifies what is happening; these types of feedback generate exponential growth behaviors. The positive feedback loop structure and distinctive behavior can be seen in Figure 3.1.\n",
    "In contrast, negative feedbacks - Figure 3.2 - are opposed to change. The elements in these relations seek a point of equilibrium or to limit themselves.\n",
    "A feedback can be identified by the signals in the relations, which can be positive (+) or negative (-). The positive sign indicates that the effect is related positively to the cause. It is also common to use a circled arrow with the letter R in to signal positive feedbacks and the letter B for negative feedbacks.\n",
    "\n",
    "### Non-linearities\n",
    "\n",
    "TO DO\n",
    "\n",
    "### Delays\n",
    "\n",
    "TO DO\n",
    "\n",
    "### Limitations\n",
    "\n",
    "System dynamics does not predict the future (Forrester, 1999b). The behavior of the system is generated solely by what has been included in the model. The dynamic behavior of the system is determined by the interaction between the feedback loops of a system, its structure, time delays and nonlinearities (Sterman, 2000).\n",
    "\n",
    "It is also important to mention the deficiencies or difficulties of applying system dynamics, the most important of which are summarized in the table below.\n",
    "\n",
    "\n",
    "|Concept\t|Limitations|\n",
    "| :-    | :-          |\n",
    "|Detail of the results | The results of the simulation are obtained in an aggregated fashion. It is necessary to assume averages or general rules. It is not possible to control or track individual units in the simulation. |\n",
    "| Precision of estimates generated through simulations | It is common to find differences when comparing simulation estimates with results of the real system. Several factors contribute in making system dynamics estimates inaccurate compared to the results of applying the changes in the real system. To start, the use of aggregated data decreases accuracy. Besides, it is necessary to accept that noise can exist within the system or when measuring results. Furthermore, in the perspective of system dynamics it is more important to see the changes in the behavior than having estimation accuracy. |\n",
    "| Level of detail of data used to calibrate the model | To get simulation results closest to reality, it is advisable to use data also closest to reality to calibrate the models. It is common for companies not to have the level of detail needed to calibrate the simulation models. This makes it difficult to calibrate the models with trustworthy data. Nonetheless, system dynamics minimizes this difficulty considering it is preferable to make an estimate of value over the option not to include it in the model. |"
   ]
  },
  {
   "cell_type": "markdown",
   "id": "d461999e",
   "metadata": {},
   "source": [
    "## Recommended Readings"
   ]
  },
  {
   "cell_type": "markdown",
   "id": "87ce3f7e",
   "metadata": {},
   "source": [
    "## Optional Readings\n",
    "\n",
    "You will find additional resources in case you would like to continue exploring the topics covered in this module below."
   ]
  }
 ],
 "metadata": {
  "kernelspec": {
   "display_name": "Python 3",
   "language": "python",
   "name": "python3"
  },
  "language_info": {
   "codemirror_mode": {
    "name": "ipython",
    "version": 3
   },
   "file_extension": ".py",
   "mimetype": "text/x-python",
   "name": "python",
   "nbconvert_exporter": "python",
   "pygments_lexer": "ipython3",
   "version": "3.8.8"
  }
 },
 "nbformat": 4,
 "nbformat_minor": 5
}
