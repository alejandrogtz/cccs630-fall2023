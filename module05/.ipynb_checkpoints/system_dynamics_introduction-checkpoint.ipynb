{
 "cells": [
  {
   "cell_type": "markdown",
   "id": "f3031a64",
   "metadata": {},
   "source": [
    "# Introduction to System Dynamics\n",
    "\n",
    "## Introduction\n",
    "\n",
    "There are various approaches to model and simulate a complex system. So far in the course, we have explored cellular automata and agent-based simulations. Now, we will change gears and explore another approach in this module.\n",
    "\n",
    "We will review system dynamics as a relevant modelling approach for modelling systems with non-linearities, feedback loops, and delays. In this module, we will cover the fundamental building blocks of the system dynamics modelling technique named stock and flow diagram and some considerations about this modelling approach so we can read and understand system dynamics models.\n",
    "\n",
    "In preparation for the interaction portion of the module, please <a href=https://vensim.com/free-downloads/>request</a>, download and install the simulator Vensim PLE, and read the following web page and :\n"
   ]
  },
  {
   "attachments": {},
   "cell_type": "markdown",
   "id": "9e9d2988",
   "metadata": {},
   "source": [
    "## Concepts\n",
    "\n",
    "You will find a list of important concepts we will review in the module below.\n",
    "\n",
    "- Auxiliary variables\n",
    "- Connections\n",
    "- Flows\n",
    "- Rates\n",
    "- Sinks\n",
    "- Sources\n",
    "- Stock and flow diagram\n",
    "- Stocks\n",
    "- System Dynamics\n",
    "- Vensim"
   ]
  },
  {
   "cell_type": "markdown",
   "id": "f7a7f588",
   "metadata": {},
   "source": [
    "## Interaction\n",
    "\n",
    "System dynamics is a perspective as well as a set of tools with which it is possible to model, simulate, and study complex systems. \n",
    "\n",
    "It builds on theories developed in mathematics, physics, and engineering. From among these, nonlinear dynamics and feedback control are recognized as foundational (Sterman, 2000). An origin can also be found in the servomechanism theory (Martin, 2004). A servomechanism is an instrument where there is a feedback connection between the outputs and the inputs (Martin, 2004).\n",
    "\n",
    "System dynamics enables the analysis of complex systems characterized by interconnected components, nonlinear behaviours, and time delays. The simulations of the models are performed using specialized software packages, for example, Vensim and Stella. These software packages take care of the mathematics (differential equations, primarily) necessary to estimate the behaviours of the modelled system over time instead of performing the calculations manually.\n",
    "\n",
    "The simulated models are used as virtual test labs. New changes can be introduced to a modelled system rapidly and cost-effectively. The models and simulations can be used to test theories, strategies, and assumptions, all these while taking into consideration the complexities of the system.\n",
    "\n",
    "System dynamics can be applied to analyze any change process in physical and social systems (Forrester, 1999). Therefore, the potential areas of application are endless, from the study of population dynamics in a group of animals to changes in public policies, to technology assessments and even to understanding how the human body works (Forrester, 1999a).\n",
    "\n",
    "### Stock and Flow Diagram\n",
    "\n",
    "System dynamics uses a set of diagrams, building blocks, principles, and rules to model a complex system. One of the most common diagrams is the stock and flow diagram. This diagram is typically employed in system dynamics tools to describe quantitatively the behaviour of a model. For this reason, we will focus on the stock and flow diagram in this course. \n",
    "\n",
    "The stock and flow diagram describes the structure of a system using stocks and flows and a few additional elements to facilitate the modelling work. The next table lists the fundamental components to represent a system using the stock and flow diagram. \n",
    "\n",
    "| Component | Description |\n",
    "| :-    | :-          |\n",
    "| Stock, Level or Accumulation | Stocks are in charge of accumulating matter, energy, information or knowledge of the represented system. As the simulation advances in time, the rates update the accumulations in the stocks. A different stock must be used for each element being simulated. If a snapshot of the system is taken at any given time during the simulation, the stocks will be reviewed to determine the status of the system.|\n",
    "| Rate or Flow | Rates are used to increase or decrease the accumulated amount in a stock. If the arrow points to the stock, an accumulation occurs. Conversely, if the arrow departs from the stock, a reduction occurs. Rates are conceptual representations of what goes on in the system; they can be defined as constant values or equations. They can also be determined using auxiliary variables or stocks.|\n",
    "| Auxiliary variable | Auxiliary variables are used to explain the relations that exist in the model.|\n",
    "| Source or Sink | Represent elements or resources located outside the model. The behaviour of these elements and resources is not part of the problem or system under study. It is assumed that there is an infinite amount of them from where the rate can take in. |\n",
    "| Connection or Information link| Information links or connections are used to connect the different elements of the model. A connection represents the existence of an information flow.|\n",
    "\n",
    "The stock and flow diagrams are constructed following a set of principles and basic rules: \n",
    "\n",
    "- The only way to increase or decrease a stock is through a rate.\n",
    "- A rate cannot feed another rate.\n",
    "- The information from a stock status or an auxiliary variable can be used to calculate rates.\n",
    "- A stock does not have to be a physical element. It is possible to accumulate intangible elements such as knowledge, motivation, experience, etc.\n",
    "- Everything in a system can be simplified to be a stock or rate. Auxiliary variables are used to make modelling easier, but they could also be stocks or rates.\n",
    "\n",
    "The principles and rules listed above can be helpful to represent any system (Forrester 1999a).\n",
    "\n",
    "### Vensim\n",
    "\n",
    "Vensim is a simulation package for system dynamics models. It is designed for creating and simulating stock and flow diagrams using a graphical interface.\n",
    "\n",
    "Starting a new model in Vensim requires entering some basic information about the time bounds we would like to explore during the simulation. We must specify the desired units of time (seconds, minutes, days, etc.), the starting and end points, and the step size (time step) for the simulation. In case the parameters need to be changed, we make adjustments using the menu Model, option Settings.\n",
    "\n",
    "After entering the initial model settings, we can add and configure the building blocks to construct our models.\n",
    "\n",
    "Vensim has many configurations, functions, formulas, etc., but understanding and simulating a model only requires knowing a few things.\n",
    "\n",
    "In the Vensim, a stock requires entering a name, an equation, and an initial value. The initial value is the stock value at the start of the simulation (time 0). Stocks receive and get depleted by rates. Therefore, rates will be used to define the stock equation. \n",
    "\n",
    "On the other side, rates and variables have similar configurations with slightly fewer options. You must enter a name and an equation or constant value for all your rates and variables.\n",
    "\n",
    "### Instructions\n",
    "\n",
    "In this interaction, we will simulate a few simple mathematical formulas using system dynamics.\n",
    "\n",
    "- Recreate the models covered in class to familiarize yourself with the Vensim environment and the stock and flow diagram."
   ]
  },
  {
   "cell_type": "markdown",
   "id": "d461999e",
   "metadata": {},
   "source": [
    "## Recommended Readings"
   ]
  },
  {
   "cell_type": "markdown",
   "id": "87ce3f7e",
   "metadata": {},
   "source": [
    "## Optional Readings\n",
    "\n",
    "You will find additional resources in case you would like to continue exploring the topics covered in this module below."
   ]
  }
 ],
 "metadata": {
  "kernelspec": {
   "display_name": "Python 3",
   "language": "python",
   "name": "python3"
  },
  "language_info": {
   "codemirror_mode": {
    "name": "ipython",
    "version": 3
   },
   "file_extension": ".py",
   "mimetype": "text/x-python",
   "name": "python",
   "nbconvert_exporter": "python",
   "pygments_lexer": "ipython3",
   "version": "3.8.8"
  }
 },
 "nbformat": 4,
 "nbformat_minor": 5
}
