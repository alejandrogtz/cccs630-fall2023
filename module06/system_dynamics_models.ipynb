{
 "cells": [
  {
   "cell_type": "markdown",
   "id": "14ff87ad",
   "metadata": {},
   "source": [
    "# Modelling Using Systems Dynamics\n",
    "\n",
    "## Introduction\n",
    "\n",
    "After reviewing the fundamental building blocks of the stock and flow diagram, we will build a simple model to study the population dynamics of a country in this module.\n",
    "\n",
    "In preparation for the interaction portion, please watch the following video about population dynamics and try to identify the main drivers that limit or increase the population size. The video was prepared by the Harvard Smithsonian Center for Astrophysics in association with the Harvard University Center for the Environment. If you are interested, continue your learning on their <a href=\"https://www.learner.org/series/the-habitable-planet-a-systems-approach-to-environmental-science/human-population-dynamics/\" target=\"_blank\">website</a>."
   ]
  },
  {
   "cell_type": "code",
   "execution_count": 1,
   "id": "daae7928",
   "metadata": {},
   "outputs": [
    {
     "data": {
      "text/html": [
       "<iframe width=\"560\" height=\"315\" src=\"https://cdn.jwplayer.com/previews/Gs61kvUH?exp=1695247200&sig=96550cc93f15813c746545f1b1e56bfd\" frameborder=\"0\" allow=\"accelerometer; autoplay; clipboard-write; encrypted-media; gyroscope; picture-in-picture; web-share\" allowfullscreen></iframe>\n"
      ],
      "text/plain": [
       "<IPython.core.display.HTML object>"
      ]
     },
     "metadata": {},
     "output_type": "display_data"
    }
   ],
   "source": [
    "%%HTML\n",
    "<iframe width=\"560\" height=\"315\" src=\"https://cdn.jwplayer.com/previews/Gs61kvUH?exp=1695247200&sig=96550cc93f15813c746545f1b1e56bfd\" frameborder=\"0\" allow=\"accelerometer; autoplay; clipboard-write; encrypted-media; gyroscope; picture-in-picture; web-share\" allowfullscreen></iframe>"
   ]
  },
  {
   "cell_type": "markdown",
   "id": "0b5a726c",
   "metadata": {},
   "source": [
    "## Concepts\n",
    "\n",
    "You will find a list of important concepts we will review in the module below.\n",
    "\n",
    "- Population dynamics\n",
    "- Feedback loops\n",
    "- System dynamics limitations"
   ]
  },
  {
   "cell_type": "markdown",
   "id": "2a27b952",
   "metadata": {},
   "source": [
    "## Interaction\n",
    "\n",
    "To design system dynamics models and establish the values of its elements, we can use multiple information sources. Examples of these include, hard data like numerical data collected in company measurement programs, published research, empirical studies, or more soft knowledge captured in written descriptions, observations, mental models, and expert knowledge.\n",
    "\n",
    "these concepts mean, the main principles of system dynamics, and\n",
    "\n",
    "\n",
    "### Feeback loops\n",
    "\n",
    "The feedbacks are interactions between the elements of the system. A feedback loop is formed when two elements affect each other mutually. Though systems can behave in different manners, all behaviors stem from two types of basic feedback loops, self-reinforcing or positive feedback and self-correcting or negative feedback. A feedback is positive when a behavior increases or amplifies what is happening; these types of feedback generate exponential growth behaviors. The positive feedback loop structure and distinctive behavior can be seen in Figure 3.1.\n",
    "In contrast, negative feedbacks - Figure 3.2 - are opposed to change. The elements in these relations seek a point of equilibrium or to limit themselves.\n",
    "A feedback can be identified by the signals in the relations, which can be positive (+) or negative (-). The positive sign indicates that the effect is related positively to the cause. It is also common to use a circled arrow with the letter R in to signal positive feedbacks and the letter B for negative feedbacks.\n",
    "\n",
    "\n",
    "\n",
    "### System Dynamics Limitations\n",
    "\n",
    "System dynamics does not predict the future (Forrester, 1999b). The behavior of the system is generated solely by what has been included in the model. The dynamic behavior of the system is determined by the interaction between the feedback loops of a system, its structure, time delays and nonlinearities (Sterman, 2000).\n",
    "\n",
    "It is also important to mention the deficiencies or difficulties of applying system dynamics, the most important of which are summarized in the table below.\n",
    "\n",
    "\n",
    "|Concept\t|Limitations|\n",
    "| :-    | :-          |\n",
    "|Detail of the results | The results of the simulation are obtained in an aggregated fashion. It is necessary to assume averages or general rules. It is not possible to control or track individual units in the simulation. |\n",
    "| Precision of estimates generated through simulations | It is common to find differences when comparing simulation estimates with results of the real system. Several factors contribute in making system dynamics estimates inaccurate compared to the results of applying the changes in the real system. To start, the use of aggregated data decreases accuracy. Besides, it is necessary to accept that noise can exist within the system or when measuring results. Furthermore, in the perspective of system dynamics it is more important to see the changes in the behavior than having estimation accuracy. |\n",
    "| Level of detail of data used to calibrate the model | To get simulation results closest to reality, it is advisable to use data also closest to reality to calibrate the models. It is common for companies not to have the level of detail needed to calibrate the simulation models. This makes it difficult to calibrate the models with trustworthy data. Nonetheless, system dynamics minimizes this difficulty considering it is preferable to make an estimate of value over the option not to include it in the model. |"
   ]
  },
  {
   "cell_type": "markdown",
   "id": "cece04ff",
   "metadata": {},
   "source": [
    "## Assignment \n",
    "\n",
    "### Conceptual Option\n",
    "\n",
    "Research the main factors (policies, resources, etc.) that are driving the population growth in Canada. Identify the additional variables you consider should be added to the model to improve its predictive capacity.\n",
    "\n",
    "Reference the consulted sources using the APA format. Please submit a 2-3 page Word document summaring your research and recommendations.\n",
    "\n",
    "### Hands-on Option\n",
    "\n",
    "Select a country you are familiar with other than Canada. Find the current values of the population variables (population, births, deaths, immigration, etc.) necessary to calibrate the population model reviewed in the module. Calibrate the model using the obtained data and simulate it. Compare the model results with future population estimations for the country. Determine how accurate the model predictions are and describe the potential shortcomings of the model for studying the chosen country."
   ]
  },
  {
   "cell_type": "markdown",
   "id": "c4540c5c",
   "metadata": {},
   "source": [
    "## Recommended Readings"
   ]
  },
  {
   "cell_type": "markdown",
   "id": "a336c316",
   "metadata": {},
   "source": [
    "## Optional Readings\n",
    "\n",
    "You will find additional resources in case you would like to continue exploring the topics covered in this module below."
   ]
  }
 ],
 "metadata": {
  "kernelspec": {
   "display_name": "Python 3",
   "language": "python",
   "name": "python3"
  },
  "language_info": {
   "codemirror_mode": {
    "name": "ipython",
    "version": 3
   },
   "file_extension": ".py",
   "mimetype": "text/x-python",
   "name": "python",
   "nbconvert_exporter": "python",
   "pygments_lexer": "ipython3",
   "version": "3.8.8"
  }
 },
 "nbformat": 4,
 "nbformat_minor": 5
}
