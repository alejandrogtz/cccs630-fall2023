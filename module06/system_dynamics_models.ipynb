{
 "cells": [
  {
   "cell_type": "markdown",
   "id": "14ff87ad",
   "metadata": {},
   "source": [
    "# Modelling Using Systems Dynamics\n",
    "\n",
    "## Introduction\n",
    "\n",
    "\n",
    "\n",
    "\n",
    "We will require a few financial concepts to guide our modelling exercise with system dynamics in this module, so in preparation for the interaction portion of the course, please read the following web pages:\n",
    "\n",
    "- Interest rates - https://www.investopedia.com/terms/i/interestrate.asp\n",
    "- Canadian Guaranteed Investment Certificates (GICs) - https://www.investopedia.com/terms/g/gic.asp\n",
    "- 4% Rule - https://www.investopedia.com/terms/f/four-percent-rule.asp"
   ]
  },
  {
   "cell_type": "markdown",
   "id": "0b5a726c",
   "metadata": {},
   "source": [
    "## Concepts\n",
    "\n",
    "You will find a list of important concepts we will review in the module below.\n",
    "\n",
    "\n",
    "- Feedback loops\n",
    "- Non-linear behaviour\n",
    "- Information flows"
   ]
  },
  {
   "cell_type": "markdown",
   "id": "2a27b952",
   "metadata": {},
   "source": [
    "## Interaction\n",
    "\n",
    "To design system dynamics models and establish the values of its elements, we can use multiple information sources. Examples of these include, hard data like numerical data collected in company measurement programs, published research, empirical studies, or more soft knowledge captured in written descriptions, observations, mental models, and expert knowledge.\n",
    "\n",
    "these concepts mean, the main principles of system dynamics, and\n",
    "\n",
    "\n",
    "### Feeback loops\n",
    "\n",
    "The feedbacks are interactions between the elements of the system. A feedback loop is formed when two elements affect each other mutually. Though systems can behave in different manners, all behaviors stem from two types of basic feedback loops, self-reinforcing or positive feedback and self-correcting or negative feedback. A feedback is positive when a behavior increases or amplifies what is happening; these types of feedback generate exponential growth behaviors. The positive feedback loop structure and distinctive behavior can be seen in Figure 3.1.\n",
    "In contrast, negative feedbacks - Figure 3.2 - are opposed to change. The elements in these relations seek a point of equilibrium or to limit themselves.\n",
    "A feedback can be identified by the signals in the relations, which can be positive (+) or negative (-). The positive sign indicates that the effect is related positively to the cause. It is also common to use a circled arrow with the letter R in to signal positive feedbacks and the letter B for negative feedbacks.\n",
    "\n",
    "### Non-linearities\n",
    "\n",
    "TO DO\n",
    "\n"
   ]
  },
  {
   "cell_type": "markdown",
   "id": "db49cfef",
   "metadata": {},
   "source": [
    "## System Dynamics Model\n",
    "\n",
    "### Assumptions and Limitations\n",
    "\n",
    "- The model doesn't include taxes or transaction costs.\n",
    "- The model assumes only liquid assests (easily convertible into cash).\n",
    "\n",
    "- The model allow adjusts in the life style of the person (adjusting expenses because inflation).\n",
    "- The model assumes constant interest and inflation rates.\n",
    "- The model doesn't consider additional sources of income, except from interest payments.\n",
    "\n",
    "### Improvements\n",
    "\n",
    "- Add an additional income source.\n",
    "- Adjust the life style based on savings.\n",
    "- Explore the effect of different scenarios; for example, higher or lower interest and inflation rates.\n",
    "\n"
   ]
  },
  {
   "cell_type": "markdown",
   "id": "c4540c5c",
   "metadata": {},
   "source": [
    "## Recommended Readings"
   ]
  },
  {
   "cell_type": "markdown",
   "id": "a336c316",
   "metadata": {},
   "source": [
    "## Optional Readings\n",
    "\n",
    "You will find additional resources in case you would like to continue exploring the topics covered in this module below."
   ]
  }
 ],
 "metadata": {
  "kernelspec": {
   "display_name": "Python 3",
   "language": "python",
   "name": "python3"
  },
  "language_info": {
   "codemirror_mode": {
    "name": "ipython",
    "version": 3
   },
   "file_extension": ".py",
   "mimetype": "text/x-python",
   "name": "python",
   "nbconvert_exporter": "python",
   "pygments_lexer": "ipython3",
   "version": "3.8.8"
  }
 },
 "nbformat": 4,
 "nbformat_minor": 5
}
