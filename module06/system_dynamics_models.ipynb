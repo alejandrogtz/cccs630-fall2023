{
 "cells": [
  {
   "cell_type": "markdown",
   "id": "14ff87ad",
   "metadata": {},
   "source": [
    "# Modelling Using Systems Dynamics\n",
    "\n",
    "## Introduction"
   ]
  },
  {
   "cell_type": "markdown",
   "id": "0b5a726c",
   "metadata": {},
   "source": [
    "## Concepts\n",
    "\n",
    "You will find a list of important concepts we will review in the module below."
   ]
  },
  {
   "cell_type": "markdown",
   "id": "2a27b952",
   "metadata": {},
   "source": [
    "## Interaction"
   ]
  },
  {
   "cell_type": "markdown",
   "id": "c4540c5c",
   "metadata": {},
   "source": [
    "## Recommended Readings"
   ]
  },
  {
   "cell_type": "markdown",
   "id": "a336c316",
   "metadata": {},
   "source": [
    "## Optional Readings\n",
    "\n",
    "You will find additional resources in case you would like to continue exploring the topics covered in this module below."
   ]
  }
 ],
 "metadata": {
  "kernelspec": {
   "display_name": "Python 3",
   "language": "python",
   "name": "python3"
  },
  "language_info": {
   "codemirror_mode": {
    "name": "ipython",
    "version": 3
   },
   "file_extension": ".py",
   "mimetype": "text/x-python",
   "name": "python",
   "nbconvert_exporter": "python",
   "pygments_lexer": "ipython3",
   "version": "3.8.8"
  }
 },
 "nbformat": 4,
 "nbformat_minor": 5
}
