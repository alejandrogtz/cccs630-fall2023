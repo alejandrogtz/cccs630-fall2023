{
 "cells": [
  {
   "cell_type": "markdown",
   "id": "14ff87ad",
   "metadata": {},
   "source": [
    "# Modelling Using Systems Dynamics\n",
    "\n",
    "## Introduction\n",
    "\n",
    "After reviewing the fundamental building blocks of the stock and flow diagram, we will build two simple models. The first model will reproduce the behaviour of a basic investment account, and the second a credit card account.\n",
    "\n",
    "We will require some fundamental financial concepts to guide our modelling exercise in this module. Therefore, please read the following web pages in preparation for the interaction portion:\n",
    "\n",
    "- Interest rates - https://www.investopedia.com/terms/i/interestrate.asp\n",
    "- Credit card minimum payments - https://www.thebalancemoney.com/credit-card-minimum-payment-calculation-960238"
   ]
  },
  {
   "cell_type": "markdown",
   "id": "0b5a726c",
   "metadata": {},
   "source": [
    "## Concepts\n",
    "\n",
    "You will find a list of important concepts we will review in the module below.\n",
    "\n",
    "- Balancing behaviour\n",
    "- Compound interest\n",
    "- Credit card account\n",
    "- Feedback loops\n",
    "- Growth behaviour \n",
    "- Interest rates\n",
    "- Investment account"
   ]
  },
  {
   "cell_type": "markdown",
   "id": "2a27b952",
   "metadata": {},
   "source": [
    "## Interaction\n",
    "\n",
    "In this interaction, we will focus on a fundamental aspect that introduces complexity in a system: feedback loops.\n",
    "\n",
    "### Feedback loops\n",
    "\n",
    "The feedbacks are interactions between the elements of the system. A feedback loop is formed when two elements affect each other mutually. There are two types of basic feedback loops: self-reinforcing or positive feedback and self-correcting or negative feedback. \n",
    "\n",
    "A feedback loop is positive when a behaviour increases or amplifies what is happening; these types of feedback generate exponential growth behaviours. \n",
    "\n",
    "<img src=\"https://drive.google.com/uc?export=view&id=1MzFp7j7eP5E7TorrFJhPSDpN2wcm-jt-\" width=\"600\" />\n",
    "\n",
    "In contrast, negative feedback loops are opposed to change. The elements in these relations seek a point of equilibrium or to limit themselves.\n",
    "\n",
    "<img src=\"https://drive.google.com/uc?export=view&id=1sP_Il4u3s925SZqcIHta5SKDHlAFItnp\" width=\"600\" />\n",
    "\n",
    "### Models\n",
    "\n",
    "We will create two models to explore feedback loops. The models will replicate an investment account and a credit card account.\n",
    "\n",
    "#### Investment Account Model \n",
    "\n",
    "Initial Conditions, Assumptions, and Limitations\n",
    "\n",
    "- The interest rate is 5% annually.\n",
    "- The term of the investment (time horizon) is 10 years or 120 months.\n",
    "- The initial capital is 100,000 CAD.\n",
    "- The interest rate is fixed for the simulated term.\n",
    "- The interest is compounded monthly. Note that the way interest is compounded varies depending on the investment type.\n",
    "- The model only permits deposits obtained from the interests earned.\n",
    "- The model doesn't permit withdrawals from the investment account.\n",
    "\n",
    "#### Credit Card Account Model\n",
    "\n",
    "Initial Conditions, Assumptions, and Limitations\n",
    "\n",
    "- The interest rate is 20% annually.\n",
    "- The annual interest rate is compounded monthly; unlike some credit cards that charge interest daily.\n",
    "- The initial debt is 10,000 CAD.\n",
    "- The client only uses one payment type.\n",
    "- There are two types of payments: minimum payments and fixed payments.\n",
    "    - The minimum payment is determined by a percentage of the pending balance.\n",
    "    - The fixed payment is determined by a percentage of the initial amount of debt.\n",
    "- Both payment types use the same percentage value of 2%.\n",
    "- The model doesn't permit additional payments.\n",
    "- The model doesn't include increases in the amount of debt, for example, due to additional expenses.\n",
    "\n",
    "### Instructions\n",
    "\n",
    "- Recreate the two models covered in class.\n",
    "- Explore changes to the initial conditions of the models and analyze the results.\n",
    "    - Investment Account Model\n",
    "        - Increase the term of the investment to 30 years.\n",
    "    - Credit Card Model\n",
    "        - Increase the payment rule to 5%.\n",
    "- Reproduce the initial conditions of the models using the following online calculators.\n",
    "    - Investment calculator - https://www.calculator.net/investment-calculator.html\n",
    "    - Credit card calculator - https://www.calculator.net/credit-card-calculator.html\n",
    "- Compare your simulation results and the estimations obtained with the online calculators to determine the accuracy of the models."
   ]
  },
  {
   "cell_type": "markdown",
   "id": "cece04ff",
   "metadata": {},
   "source": [
    "## Assignment \n",
    "\n",
    "### Conceptual Option\n",
    "\n",
    "Research or reflect on what relevant elements or variables could be added to the investment and credit account models from the consumer's perspective of these financial products. Create improved diagrams connecting the additional variables identified during the research with the provided stock and flow diagrams. Include formulas or descriptions explaining the new elements and their relationships. The newly added elements and variables don't need to follow the stock and flow format and structure, but should integrate the main elements of the models covered in the module. Please submit a 2-3 page Word document with your diagrams and explanations. Reference the consulted sources using the APA format.\n",
    "\n",
    "\n",
    "### Hands-on Option\n",
    "\n",
    "Select two banks you are familiar with from the same country; for example, TD and National Bank from Canada. Find the current values of the variables (interest rates, minimum credit card payment, typical investment term, etc.) included in the models reviewed in the module. If the required data is not readily available, you can make assumptions about the values but indicate this in your report. Calibrate the models using the obtained data and simulate them. Compare your results to the online calculators provided by the selected banks to determine how accurate the model predictions are. Analyze the model results of the two banks. Based on your analysis, determine which of the two banks you would recommend using. Please submit a 1-2 page Word document summarizing your analysis. Reference the consulted sources using the APA format."
   ]
  }
 ],
 "metadata": {
  "kernelspec": {
   "display_name": "Python 3",
   "language": "python",
   "name": "python3"
  },
  "language_info": {
   "codemirror_mode": {
    "name": "ipython",
    "version": 3
   },
   "file_extension": ".py",
   "mimetype": "text/x-python",
   "name": "python",
   "nbconvert_exporter": "python",
   "pygments_lexer": "ipython3",
   "version": "3.8.8"
  }
 },
 "nbformat": 4,
 "nbformat_minor": 5
}
