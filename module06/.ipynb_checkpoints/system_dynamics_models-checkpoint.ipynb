{
 "cells": [
  {
   "cell_type": "markdown",
   "id": "14ff87ad",
   "metadata": {},
   "source": [
    "# Modelling Using Systems Dynamics\n",
    "\n",
    "## Introduction\n",
    "\n",
    "After reviewing the fundamental building blocks of the stock and flow diagram, we will build two simple models. The first model will reproduce the behaviour of an investment account and the second a credit card account.\n",
    "\n",
    "We will require some fundamental financial concepts to guide our modelling exercise in this module. Therefore, please read the following web pages in preparation for the interaction portion of the module:\n",
    "\n",
    "- Interest rates - https://www.investopedia.com/terms/i/interestrate.asp\n",
    "- Credit cards minimum payments - https://www.thebalancemoney.com/credit-card-minimum-payment-calculation-960238"
   ]
  },
  {
   "cell_type": "markdown",
   "id": "0b5a726c",
   "metadata": {},
   "source": [
    "## Concepts\n",
    "\n",
    "You will find a list of important concepts we will review in the module below.\n",
    "\n",
    "- Feedback loops\n",
    "- Interest rates\n",
    "- Investment account\n",
    "- Credit card account\n",
    "- Nonlinear growth?\n",
    "- Compounding effect"
   ]
  },
  {
   "cell_type": "markdown",
   "id": "2a27b952",
   "metadata": {},
   "source": [
    "## Interaction\n",
    "\n",
    "\n",
    "\n",
    "\n",
    "### Feeback loops\n",
    "\n",
    "The feedbacks are interactions between the elements of the system. A feedback loop is formed when two elements affect each other mutually. Though systems can behave in different manners, all behaviors stem from two types of basic feedback loops, self-reinforcing or positive feedback and self-correcting or negative feedback. A feedback is positive when a behavior increases or amplifies what is happening; these types of feedback generate exponential growth behaviors. The positive feedback loop structure and distinctive behavior can be seen in Figure 3.1.\n",
    "In contrast, negative feedbacks - Figure 3.2 - are opposed to change. The elements in these relations seek a point of equilibrium or to limit themselves.\n",
    "A feedback can be identified by the signals in the relations, which can be positive (+) or negative (-). The positive sign indicates that the effect is related positively to the cause. It is also common to use a circled arrow with the letter R in to signal positive feedbacks and the letter B for negative feedbacks.\n",
    "\n",
    "\n",
    "### Models Assumptions\n",
    "\n",
    "The annual interest rate is compounded monthly, unline some credit cards that charge interest daily.\n"
   ]
  },
  {
   "cell_type": "code",
   "execution_count": null,
   "id": "f12981b4",
   "metadata": {},
   "outputs": [],
   "source": []
  },
  {
   "cell_type": "markdown",
   "id": "cece04ff",
   "metadata": {},
   "source": [
    "## Assignment \n",
    "\n",
    "### Conceptual Option\n",
    "\n",
    "Research or reflect on what relevant elements or variables could be added to the investment and credit account models from the consumer's perspective of these financial products. Create improved diagrams connecting the additional variables identified during the research and the provided stock and flow diagrams. Include formulas or descriptions explaining the new elements and their relationships. The newly added elements and variables don't need to follow the stock and flow structure but should integrate the main elements of the models covered. Please submit a 2-3 page Word document with your diagrams and explanations. Reference the consulted sources using the APA format.\n",
    "\n",
    "\n",
    "### Hands-on Option\n",
    "\n",
    "Select two banks you are familiar with from the same country; for example, TD and National Bank from Canada. Find the current values of the variables (interest rates, minimum credit card payment, etc.) included in the models reviewed in the module. If the required data is not readily available, you can make assumptions about the values but indicate this in your report. Calibrate the models using the obtained data and simulate them. Analyze the model results of the two banks. Based on your analysis, determine which of the two banks you would recommend using. Compare your results to the online calculators provided by the selected banks to determine how accurate the model predictions are. Please submit a 1-2 page Word document summarizing your analysis. Reference the consulted sources using the APA format."
   ]
  },
  {
   "cell_type": "markdown",
   "id": "c4540c5c",
   "metadata": {},
   "source": [
    "## Recommended Readings"
   ]
  },
  {
   "cell_type": "markdown",
   "id": "a336c316",
   "metadata": {},
   "source": [
    "## Optional Readings\n",
    "\n",
    "You will find additional resources in case you would like to continue exploring the topics covered in this module below."
   ]
  }
 ],
 "metadata": {
  "kernelspec": {
   "display_name": "Python 3",
   "language": "python",
   "name": "python3"
  },
  "language_info": {
   "codemirror_mode": {
    "name": "ipython",
    "version": 3
   },
   "file_extension": ".py",
   "mimetype": "text/x-python",
   "name": "python",
   "nbconvert_exporter": "python",
   "pygments_lexer": "ipython3",
   "version": "3.8.8"
  }
 },
 "nbformat": 4,
 "nbformat_minor": 5
}
