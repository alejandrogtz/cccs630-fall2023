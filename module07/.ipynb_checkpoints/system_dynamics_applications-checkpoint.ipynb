{
 "cells": [
  {
   "cell_type": "markdown",
   "id": "5235b01e",
   "metadata": {},
   "source": [
    "# Applications of System Dynamics\n",
    "\n",
    "## Introduction\n",
    "\n",
    "After creating and simulating our first system dynamics models in the previous modules, we will embark on a more challenging modelling task. In this module, we will model and analyze different approaches or rules retirees follow to balance their income sources and their expenses. \n",
    "\n",
    "criteria\n",
    "decisions\n",
    "\n",
    "For this purpose, we will require additional financial concepts to guide our modelling exercise with system dynamics. Please read the following web pages in preparation for the interaction portion of the course:\n",
    "\n",
    "- Canadian Guaranteed Investment Certificates (GICs) - https://www.investopedia.com/terms/g/gic.asp\n",
    "- 4% Rule - https://www.investopedia.com/terms/f/four-percent-rule.asp\n",
    "- Financial Independence, Retire Early (FIRE) - https://www.investopedia.com/terms/f/financial-independence-retire-early-fire.asp "
   ]
  },
  {
   "cell_type": "markdown",
   "id": "118417f1",
   "metadata": {},
   "source": [
    "## Concepts\n",
    "\n",
    "You will find a list of important concepts we will review in the module below.\n",
    "\n",
    "- Delays\n",
    "- Non-linear behaviour\n",
    "- Information flows\n",
    "- System dynamics limitations"
   ]
  },
  {
   "cell_type": "markdown",
   "id": "da170575",
   "metadata": {},
   "source": [
    "## Interaction\n",
    "\n",
    "### Non-linearities\n",
    "\n",
    "TO DO\n",
    "\n",
    "### Delays\n",
    "\n",
    "TO DO\n",
    "\n",
    "To design system dynamics models and establish the values of its elements, we can use multiple information sources. Examples of these include, hard data like numerical data collected in company measurement programs, published research, empirical studies, or more soft knowledge captured in written descriptions, observations, mental models, and expert knowledge.\n",
    "\n",
    "these concepts mean, the main principles of system dynamics, and\n",
    "\n",
    "### System Dynamics Limitations\n",
    "\n",
    "System dynamics does not predict the future (Forrester, 1999b). The behavior of the system is generated solely by what has been included in the model. The dynamic behavior of the system is determined by the interaction between the feedback loops of a system, its structure, time delays and nonlinearities (Sterman, 2000).\n",
    "\n",
    "It is also important to mention the deficiencies or difficulties of applying system dynamics, the most important of which are summarized in the table below.\n",
    "\n",
    "\n",
    "|Concept\t|Limitations|\n",
    "| :-    | :-          |\n",
    "|Detail of the results | The results of the simulation are obtained in an aggregated fashion. It is necessary to assume averages or general rules. It is not possible to control or track individual units in the simulation. |\n",
    "| Precision of estimates generated through simulations | It is common to find differences when comparing simulation estimates with results of the real system. Several factors contribute in making system dynamics estimates inaccurate compared to the results of applying the changes in the real system. To start, the use of aggregated data decreases accuracy. Besides, it is necessary to accept that noise can exist within the system or when measuring results. Furthermore, in the perspective of system dynamics it is more important to see the changes in the behavior than having estimation accuracy. |\n",
    "| Level of detail of data used to calibrate the model | To get simulation results closest to reality, it is advisable to use data also closest to reality to calibrate the models. It is common for companies not to have the level of detail needed to calibrate the simulation models. This makes it difficult to calibrate the models with trustworthy data. Nonetheless, system dynamics minimizes this difficulty considering it is preferable to make an estimate of value over the option not to include it in the model. |\n",
    "\n",
    "\n",
    "## System Dynamics Model\n",
    "\n",
    "In this interaction, we will create and simulate a model to test different approaches retirees follow to manage their income and expenses. As first primarily objective, we want to be able to simulate two groups of retirees, one following the 4% rule and one following the FIRE movement.\n",
    "\n",
    "What stocks and rates do you identify that should included as part of the model?\n",
    "\n",
    "### Assumptions and Limitations\n",
    "\n",
    "To simplify our modelling exercise, we will asume the following:\n",
    "\n",
    "- Taxes or transaction costs will not be considered as part of the model.\n",
    "- Only liquid assests (easily convertible into cash and therefore treated as such) will be modelled.\n",
    "- Interests and inflation can be considered constants.\n",
    "\n",
    "### Instructions\n",
    "\n",
    "Participate in the exercise to create a model that can be used to study different retiree groups. \n",
    "\n",
    "- The model allow adjusts in the life style of the person (adjusting expenses because inflation).\n",
    "- The model doesn't consider additional sources of income, except from interest payments.\n",
    "\n",
    "### Improvements\n",
    "\n",
    "- Add an additional income source.\n",
    "- Adjust the life style based on savings.\n",
    "- Explore the effect of different scenarios; for example, higher or lower interest and inflation rates.\n"
   ]
  },
  {
   "cell_type": "code",
   "execution_count": null,
   "id": "cf7022f2",
   "metadata": {},
   "outputs": [],
   "source": []
  },
  {
   "cell_type": "markdown",
   "id": "833e7a78",
   "metadata": {},
   "source": [
    "## Recommended Readings"
   ]
  },
  {
   "cell_type": "markdown",
   "id": "da85647c",
   "metadata": {},
   "source": [
    "## Optional Readings\n",
    "\n",
    "You will find additional resources in case you would like to continue exploring the topics covered in this module below."
   ]
  }
 ],
 "metadata": {
  "kernelspec": {
   "display_name": "Python 3",
   "language": "python",
   "name": "python3"
  },
  "language_info": {
   "codemirror_mode": {
    "name": "ipython",
    "version": 3
   },
   "file_extension": ".py",
   "mimetype": "text/x-python",
   "name": "python",
   "nbconvert_exporter": "python",
   "pygments_lexer": "ipython3",
   "version": "3.8.8"
  }
 },
 "nbformat": 4,
 "nbformat_minor": 5
}
