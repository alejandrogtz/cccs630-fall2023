{
 "cells": [
  {
   "cell_type": "markdown",
   "id": "5235b01e",
   "metadata": {},
   "source": [
    "# Applications of System Dynamics\n",
    "\n",
    "## Introduction\n",
    "\n",
    "After creating and simulating our first system dynamics models in the two previous modules, we will embark on a more challenging modelling task. In this module, we will use systems dynamics to simulate different approaches and rules retirees follow to balance their income sources and living costs.\n",
    "\n",
    "For this purpose, we will require additional financial concepts to guide our modelling exercise. Please read the following web pages in preparation for the interaction portion of the course:\n",
    "\n",
    "- Canadian Guaranteed Investment Certificates (GICs) - https://www.investopedia.com/terms/g/gic.asp\n",
    "- 4% Rule - https://www.investopedia.com/terms/f/four-percent-rule.asp\n",
    "- Financial Independence, Retire Early (FIRE) - https://www.investopedia.com/terms/f/financial-independence-retire-early-fire.asp "
   ]
  },
  {
   "cell_type": "markdown",
   "id": "118417f1",
   "metadata": {},
   "source": [
    "## Concepts\n",
    "\n",
    "You will find a list of important concepts we will review in the module below.\n",
    "\n",
    "- Applications of system dynamics\n",
    "- Delays\n",
    "- System dynamics limitations\n",
    "- Retirement planning"
   ]
  },
  {
   "cell_type": "markdown",
   "id": "da170575",
   "metadata": {},
   "source": [
    "## Interaction\n",
    "\n",
    "## Retirement Planning Model\n",
    "\n",
    "In this interaction, we will create and simulate a model to study different approaches and rules retirees follow to balance their income and living cost. The objective is to be able to test various conditions and scenarios to determine their financial viability.  \n",
    "\n",
    "### Model Requirements\n",
    "\n",
    "- The model should consider the following main elements:\n",
    "    - Investments\n",
    "    - Savings    \n",
    "    - Living costs\n",
    "    - Inflation\n",
    "    \n",
    "### Assumptions and Limitations\n",
    "\n",
    "To simplify the model, we will assume the following:\n",
    "\n",
    "- Taxes, transaction costs, and management fees will not be considered part of the model.\n",
    "- Only liquid investment assets (easily convertible into cash and therefore treated as such) will be modelled.\n",
    "- The interest rate paid will be considered constant.\n",
    "- The inflation rate will be considered constant.\n",
    "- The model will not include additional sources of income other than interest payments.\n",
    "- The model will not include the payment of mortgages or other types of debts.\n",
    "- The retiree has only an RRSP or similar account and no pension plan.  \n",
    "- The retiree will adjust their expenses following a rule like the 4% rule.\n",
    "- Adjustments to the retiree expenses will not be immediate; it will take them some time to adjust their living costs. \n",
    "\n",
    "### Instructions\n",
    "\n",
    "- Participate in the modelling exercise. \n",
    "- As part of the exercise, consider the following questions: \n",
    "    - What is an appropriate unit of time for the model?\n",
    "    - What is a reasonable time span you would simulate?\n",
    "    - What stocks and rates do you identify that should included as part of the model?\n",
    "    - How would you connect the stocks and rates you identified?\n",
    "    - What can be represented using a constant auxiliary variable?\n",
    "- Use the following online calculators to test different and compare the results of the model:\n",
    "    - Retirement % Withdrawal Calculator - https://www.mycalculators.com/ca/retcalc2m.html\n",
    "    - Retirement Savings/Withdrawal Calculator - https://www.mycalculators.com/ca/retcalc3m.html\n",
    "    \n",
    "### System Dynamics Limitations\n",
    "\n",
    "System dynamics does not predict the future (Forrester, 1999b). The behaviour of the system is generated solely by what has been included in the model. The dynamic behaviour of the system is determined by the interaction between the feedback loops of a system, its structure, time delays and nonlinearities (Sterman, 2000).\n",
    "\n",
    "It is also important to mention the deficiencies or difficulties of applying system dynamics, the most important of which are summarized in the table below.\n",
    "\n",
    "|Concept\t|Limitations|\n",
    "| :-    | :-          |\n",
    "|Detail of the results | The results of the simulation are obtained in an aggregated fashion. It is necessary to assume averages or general rules. It is not possible to control or track individual units in the simulation. |\n",
    "| Precision of estimates generated through simulations | It is common to find differences when comparing simulation estimates with the results of the real system. Several factors contribute in making system dynamics estimates inaccurate compared to the results of applying the changes in the real system. To start, the use of aggregated data decreases accuracy. Besides, it is necessary to accept that noise can exist within the system or when measuring results. Furthermore, in the perspective of system dynamics it is more important to see the changes in the behavior than having estimation accuracy. |\n",
    "| Level of detail of data used to calibrate the model | To get simulation results closest to reality, it is advisable to use data also closest to reality to calibrate the models. It is common for companies not to have the level of detail needed to calibrate the simulation models. This makes it difficult to calibrate the models with trustworthy data. Nonetheless, system dynamics minimizes this difficulty considering it is preferable to make an estimate of value over the option not to include it in the model. |"
   ]
  },
  {
   "cell_type": "markdown",
   "id": "ff397b8c",
   "metadata": {},
   "source": [
    "## Assignment \n",
    "\n",
    "### Conceptual Option\n",
    "\n",
    "Conceive three types of retirees and simulate their retirement scenarios with the model covered in class. Use the variables <i>initial savings</i>, <i>retirement rule</i>, <i>initial living costs</i>, and <i>adjustment capacity</i> to create the three retiree types. An example of a retiree type is:\n",
    "- Retirees who follow a 5% retirement planning rule and are very strict following it, and their initial living cost is low, but have low initial savings.\n",
    "\n",
    "Assume an interest rate of 5% and an inflation rate of 2%. Configure the necessary parameters and generate the simulation results. Analyze the resulting patterns. Evaluate if the resulting patterns make sense and explain your insights. Include the graphs of the <i>Savings</i> and <i>Living Costs</i> stocks in the report for all retiree types. Submit a 2-3 page Word document with the produced graphs, descriptions, and insights. Reference the consulted sources using the APA format.\n",
    "\n",
    "### Hands-on Option\n",
    "\n",
    "Make a small change to the model structure and compare the simulation results before and after the change, assuming the same initial conditions.\n",
    "\n",
    "Here is a list of changes in order of difficulty you can choose from:\n",
    "- Add a recurrent fixed income source.\n",
    "- Add a recurrent <a href=\"https://www.investopedia.com/terms/m/managementfee.asp\">investment management fee</a>.  \n",
    "- Add an unexpected expense. To model this unexpected expense, you can use the function <a href=\"https://vensim.com/documentation/fn_pulse.html\">PULSE</a>.\n",
    "\n",
    "Compare the simulation results. Evaluate if the resulting patterns make sense and explain your insights. Include the graphs of the <i>Savings</i> and <i>Living Costs</i> stocks in the report. Submit a 1-2 page Word document with the produced graphs, descriptions, and insights. Reference the consulted sources using the APA format."
   ]
  },
  {
   "cell_type": "markdown",
   "id": "6176290b",
   "metadata": {},
   "source": [
    "## Recommended Videos\n",
    "\n",
    "- Frontline. (2013, April 23). Retirement gamble (Season 2013: Episode 8). PBS. https://www.pbs.org/wgbh/frontline/documentary/retirement-gamble/"
   ]
  }
 ],
 "metadata": {
  "kernelspec": {
   "display_name": "Python 3",
   "language": "python",
   "name": "python3"
  },
  "language_info": {
   "codemirror_mode": {
    "name": "ipython",
    "version": 3
   },
   "file_extension": ".py",
   "mimetype": "text/x-python",
   "name": "python",
   "nbconvert_exporter": "python",
   "pygments_lexer": "ipython3",
   "version": "3.8.8"
  }
 },
 "nbformat": 4,
 "nbformat_minor": 5
}
