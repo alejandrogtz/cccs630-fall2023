{
 "cells": [
  {
   "cell_type": "markdown",
   "id": "5235b01e",
   "metadata": {},
   "source": [
    "# Applications of System Dynamics\n",
    "\n",
    "## Introduction\n",
    "\n",
    "We will require a few financial concepts to guide our modelling exercise with system dynamics in this module, so in preparation for the interaction portion of the course, please read the following web pages:\n",
    "\n",
    "- Interest rates - https://www.investopedia.com/terms/i/interestrate.asp\n",
    "- Canadian Guaranteed Investment Certificates (GICs) - https://www.investopedia.com/terms/g/gic.asp\n",
    "- 4% Rule - https://www.investopedia.com/terms/f/four-percent-rule.asp"
   ]
  },
  {
   "cell_type": "markdown",
   "id": "118417f1",
   "metadata": {},
   "source": [
    "## Concepts\n",
    "\n",
    "You will find a list of important concepts we will review in the module below.\n",
    "\n",
    "- Delays\n",
    "- Non-linear behaviour\n",
    "- Information flows"
   ]
  },
  {
   "cell_type": "markdown",
   "id": "da170575",
   "metadata": {},
   "source": [
    "## Interaction\n",
    "\n",
    "### Non-linearities\n",
    "\n",
    "TO DO\n",
    "\n",
    "### Delays\n",
    "\n",
    "TO DO\n",
    "\n",
    "## System Dynamics Model\n",
    "\n",
    "### Assumptions and Limitations\n",
    "\n",
    "- The model doesn't include taxes or transaction costs.\n",
    "- The model assumes only liquid assests (easily convertible into cash).\n",
    "\n",
    "- The model allow adjusts in the life style of the person (adjusting expenses because inflation).\n",
    "- The model assumes constant interest and inflation rates.\n",
    "- The model doesn't consider additional sources of income, except from interest payments.\n",
    "\n",
    "### Improvements\n",
    "\n",
    "- Add an additional income source.\n",
    "- Adjust the life style based on savings.\n",
    "- Explore the effect of different scenarios; for example, higher or lower interest and inflation rates.\n"
   ]
  },
  {
   "cell_type": "code",
   "execution_count": null,
   "id": "cf7022f2",
   "metadata": {},
   "outputs": [],
   "source": []
  },
  {
   "cell_type": "markdown",
   "id": "833e7a78",
   "metadata": {},
   "source": [
    "## Recommended Readings"
   ]
  },
  {
   "cell_type": "markdown",
   "id": "da85647c",
   "metadata": {},
   "source": [
    "## Optional Readings\n",
    "\n",
    "You will find additional resources in case you would like to continue exploring the topics covered in this module below."
   ]
  }
 ],
 "metadata": {
  "kernelspec": {
   "display_name": "Python 3",
   "language": "python",
   "name": "python3"
  },
  "language_info": {
   "codemirror_mode": {
    "name": "ipython",
    "version": 3
   },
   "file_extension": ".py",
   "mimetype": "text/x-python",
   "name": "python",
   "nbconvert_exporter": "python",
   "pygments_lexer": "ipython3",
   "version": "3.8.8"
  }
 },
 "nbformat": 4,
 "nbformat_minor": 5
}
